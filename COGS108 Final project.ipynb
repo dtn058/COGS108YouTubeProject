{
 "cells": [
  {
   "cell_type": "code",
   "execution_count": 1,
   "metadata": {},
   "outputs": [],
   "source": [
    "import numpy as np\n",
    "import matplotlib.pyplot as plt\n",
    "import pandas as pd\n",
    "\n"
   ]
  },
  {
   "cell_type": "code",
   "execution_count": 2,
   "metadata": {},
   "outputs": [],
   "source": [
    "youtube = pd.read_csv(\"USvideos.csv\")\n",
    "youtube = youtube[youtube['category_id']==26]"
   ]
  },
  {
   "cell_type": "markdown",
   "metadata": {},
   "source": [
    "# Create a dataframe called \"youtube\"\n",
    "We will only keep the columns 'title', 'tags', 'views', 'trending_date', and 'publish_time'. We also drop any rows with null values."
   ]
  },
  {
   "cell_type": "code",
   "execution_count": 3,
   "metadata": {},
   "outputs": [
    {
     "data": {
      "text/html": [
       "<div>\n",
       "<style scoped>\n",
       "    .dataframe tbody tr th:only-of-type {\n",
       "        vertical-align: middle;\n",
       "    }\n",
       "\n",
       "    .dataframe tbody tr th {\n",
       "        vertical-align: top;\n",
       "    }\n",
       "\n",
       "    .dataframe thead th {\n",
       "        text-align: right;\n",
       "    }\n",
       "</style>\n",
       "<table border=\"1\" class=\"dataframe\">\n",
       "  <thead>\n",
       "    <tr style=\"text-align: right;\">\n",
       "      <th></th>\n",
       "      <th>title</th>\n",
       "      <th>tags</th>\n",
       "      <th>views</th>\n",
       "      <th>trending_date</th>\n",
       "      <th>publish_time</th>\n",
       "    </tr>\n",
       "  </thead>\n",
       "  <tbody>\n",
       "    <tr>\n",
       "      <th>0</th>\n",
       "      <td>What $4,800 Will Get You In NYC | Sweet Digs H...</td>\n",
       "      <td>refinery29|\"refinery 29\"|\"r29\"|\"r29 video\"|\"vi...</td>\n",
       "      <td>145921</td>\n",
       "      <td>17.14.11</td>\n",
       "      <td>2017-11-12T16:00:01.000Z</td>\n",
       "    </tr>\n",
       "    <tr>\n",
       "      <th>1</th>\n",
       "      <td>A Smart... MUG?! - Take apart a Heated Thermos!</td>\n",
       "      <td>Smart mug|\"Heated thermos\"|\"tech\"|\"gift idea\"|...</td>\n",
       "      <td>120727</td>\n",
       "      <td>17.14.11</td>\n",
       "      <td>2017-11-13T16:00:03.000Z</td>\n",
       "    </tr>\n",
       "    <tr>\n",
       "      <th>2</th>\n",
       "      <td>iPhone X vs Makeup Transformation (Face ID TEST)</td>\n",
       "      <td>iphone x|\"iphonex makeup\"|\"iphonex test\"|\"new ...</td>\n",
       "      <td>1456472</td>\n",
       "      <td>17.14.11</td>\n",
       "      <td>2017-11-12T00:45:54.000Z</td>\n",
       "    </tr>\n",
       "    <tr>\n",
       "      <th>3</th>\n",
       "      <td>John Lewis Christmas Ad 2017 - #MozTheMonster</td>\n",
       "      <td>christmas|\"john lewis christmas\"|\"john lewis\"|...</td>\n",
       "      <td>7224515</td>\n",
       "      <td>17.14.11</td>\n",
       "      <td>2017-11-10T07:38:29.000Z</td>\n",
       "    </tr>\n",
       "    <tr>\n",
       "      <th>4</th>\n",
       "      <td>A VERY #EXTRA EBAY SHOPPING HAUL!</td>\n",
       "      <td>ebay|\"haul\"|\"cheap\"|\"challenge\"|\"extra\"|\"amber...</td>\n",
       "      <td>484185</td>\n",
       "      <td>17.14.11</td>\n",
       "      <td>2017-11-11T02:42:23.000Z</td>\n",
       "    </tr>\n",
       "  </tbody>\n",
       "</table>\n",
       "</div>"
      ],
      "text/plain": [
       "                                               title  \\\n",
       "0  What $4,800 Will Get You In NYC | Sweet Digs H...   \n",
       "1    A Smart... MUG?! - Take apart a Heated Thermos!   \n",
       "2   iPhone X vs Makeup Transformation (Face ID TEST)   \n",
       "3      John Lewis Christmas Ad 2017 - #MozTheMonster   \n",
       "4                  A VERY #EXTRA EBAY SHOPPING HAUL!   \n",
       "\n",
       "                                                tags    views trending_date  \\\n",
       "0  refinery29|\"refinery 29\"|\"r29\"|\"r29 video\"|\"vi...   145921      17.14.11   \n",
       "1  Smart mug|\"Heated thermos\"|\"tech\"|\"gift idea\"|...   120727      17.14.11   \n",
       "2  iphone x|\"iphonex makeup\"|\"iphonex test\"|\"new ...  1456472      17.14.11   \n",
       "3  christmas|\"john lewis christmas\"|\"john lewis\"|...  7224515      17.14.11   \n",
       "4  ebay|\"haul\"|\"cheap\"|\"challenge\"|\"extra\"|\"amber...   484185      17.14.11   \n",
       "\n",
       "               publish_time  \n",
       "0  2017-11-12T16:00:01.000Z  \n",
       "1  2017-11-13T16:00:03.000Z  \n",
       "2  2017-11-12T00:45:54.000Z  \n",
       "3  2017-11-10T07:38:29.000Z  \n",
       "4  2017-11-11T02:42:23.000Z  "
      ]
     },
     "execution_count": 3,
     "metadata": {},
     "output_type": "execute_result"
    }
   ],
   "source": [
    "youtube = youtube[['title','tags','views','trending_date','publish_time']]\n",
    "youtube.reset_index(drop=True, inplace=True)\n",
    "youtube = youtube.dropna()\n",
    "youtube.head()"
   ]
  },
  {
   "cell_type": "code",
   "execution_count": 4,
   "metadata": {},
   "outputs": [
    {
     "data": {
      "text/plain": [
       "20730"
      ]
     },
     "execution_count": 4,
     "metadata": {},
     "output_type": "execute_result"
    }
   ],
   "source": [
    "youtube.size"
   ]
  },
  {
   "cell_type": "markdown",
   "metadata": {},
   "source": [
    "# Process tags into our dataframe\n",
    "We store tags of each video in a list, which we keep in the variable 'new_tags'. \n",
    "\n",
    "We store the number of tags of each video in a list, which we keep in the variable 'count_tags'\n",
    "\n",
    "Finally, we add the number of each tag into youtube['count_tags'] and update the string of tags with the list of tags in youtube['tags']"
   ]
  },
  {
   "cell_type": "code",
   "execution_count": 5,
   "metadata": {},
   "outputs": [
    {
     "data": {
      "text/html": [
       "<div>\n",
       "<style scoped>\n",
       "    .dataframe tbody tr th:only-of-type {\n",
       "        vertical-align: middle;\n",
       "    }\n",
       "\n",
       "    .dataframe tbody tr th {\n",
       "        vertical-align: top;\n",
       "    }\n",
       "\n",
       "    .dataframe thead th {\n",
       "        text-align: right;\n",
       "    }\n",
       "</style>\n",
       "<table border=\"1\" class=\"dataframe\">\n",
       "  <thead>\n",
       "    <tr style=\"text-align: right;\">\n",
       "      <th></th>\n",
       "      <th>title</th>\n",
       "      <th>tags</th>\n",
       "      <th>views</th>\n",
       "      <th>trending_date</th>\n",
       "      <th>publish_time</th>\n",
       "      <th>count_tags</th>\n",
       "    </tr>\n",
       "  </thead>\n",
       "  <tbody>\n",
       "    <tr>\n",
       "      <th>0</th>\n",
       "      <td>What $4,800 Will Get You In NYC | Sweet Digs H...</td>\n",
       "      <td>[refinery29, \"refinery 29\", \"r29\", \"r29 video\"...</td>\n",
       "      <td>145921</td>\n",
       "      <td>17.14.11</td>\n",
       "      <td>2017-11-12T16:00:01.000Z</td>\n",
       "      <td>35</td>\n",
       "    </tr>\n",
       "    <tr>\n",
       "      <th>1</th>\n",
       "      <td>A Smart... MUG?! - Take apart a Heated Thermos!</td>\n",
       "      <td>[Smart mug, \"Heated thermos\", \"tech\", \"gift id...</td>\n",
       "      <td>120727</td>\n",
       "      <td>17.14.11</td>\n",
       "      <td>2017-11-13T16:00:03.000Z</td>\n",
       "      <td>18</td>\n",
       "    </tr>\n",
       "    <tr>\n",
       "      <th>2</th>\n",
       "      <td>iPhone X vs Makeup Transformation (Face ID TEST)</td>\n",
       "      <td>[iphone x, \"iphonex makeup\", \"iphonex test\", \"...</td>\n",
       "      <td>1456472</td>\n",
       "      <td>17.14.11</td>\n",
       "      <td>2017-11-12T00:45:54.000Z</td>\n",
       "      <td>17</td>\n",
       "    </tr>\n",
       "    <tr>\n",
       "      <th>3</th>\n",
       "      <td>John Lewis Christmas Ad 2017 - #MozTheMonster</td>\n",
       "      <td>[christmas, \"john lewis christmas\", \"john lewi...</td>\n",
       "      <td>7224515</td>\n",
       "      <td>17.14.11</td>\n",
       "      <td>2017-11-10T07:38:29.000Z</td>\n",
       "      <td>9</td>\n",
       "    </tr>\n",
       "    <tr>\n",
       "      <th>4</th>\n",
       "      <td>A VERY #EXTRA EBAY SHOPPING HAUL!</td>\n",
       "      <td>[ebay, \"haul\", \"cheap\", \"challenge\", \"extra\", ...</td>\n",
       "      <td>484185</td>\n",
       "      <td>17.14.11</td>\n",
       "      <td>2017-11-11T02:42:23.000Z</td>\n",
       "      <td>12</td>\n",
       "    </tr>\n",
       "    <tr>\n",
       "      <th>5</th>\n",
       "      <td>EXTREME GOLDEN TAN TRANSFORMATION</td>\n",
       "      <td>[Extreme Tan, \"Tanning\", \"Tanning Bed\", \"How t...</td>\n",
       "      <td>300617</td>\n",
       "      <td>17.14.11</td>\n",
       "      <td>2017-11-10T20:40:44.000Z</td>\n",
       "      <td>13</td>\n",
       "    </tr>\n",
       "    <tr>\n",
       "      <th>6</th>\n",
       "      <td>Inside the Cheese-Aging Caves 30 Feet Under Br...</td>\n",
       "      <td>[cave, \"cheese\", \"goat\", \"rind\", \"sheep's milk...</td>\n",
       "      <td>92523</td>\n",
       "      <td>17.14.11</td>\n",
       "      <td>2017-11-10T16:01:04.000Z</td>\n",
       "      <td>28</td>\n",
       "    </tr>\n",
       "    <tr>\n",
       "      <th>7</th>\n",
       "      <td>ICE PRIMER? DOES IT WORK?!</td>\n",
       "      <td>[ice primer, \"beauty hack\", \"weird beauty hack...</td>\n",
       "      <td>103927</td>\n",
       "      <td>17.14.11</td>\n",
       "      <td>2017-11-11T05:23:36.000Z</td>\n",
       "      <td>5</td>\n",
       "    </tr>\n",
       "    <tr>\n",
       "      <th>8</th>\n",
       "      <td>How To Dry a Shirt in 30 Seconds</td>\n",
       "      <td>[how to dry a shirt in 30 seconds, \"how to dry...</td>\n",
       "      <td>2063667</td>\n",
       "      <td>17.14.11</td>\n",
       "      <td>2017-11-09T18:36:48.000Z</td>\n",
       "      <td>9</td>\n",
       "    </tr>\n",
       "    <tr>\n",
       "      <th>9</th>\n",
       "      <td>Surprise After Surprise | October Vlog</td>\n",
       "      <td>[jenn im, \"jenn im vlog\", \"imjennim\", \"october...</td>\n",
       "      <td>247319</td>\n",
       "      <td>17.14.11</td>\n",
       "      <td>2017-11-10T18:42:55.000Z</td>\n",
       "      <td>9</td>\n",
       "    </tr>\n",
       "    <tr>\n",
       "      <th>10</th>\n",
       "      <td>SECRETS REVEALED! HOW I LAY MY LACE WIGS! | AA...</td>\n",
       "      <td>[11-8-17]</td>\n",
       "      <td>219030</td>\n",
       "      <td>17.14.11</td>\n",
       "      <td>2017-11-10T01:30:00.000Z</td>\n",
       "      <td>1</td>\n",
       "    </tr>\n",
       "    <tr>\n",
       "      <th>11</th>\n",
       "      <td>Everything I Wore This Week! Outfit Diary 1</td>\n",
       "      <td>[Dina, \"Tokio\", \"Dinatokio\", \"Torkia\", \"Hijab\"...</td>\n",
       "      <td>72626</td>\n",
       "      <td>17.14.11</td>\n",
       "      <td>2017-11-10T22:22:04.000Z</td>\n",
       "      <td>52</td>\n",
       "    </tr>\n",
       "    <tr>\n",
       "      <th>12</th>\n",
       "      <td>Three meals that cost me $1.50 each</td>\n",
       "      <td>[brothers green eats, \"budget cooking\", \"cooki...</td>\n",
       "      <td>77630</td>\n",
       "      <td>17.14.11</td>\n",
       "      <td>2017-11-09T14:00:08.000Z</td>\n",
       "      <td>19</td>\n",
       "    </tr>\n",
       "    <tr>\n",
       "      <th>13</th>\n",
       "      <td>Chapter 28: I Love My Baby But, I Miss My Dad</td>\n",
       "      <td>[Whitney Port, \"I Love My Baby But\", \"Grief\", ...</td>\n",
       "      <td>55398</td>\n",
       "      <td>17.14.11</td>\n",
       "      <td>2017-11-09T17:22:40.000Z</td>\n",
       "      <td>6</td>\n",
       "    </tr>\n",
       "    <tr>\n",
       "      <th>14</th>\n",
       "      <td>FACE SURGERY WITH MAKEUP</td>\n",
       "      <td>[makeup, \"makeup tutorial\", \"surgery\", \"transf...</td>\n",
       "      <td>471266</td>\n",
       "      <td>17.14.11</td>\n",
       "      <td>2017-11-09T03:27:36.000Z</td>\n",
       "      <td>28</td>\n",
       "    </tr>\n",
       "    <tr>\n",
       "      <th>15</th>\n",
       "      <td>Chocolate Orange Autumn Cupcakes | Cupcake Jemma</td>\n",
       "      <td>[cupcakes, \"cupcake\", \"cup cake\", \"cake\", \"cak...</td>\n",
       "      <td>122669</td>\n",
       "      <td>17.14.11</td>\n",
       "      <td>2017-11-09T18:30:01.000Z</td>\n",
       "      <td>36</td>\n",
       "    </tr>\n",
       "    <tr>\n",
       "      <th>16</th>\n",
       "      <td>My Every Day Autumn Makeup | Zoella</td>\n",
       "      <td>[zoe sugg, \"zoe\", \"sugg\", \"zoella\", \"beauty\", ...</td>\n",
       "      <td>1390440</td>\n",
       "      <td>17.14.11</td>\n",
       "      <td>2017-11-08T18:24:16.000Z</td>\n",
       "      <td>22</td>\n",
       "    </tr>\n",
       "    <tr>\n",
       "      <th>17</th>\n",
       "      <td>TOTAL FAIL! NATASHA DENONA HOLIDAY WTF</td>\n",
       "      <td>[YouTube, \"Beauty\", \"Makeup\", \"Tutorial\", \"Rev...</td>\n",
       "      <td>1277364</td>\n",
       "      <td>17.14.11</td>\n",
       "      <td>2017-11-08T18:00:05.000Z</td>\n",
       "      <td>29</td>\n",
       "    </tr>\n",
       "    <tr>\n",
       "      <th>18</th>\n",
       "      <td>How I Trained My Cats</td>\n",
       "      <td>[how, \"trained\", \"cat\", \"cats\", \"train\", \"how ...</td>\n",
       "      <td>977285</td>\n",
       "      <td>17.15.11</td>\n",
       "      <td>2017-11-14T12:06:56.000Z</td>\n",
       "      <td>27</td>\n",
       "    </tr>\n",
       "    <tr>\n",
       "      <th>19</th>\n",
       "      <td>Is the Morphe 3502 Palette Worth the Hype? | J...</td>\n",
       "      <td>[morphe, \"morphe 350\", \"morphe 3502 review\", \"...</td>\n",
       "      <td>175539</td>\n",
       "      <td>17.15.11</td>\n",
       "      <td>2017-11-14T21:03:47.000Z</td>\n",
       "      <td>7</td>\n",
       "    </tr>\n",
       "    <tr>\n",
       "      <th>20</th>\n",
       "      <td>Japanese Food Tour with Frank Pinello and Saku...</td>\n",
       "      <td>[First we feast, \"fwf\", \"firstwefeast\", \"food\"...</td>\n",
       "      <td>145100</td>\n",
       "      <td>17.15.11</td>\n",
       "      <td>2017-11-14T16:00:01.000Z</td>\n",
       "      <td>26</td>\n",
       "    </tr>\n",
       "    <tr>\n",
       "      <th>21</th>\n",
       "      <td>EARL GREY MACARONS- The Scran Line</td>\n",
       "      <td>[cupcakes, \"how to make vanilla cupcakes\", \"ov...</td>\n",
       "      <td>20778</td>\n",
       "      <td>17.15.11</td>\n",
       "      <td>2017-11-14T14:01:36.000Z</td>\n",
       "      <td>13</td>\n",
       "    </tr>\n",
       "    <tr>\n",
       "      <th>22</th>\n",
       "      <td>Why a New York Ice Cream Shop is Releasing Ham...</td>\n",
       "      <td>[ham, \"ice cream\", \"candied\", \"candy\", \"pineap...</td>\n",
       "      <td>31639</td>\n",
       "      <td>17.15.11</td>\n",
       "      <td>2017-11-13T15:00:03.000Z</td>\n",
       "      <td>43</td>\n",
       "    </tr>\n",
       "    <tr>\n",
       "      <th>23</th>\n",
       "      <td>What $4,800 Will Get You In NYC | Sweet Digs H...</td>\n",
       "      <td>[refinery29, \"refinery 29\", \"r29\", \"r29 video\"...</td>\n",
       "      <td>225044</td>\n",
       "      <td>17.15.11</td>\n",
       "      <td>2017-11-12T16:00:01.000Z</td>\n",
       "      <td>35</td>\n",
       "    </tr>\n",
       "    <tr>\n",
       "      <th>24</th>\n",
       "      <td>A Smart... MUG?! - Take apart a Heated Thermos!</td>\n",
       "      <td>[Smart mug, \"Heated thermos\", \"tech\", \"gift id...</td>\n",
       "      <td>231104</td>\n",
       "      <td>17.15.11</td>\n",
       "      <td>2017-11-13T16:00:03.000Z</td>\n",
       "      <td>18</td>\n",
       "    </tr>\n",
       "    <tr>\n",
       "      <th>25</th>\n",
       "      <td>iPhone X vs Makeup Transformation (Face ID TEST)</td>\n",
       "      <td>[iphone x, \"iphonex makeup\", \"iphonex test\", \"...</td>\n",
       "      <td>1775997</td>\n",
       "      <td>17.15.11</td>\n",
       "      <td>2017-11-12T00:45:54.000Z</td>\n",
       "      <td>17</td>\n",
       "    </tr>\n",
       "    <tr>\n",
       "      <th>26</th>\n",
       "      <td>John Lewis Christmas Ad 2017 - #MozTheMonster</td>\n",
       "      <td>[christmas, \"john lewis christmas\", \"john lewi...</td>\n",
       "      <td>7563254</td>\n",
       "      <td>17.15.11</td>\n",
       "      <td>2017-11-10T07:38:29.000Z</td>\n",
       "      <td>9</td>\n",
       "    </tr>\n",
       "    <tr>\n",
       "      <th>27</th>\n",
       "      <td>A VERY #EXTRA EBAY SHOPPING HAUL!</td>\n",
       "      <td>[ebay, \"haul\", \"cheap\", \"challenge\", \"extra\", ...</td>\n",
       "      <td>515525</td>\n",
       "      <td>17.15.11</td>\n",
       "      <td>2017-11-11T02:42:23.000Z</td>\n",
       "      <td>12</td>\n",
       "    </tr>\n",
       "    <tr>\n",
       "      <th>28</th>\n",
       "      <td>EXTREME GOLDEN TAN TRANSFORMATION</td>\n",
       "      <td>[Extreme Tan, \"Tanning\", \"Tanning Bed\", \"How t...</td>\n",
       "      <td>366892</td>\n",
       "      <td>17.15.11</td>\n",
       "      <td>2017-11-10T20:40:44.000Z</td>\n",
       "      <td>13</td>\n",
       "    </tr>\n",
       "    <tr>\n",
       "      <th>29</th>\n",
       "      <td>ICE PRIMER? DOES IT WORK?!</td>\n",
       "      <td>[ice primer, \"beauty hack\", \"weird beauty hack...</td>\n",
       "      <td>118316</td>\n",
       "      <td>17.15.11</td>\n",
       "      <td>2017-11-11T05:23:36.000Z</td>\n",
       "      <td>5</td>\n",
       "    </tr>\n",
       "    <tr>\n",
       "      <th>30</th>\n",
       "      <td>How To Dry a Shirt in 30 Seconds</td>\n",
       "      <td>[how to dry a shirt in 30 seconds, \"how to dry...</td>\n",
       "      <td>2244971</td>\n",
       "      <td>17.15.11</td>\n",
       "      <td>2017-11-09T18:36:48.000Z</td>\n",
       "      <td>9</td>\n",
       "    </tr>\n",
       "    <tr>\n",
       "      <th>31</th>\n",
       "      <td>Inside the Cheese-Aging Caves 30 Feet Under Br...</td>\n",
       "      <td>[cave, \"cheese\", \"goat\", \"rind\", \"sheep's milk...</td>\n",
       "      <td>99019</td>\n",
       "      <td>17.15.11</td>\n",
       "      <td>2017-11-10T16:01:04.000Z</td>\n",
       "      <td>28</td>\n",
       "    </tr>\n",
       "    <tr>\n",
       "      <th>32</th>\n",
       "      <td>Surprise After Surprise | October Vlog</td>\n",
       "      <td>[jenn im, \"jenn im vlog\", \"imjennim\", \"october...</td>\n",
       "      <td>269509</td>\n",
       "      <td>17.15.11</td>\n",
       "      <td>2017-11-10T18:42:55.000Z</td>\n",
       "      <td>9</td>\n",
       "    </tr>\n",
       "    <tr>\n",
       "      <th>33</th>\n",
       "      <td>SECRETS REVEALED! HOW I LAY MY LACE WIGS! | AA...</td>\n",
       "      <td>[11-8-17]</td>\n",
       "      <td>232083</td>\n",
       "      <td>17.15.11</td>\n",
       "      <td>2017-11-10T01:30:00.000Z</td>\n",
       "      <td>1</td>\n",
       "    </tr>\n",
       "    <tr>\n",
       "      <th>34</th>\n",
       "      <td>Everything I Wore This Week! Outfit Diary 1</td>\n",
       "      <td>[Dina, \"Tokio\", \"Dinatokio\", \"Torkia\", \"Hijab\"...</td>\n",
       "      <td>77302</td>\n",
       "      <td>17.15.11</td>\n",
       "      <td>2017-11-10T22:22:04.000Z</td>\n",
       "      <td>52</td>\n",
       "    </tr>\n",
       "    <tr>\n",
       "      <th>35</th>\n",
       "      <td>Pumpkin Pie - You Suck at Cooking (episode 68)</td>\n",
       "      <td>[Forest, \"Cooking\", \"recipe\", \"chef\", \"how to\"...</td>\n",
       "      <td>387902</td>\n",
       "      <td>17.16.11</td>\n",
       "      <td>2017-11-15T14:52:38.000Z</td>\n",
       "      <td>15</td>\n",
       "    </tr>\n",
       "    <tr>\n",
       "      <th>36</th>\n",
       "      <td>How I Trained My Cats</td>\n",
       "      <td>[how, \"trained\", \"cat\", \"cats\", \"train\", \"how ...</td>\n",
       "      <td>1961066</td>\n",
       "      <td>17.16.11</td>\n",
       "      <td>2017-11-14T12:06:56.000Z</td>\n",
       "      <td>27</td>\n",
       "    </tr>\n",
       "    <tr>\n",
       "      <th>37</th>\n",
       "      <td>♡ SILVER PLAYBUTTON UNBOXING (and making it cu...</td>\n",
       "      <td>[jillian vessey, \"pixielocks\", \"pink\", \"silver...</td>\n",
       "      <td>17901</td>\n",
       "      <td>17.16.11</td>\n",
       "      <td>2017-11-15T15:17:28.000Z</td>\n",
       "      <td>8</td>\n",
       "    </tr>\n",
       "    <tr>\n",
       "      <th>38</th>\n",
       "      <td>Is the Morphe 3502 Palette Worth the Hype? | J...</td>\n",
       "      <td>[morphe, \"morphe 350\", \"morphe 3502 review\", \"...</td>\n",
       "      <td>290124</td>\n",
       "      <td>17.16.11</td>\n",
       "      <td>2017-11-14T21:03:47.000Z</td>\n",
       "      <td>7</td>\n",
       "    </tr>\n",
       "    <tr>\n",
       "      <th>39</th>\n",
       "      <td>Japanese Food Tour with Frank Pinello and Saku...</td>\n",
       "      <td>[First we feast, \"fwf\", \"firstwefeast\", \"food\"...</td>\n",
       "      <td>196434</td>\n",
       "      <td>17.16.11</td>\n",
       "      <td>2017-11-14T16:00:01.000Z</td>\n",
       "      <td>26</td>\n",
       "    </tr>\n",
       "    <tr>\n",
       "      <th>40</th>\n",
       "      <td>EARL GREY MACARONS- The Scran Line</td>\n",
       "      <td>[cupcakes, \"how to make vanilla cupcakes\", \"ov...</td>\n",
       "      <td>31076</td>\n",
       "      <td>17.16.11</td>\n",
       "      <td>2017-11-14T14:01:36.000Z</td>\n",
       "      <td>13</td>\n",
       "    </tr>\n",
       "    <tr>\n",
       "      <th>41</th>\n",
       "      <td>What $4,800 Will Get You In NYC | Sweet Digs H...</td>\n",
       "      <td>[refinery29, \"refinery 29\", \"r29\", \"r29 video\"...</td>\n",
       "      <td>237111</td>\n",
       "      <td>17.16.11</td>\n",
       "      <td>2017-11-12T16:00:01.000Z</td>\n",
       "      <td>35</td>\n",
       "    </tr>\n",
       "    <tr>\n",
       "      <th>42</th>\n",
       "      <td>A Smart... MUG?! - Take apart a Heated Thermos!</td>\n",
       "      <td>[Smart mug, \"Heated thermos\", \"tech\", \"gift id...</td>\n",
       "      <td>248499</td>\n",
       "      <td>17.16.11</td>\n",
       "      <td>2017-11-13T16:00:03.000Z</td>\n",
       "      <td>18</td>\n",
       "    </tr>\n",
       "    <tr>\n",
       "      <th>43</th>\n",
       "      <td>Why a New York Ice Cream Shop is Releasing Ham...</td>\n",
       "      <td>[ham, \"ice cream\", \"candied\", \"candy\", \"pineap...</td>\n",
       "      <td>33513</td>\n",
       "      <td>17.16.11</td>\n",
       "      <td>2017-11-13T15:00:03.000Z</td>\n",
       "      <td>43</td>\n",
       "    </tr>\n",
       "    <tr>\n",
       "      <th>44</th>\n",
       "      <td>iPhone X vs Makeup Transformation (Face ID TEST)</td>\n",
       "      <td>[iphone x, \"iphonex makeup\", \"iphonex test\", \"...</td>\n",
       "      <td>1826373</td>\n",
       "      <td>17.16.11</td>\n",
       "      <td>2017-11-12T00:45:54.000Z</td>\n",
       "      <td>17</td>\n",
       "    </tr>\n",
       "    <tr>\n",
       "      <th>45</th>\n",
       "      <td>John Lewis Christmas Ad 2017 - #MozTheMonster</td>\n",
       "      <td>[christmas, \"john lewis christmas\", \"john lewi...</td>\n",
       "      <td>7727696</td>\n",
       "      <td>17.16.11</td>\n",
       "      <td>2017-11-10T07:38:29.000Z</td>\n",
       "      <td>9</td>\n",
       "    </tr>\n",
       "    <tr>\n",
       "      <th>46</th>\n",
       "      <td>A VERY #EXTRA EBAY SHOPPING HAUL!</td>\n",
       "      <td>[ebay, \"haul\", \"cheap\", \"challenge\", \"extra\", ...</td>\n",
       "      <td>525210</td>\n",
       "      <td>17.16.11</td>\n",
       "      <td>2017-11-11T02:42:23.000Z</td>\n",
       "      <td>12</td>\n",
       "    </tr>\n",
       "    <tr>\n",
       "      <th>47</th>\n",
       "      <td>EXTREME GOLDEN TAN TRANSFORMATION</td>\n",
       "      <td>[Extreme Tan, \"Tanning\", \"Tanning Bed\", \"How t...</td>\n",
       "      <td>390261</td>\n",
       "      <td>17.16.11</td>\n",
       "      <td>2017-11-10T20:40:44.000Z</td>\n",
       "      <td>13</td>\n",
       "    </tr>\n",
       "    <tr>\n",
       "      <th>48</th>\n",
       "      <td>ICE PRIMER? DOES IT WORK?!</td>\n",
       "      <td>[ice primer, \"beauty hack\", \"weird beauty hack...</td>\n",
       "      <td>122772</td>\n",
       "      <td>17.16.11</td>\n",
       "      <td>2017-11-11T05:23:36.000Z</td>\n",
       "      <td>5</td>\n",
       "    </tr>\n",
       "    <tr>\n",
       "      <th>49</th>\n",
       "      <td>How To Dry a Shirt in 30 Seconds</td>\n",
       "      <td>[how to dry a shirt in 30 seconds, \"how to dry...</td>\n",
       "      <td>2291077</td>\n",
       "      <td>17.16.11</td>\n",
       "      <td>2017-11-09T18:36:48.000Z</td>\n",
       "      <td>9</td>\n",
       "    </tr>\n",
       "  </tbody>\n",
       "</table>\n",
       "</div>"
      ],
      "text/plain": [
       "                                                title  \\\n",
       "0   What $4,800 Will Get You In NYC | Sweet Digs H...   \n",
       "1     A Smart... MUG?! - Take apart a Heated Thermos!   \n",
       "2    iPhone X vs Makeup Transformation (Face ID TEST)   \n",
       "3       John Lewis Christmas Ad 2017 - #MozTheMonster   \n",
       "4                   A VERY #EXTRA EBAY SHOPPING HAUL!   \n",
       "5                   EXTREME GOLDEN TAN TRANSFORMATION   \n",
       "6   Inside the Cheese-Aging Caves 30 Feet Under Br...   \n",
       "7                          ICE PRIMER? DOES IT WORK?!   \n",
       "8                    How To Dry a Shirt in 30 Seconds   \n",
       "9              Surprise After Surprise | October Vlog   \n",
       "10  SECRETS REVEALED! HOW I LAY MY LACE WIGS! | AA...   \n",
       "11        Everything I Wore This Week! Outfit Diary 1   \n",
       "12                Three meals that cost me $1.50 each   \n",
       "13      Chapter 28: I Love My Baby But, I Miss My Dad   \n",
       "14                           FACE SURGERY WITH MAKEUP   \n",
       "15   Chocolate Orange Autumn Cupcakes | Cupcake Jemma   \n",
       "16                My Every Day Autumn Makeup | Zoella   \n",
       "17             TOTAL FAIL! NATASHA DENONA HOLIDAY WTF   \n",
       "18                              How I Trained My Cats   \n",
       "19  Is the Morphe 3502 Palette Worth the Hype? | J...   \n",
       "20  Japanese Food Tour with Frank Pinello and Saku...   \n",
       "21                 EARL GREY MACARONS- The Scran Line   \n",
       "22  Why a New York Ice Cream Shop is Releasing Ham...   \n",
       "23  What $4,800 Will Get You In NYC | Sweet Digs H...   \n",
       "24    A Smart... MUG?! - Take apart a Heated Thermos!   \n",
       "25   iPhone X vs Makeup Transformation (Face ID TEST)   \n",
       "26      John Lewis Christmas Ad 2017 - #MozTheMonster   \n",
       "27                  A VERY #EXTRA EBAY SHOPPING HAUL!   \n",
       "28                  EXTREME GOLDEN TAN TRANSFORMATION   \n",
       "29                         ICE PRIMER? DOES IT WORK?!   \n",
       "30                   How To Dry a Shirt in 30 Seconds   \n",
       "31  Inside the Cheese-Aging Caves 30 Feet Under Br...   \n",
       "32             Surprise After Surprise | October Vlog   \n",
       "33  SECRETS REVEALED! HOW I LAY MY LACE WIGS! | AA...   \n",
       "34        Everything I Wore This Week! Outfit Diary 1   \n",
       "35     Pumpkin Pie - You Suck at Cooking (episode 68)   \n",
       "36                              How I Trained My Cats   \n",
       "37  ♡ SILVER PLAYBUTTON UNBOXING (and making it cu...   \n",
       "38  Is the Morphe 3502 Palette Worth the Hype? | J...   \n",
       "39  Japanese Food Tour with Frank Pinello and Saku...   \n",
       "40                 EARL GREY MACARONS- The Scran Line   \n",
       "41  What $4,800 Will Get You In NYC | Sweet Digs H...   \n",
       "42    A Smart... MUG?! - Take apart a Heated Thermos!   \n",
       "43  Why a New York Ice Cream Shop is Releasing Ham...   \n",
       "44   iPhone X vs Makeup Transformation (Face ID TEST)   \n",
       "45      John Lewis Christmas Ad 2017 - #MozTheMonster   \n",
       "46                  A VERY #EXTRA EBAY SHOPPING HAUL!   \n",
       "47                  EXTREME GOLDEN TAN TRANSFORMATION   \n",
       "48                         ICE PRIMER? DOES IT WORK?!   \n",
       "49                   How To Dry a Shirt in 30 Seconds   \n",
       "\n",
       "                                                 tags    views trending_date  \\\n",
       "0   [refinery29, \"refinery 29\", \"r29\", \"r29 video\"...   145921      17.14.11   \n",
       "1   [Smart mug, \"Heated thermos\", \"tech\", \"gift id...   120727      17.14.11   \n",
       "2   [iphone x, \"iphonex makeup\", \"iphonex test\", \"...  1456472      17.14.11   \n",
       "3   [christmas, \"john lewis christmas\", \"john lewi...  7224515      17.14.11   \n",
       "4   [ebay, \"haul\", \"cheap\", \"challenge\", \"extra\", ...   484185      17.14.11   \n",
       "5   [Extreme Tan, \"Tanning\", \"Tanning Bed\", \"How t...   300617      17.14.11   \n",
       "6   [cave, \"cheese\", \"goat\", \"rind\", \"sheep's milk...    92523      17.14.11   \n",
       "7   [ice primer, \"beauty hack\", \"weird beauty hack...   103927      17.14.11   \n",
       "8   [how to dry a shirt in 30 seconds, \"how to dry...  2063667      17.14.11   \n",
       "9   [jenn im, \"jenn im vlog\", \"imjennim\", \"october...   247319      17.14.11   \n",
       "10                                          [11-8-17]   219030      17.14.11   \n",
       "11  [Dina, \"Tokio\", \"Dinatokio\", \"Torkia\", \"Hijab\"...    72626      17.14.11   \n",
       "12  [brothers green eats, \"budget cooking\", \"cooki...    77630      17.14.11   \n",
       "13  [Whitney Port, \"I Love My Baby But\", \"Grief\", ...    55398      17.14.11   \n",
       "14  [makeup, \"makeup tutorial\", \"surgery\", \"transf...   471266      17.14.11   \n",
       "15  [cupcakes, \"cupcake\", \"cup cake\", \"cake\", \"cak...   122669      17.14.11   \n",
       "16  [zoe sugg, \"zoe\", \"sugg\", \"zoella\", \"beauty\", ...  1390440      17.14.11   \n",
       "17  [YouTube, \"Beauty\", \"Makeup\", \"Tutorial\", \"Rev...  1277364      17.14.11   \n",
       "18  [how, \"trained\", \"cat\", \"cats\", \"train\", \"how ...   977285      17.15.11   \n",
       "19  [morphe, \"morphe 350\", \"morphe 3502 review\", \"...   175539      17.15.11   \n",
       "20  [First we feast, \"fwf\", \"firstwefeast\", \"food\"...   145100      17.15.11   \n",
       "21  [cupcakes, \"how to make vanilla cupcakes\", \"ov...    20778      17.15.11   \n",
       "22  [ham, \"ice cream\", \"candied\", \"candy\", \"pineap...    31639      17.15.11   \n",
       "23  [refinery29, \"refinery 29\", \"r29\", \"r29 video\"...   225044      17.15.11   \n",
       "24  [Smart mug, \"Heated thermos\", \"tech\", \"gift id...   231104      17.15.11   \n",
       "25  [iphone x, \"iphonex makeup\", \"iphonex test\", \"...  1775997      17.15.11   \n",
       "26  [christmas, \"john lewis christmas\", \"john lewi...  7563254      17.15.11   \n",
       "27  [ebay, \"haul\", \"cheap\", \"challenge\", \"extra\", ...   515525      17.15.11   \n",
       "28  [Extreme Tan, \"Tanning\", \"Tanning Bed\", \"How t...   366892      17.15.11   \n",
       "29  [ice primer, \"beauty hack\", \"weird beauty hack...   118316      17.15.11   \n",
       "30  [how to dry a shirt in 30 seconds, \"how to dry...  2244971      17.15.11   \n",
       "31  [cave, \"cheese\", \"goat\", \"rind\", \"sheep's milk...    99019      17.15.11   \n",
       "32  [jenn im, \"jenn im vlog\", \"imjennim\", \"october...   269509      17.15.11   \n",
       "33                                          [11-8-17]   232083      17.15.11   \n",
       "34  [Dina, \"Tokio\", \"Dinatokio\", \"Torkia\", \"Hijab\"...    77302      17.15.11   \n",
       "35  [Forest, \"Cooking\", \"recipe\", \"chef\", \"how to\"...   387902      17.16.11   \n",
       "36  [how, \"trained\", \"cat\", \"cats\", \"train\", \"how ...  1961066      17.16.11   \n",
       "37  [jillian vessey, \"pixielocks\", \"pink\", \"silver...    17901      17.16.11   \n",
       "38  [morphe, \"morphe 350\", \"morphe 3502 review\", \"...   290124      17.16.11   \n",
       "39  [First we feast, \"fwf\", \"firstwefeast\", \"food\"...   196434      17.16.11   \n",
       "40  [cupcakes, \"how to make vanilla cupcakes\", \"ov...    31076      17.16.11   \n",
       "41  [refinery29, \"refinery 29\", \"r29\", \"r29 video\"...   237111      17.16.11   \n",
       "42  [Smart mug, \"Heated thermos\", \"tech\", \"gift id...   248499      17.16.11   \n",
       "43  [ham, \"ice cream\", \"candied\", \"candy\", \"pineap...    33513      17.16.11   \n",
       "44  [iphone x, \"iphonex makeup\", \"iphonex test\", \"...  1826373      17.16.11   \n",
       "45  [christmas, \"john lewis christmas\", \"john lewi...  7727696      17.16.11   \n",
       "46  [ebay, \"haul\", \"cheap\", \"challenge\", \"extra\", ...   525210      17.16.11   \n",
       "47  [Extreme Tan, \"Tanning\", \"Tanning Bed\", \"How t...   390261      17.16.11   \n",
       "48  [ice primer, \"beauty hack\", \"weird beauty hack...   122772      17.16.11   \n",
       "49  [how to dry a shirt in 30 seconds, \"how to dry...  2291077      17.16.11   \n",
       "\n",
       "                publish_time  count_tags  \n",
       "0   2017-11-12T16:00:01.000Z          35  \n",
       "1   2017-11-13T16:00:03.000Z          18  \n",
       "2   2017-11-12T00:45:54.000Z          17  \n",
       "3   2017-11-10T07:38:29.000Z           9  \n",
       "4   2017-11-11T02:42:23.000Z          12  \n",
       "5   2017-11-10T20:40:44.000Z          13  \n",
       "6   2017-11-10T16:01:04.000Z          28  \n",
       "7   2017-11-11T05:23:36.000Z           5  \n",
       "8   2017-11-09T18:36:48.000Z           9  \n",
       "9   2017-11-10T18:42:55.000Z           9  \n",
       "10  2017-11-10T01:30:00.000Z           1  \n",
       "11  2017-11-10T22:22:04.000Z          52  \n",
       "12  2017-11-09T14:00:08.000Z          19  \n",
       "13  2017-11-09T17:22:40.000Z           6  \n",
       "14  2017-11-09T03:27:36.000Z          28  \n",
       "15  2017-11-09T18:30:01.000Z          36  \n",
       "16  2017-11-08T18:24:16.000Z          22  \n",
       "17  2017-11-08T18:00:05.000Z          29  \n",
       "18  2017-11-14T12:06:56.000Z          27  \n",
       "19  2017-11-14T21:03:47.000Z           7  \n",
       "20  2017-11-14T16:00:01.000Z          26  \n",
       "21  2017-11-14T14:01:36.000Z          13  \n",
       "22  2017-11-13T15:00:03.000Z          43  \n",
       "23  2017-11-12T16:00:01.000Z          35  \n",
       "24  2017-11-13T16:00:03.000Z          18  \n",
       "25  2017-11-12T00:45:54.000Z          17  \n",
       "26  2017-11-10T07:38:29.000Z           9  \n",
       "27  2017-11-11T02:42:23.000Z          12  \n",
       "28  2017-11-10T20:40:44.000Z          13  \n",
       "29  2017-11-11T05:23:36.000Z           5  \n",
       "30  2017-11-09T18:36:48.000Z           9  \n",
       "31  2017-11-10T16:01:04.000Z          28  \n",
       "32  2017-11-10T18:42:55.000Z           9  \n",
       "33  2017-11-10T01:30:00.000Z           1  \n",
       "34  2017-11-10T22:22:04.000Z          52  \n",
       "35  2017-11-15T14:52:38.000Z          15  \n",
       "36  2017-11-14T12:06:56.000Z          27  \n",
       "37  2017-11-15T15:17:28.000Z           8  \n",
       "38  2017-11-14T21:03:47.000Z           7  \n",
       "39  2017-11-14T16:00:01.000Z          26  \n",
       "40  2017-11-14T14:01:36.000Z          13  \n",
       "41  2017-11-12T16:00:01.000Z          35  \n",
       "42  2017-11-13T16:00:03.000Z          18  \n",
       "43  2017-11-13T15:00:03.000Z          43  \n",
       "44  2017-11-12T00:45:54.000Z          17  \n",
       "45  2017-11-10T07:38:29.000Z           9  \n",
       "46  2017-11-11T02:42:23.000Z          12  \n",
       "47  2017-11-10T20:40:44.000Z          13  \n",
       "48  2017-11-11T05:23:36.000Z           5  \n",
       "49  2017-11-09T18:36:48.000Z           9  "
      ]
     },
     "execution_count": 5,
     "metadata": {},
     "output_type": "execute_result"
    }
   ],
   "source": [
    "tags = youtube['tags']\n",
    "tags_new = list(tags)\n",
    "\n",
    "new_tags = []\n",
    "count_tags = []\n",
    "\n",
    "# Split words in tags into a list of tags\n",
    "for s in tags_new:\n",
    "    s = s.split('|')\n",
    "    new_tags.append(s)\n",
    "\n",
    "# Make list of how many tags are in each video\n",
    "for i in new_tags:\n",
    "    count_tags.append(len(i))\n",
    "\n",
    "# Prepare count_tags to be added into dataframe\n",
    "count_tag = np.array(count_tags, dtype=np.int64)\n",
    "count_tag = pd.Series(count_tag)\n",
    "\n",
    "# Add count_tag to dataframe\n",
    "youtube['count_tags'] = count_tag.values\n",
    "youtube['tags'] = new_tags\n",
    "\n",
    "youtube.head(50)"
   ]
  },
  {
   "cell_type": "code",
   "execution_count": 6,
   "metadata": {},
   "outputs": [
    {
     "data": {
      "text/plain": [
       "Text(0, 0.5, 'num_views')"
      ]
     },
     "execution_count": 6,
     "metadata": {},
     "output_type": "execute_result"
    },
    {
     "data": {
      "image/png": "[encoded data removed]",
      "text/plain": [
       "<Figure size 432x288 with 1 Axes>"
      ]
     },
     "metadata": {
      "needs_background": "light"
     },
     "output_type": "display_data"
    }
   ],
   "source": [
    "counts = list(youtube['count_tags'])\n",
    "num_views = list(youtube['views'])\n",
    "\n",
    "plt.scatter(counts,num_views, s=5)\n",
    "plt.xlabel(\"counts\")\n",
    "plt.ylabel(\"num_views\")"
   ]
  },
  {
   "cell_type": "code",
   "execution_count": 7,
   "metadata": {},
   "outputs": [
    {
     "name": "stdout",
     "output_type": "stream",
     "text": [
      "(75, 6)\n"
     ]
    },
    {
     "data": {
      "text/html": [
       "<div>\n",
       "<style scoped>\n",
       "    .dataframe tbody tr th:only-of-type {\n",
       "        vertical-align: middle;\n",
       "    }\n",
       "\n",
       "    .dataframe tbody tr th {\n",
       "        vertical-align: top;\n",
       "    }\n",
       "\n",
       "    .dataframe thead th {\n",
       "        text-align: right;\n",
       "    }\n",
       "</style>\n",
       "<table border=\"1\" class=\"dataframe\">\n",
       "  <thead>\n",
       "    <tr style=\"text-align: right;\">\n",
       "      <th></th>\n",
       "      <th>title</th>\n",
       "      <th>tags</th>\n",
       "      <th>views</th>\n",
       "      <th>trending_date</th>\n",
       "      <th>publish_time</th>\n",
       "      <th>count_tags</th>\n",
       "    </tr>\n",
       "  </thead>\n",
       "  <tbody>\n",
       "    <tr>\n",
       "      <th>3</th>\n",
       "      <td>John Lewis Christmas Ad 2017 - #MozTheMonster</td>\n",
       "      <td>[christmas, \"john lewis christmas\", \"john lewi...</td>\n",
       "      <td>7224515</td>\n",
       "      <td>17.14.11</td>\n",
       "      <td>2017-11-10T07:38:29.000Z</td>\n",
       "      <td>9</td>\n",
       "    </tr>\n",
       "    <tr>\n",
       "      <th>26</th>\n",
       "      <td>John Lewis Christmas Ad 2017 - #MozTheMonster</td>\n",
       "      <td>[christmas, \"john lewis christmas\", \"john lewi...</td>\n",
       "      <td>7563254</td>\n",
       "      <td>17.15.11</td>\n",
       "      <td>2017-11-10T07:38:29.000Z</td>\n",
       "      <td>9</td>\n",
       "    </tr>\n",
       "    <tr>\n",
       "      <th>45</th>\n",
       "      <td>John Lewis Christmas Ad 2017 - #MozTheMonster</td>\n",
       "      <td>[christmas, \"john lewis christmas\", \"john lewi...</td>\n",
       "      <td>7727696</td>\n",
       "      <td>17.16.11</td>\n",
       "      <td>2017-11-10T07:38:29.000Z</td>\n",
       "      <td>9</td>\n",
       "    </tr>\n",
       "    <tr>\n",
       "      <th>62</th>\n",
       "      <td>John Lewis Christmas Ad 2017 - #MozTheMonster</td>\n",
       "      <td>[christmas, \"john lewis christmas\", \"john lewi...</td>\n",
       "      <td>8041928</td>\n",
       "      <td>17.17.11</td>\n",
       "      <td>2017-11-10T07:38:29.000Z</td>\n",
       "      <td>9</td>\n",
       "    </tr>\n",
       "    <tr>\n",
       "      <th>374</th>\n",
       "      <td>42 HOLY GRAIL HACKS THAT WILL SAVE YOU A FORTUNE</td>\n",
       "      <td>[5-Minute Crafts, \"DIY\", \"Do it yourself\", \"cr...</td>\n",
       "      <td>6315549</td>\n",
       "      <td>17.04.12</td>\n",
       "      <td>2017-12-03T08:30:00.000Z</td>\n",
       "      <td>45</td>\n",
       "    </tr>\n",
       "  </tbody>\n",
       "</table>\n",
       "</div>"
      ],
      "text/plain": [
       "                                                title  \\\n",
       "3       John Lewis Christmas Ad 2017 - #MozTheMonster   \n",
       "26      John Lewis Christmas Ad 2017 - #MozTheMonster   \n",
       "45      John Lewis Christmas Ad 2017 - #MozTheMonster   \n",
       "62      John Lewis Christmas Ad 2017 - #MozTheMonster   \n",
       "374  42 HOLY GRAIL HACKS THAT WILL SAVE YOU A FORTUNE   \n",
       "\n",
       "                                                  tags    views trending_date  \\\n",
       "3    [christmas, \"john lewis christmas\", \"john lewi...  7224515      17.14.11   \n",
       "26   [christmas, \"john lewis christmas\", \"john lewi...  7563254      17.15.11   \n",
       "45   [christmas, \"john lewis christmas\", \"john lewi...  7727696      17.16.11   \n",
       "62   [christmas, \"john lewis christmas\", \"john lewi...  8041928      17.17.11   \n",
       "374  [5-Minute Crafts, \"DIY\", \"Do it yourself\", \"cr...  6315549      17.04.12   \n",
       "\n",
       "                 publish_time  count_tags  \n",
       "3    2017-11-10T07:38:29.000Z           9  \n",
       "26   2017-11-10T07:38:29.000Z           9  \n",
       "45   2017-11-10T07:38:29.000Z           9  \n",
       "62   2017-11-10T07:38:29.000Z           9  \n",
       "374  2017-12-03T08:30:00.000Z          45  "
      ]
     },
     "execution_count": 7,
     "metadata": {},
     "output_type": "execute_result"
    }
   ],
   "source": [
    "df = youtube[youtube['views'] > 5_000_000]\n",
    "print(df.shape)\n",
    "df.head()"
   ]
  },
  {
   "cell_type": "code",
   "execution_count": 8,
   "metadata": {
    "scrolled": true
   },
   "outputs": [
    {
     "data": {
      "text/plain": [
       "array([[<matplotlib.axes._subplots.AxesSubplot object at 0x000001DCC6F7C8D0>,\n",
       "        <matplotlib.axes._subplots.AxesSubplot object at 0x000001DCC6FA7F28>],\n",
       "       [<matplotlib.axes._subplots.AxesSubplot object at 0x000001DCC6FD64A8>,\n",
       "        <matplotlib.axes._subplots.AxesSubplot object at 0x000001DCC6FFDA20>]],\n",
       "      dtype=object)"
      ]
     },
     "execution_count": 8,
     "metadata": {},
     "output_type": "execute_result"
    },
    {
     "data": {
      "image/png": "[encoded data removed]",
      "text/plain": [
       "<Figure size 432x288 with 4 Axes>"
      ]
     },
     "metadata": {
      "needs_background": "light"
     },
     "output_type": "display_data"
    }
   ],
   "source": [
    "pd.plotting.scatter_matrix(youtube)"
   ]
  },
  {
   "cell_type": "markdown",
   "metadata": {},
   "source": [
    "## Popular Tags\n",
    "Top 10 popular tags\n",
    "\n",
    "We use value_counts method to count the number of mentioning tags and put it in dataframe."
   ]
  },
  {
   "cell_type": "code",
   "execution_count": 9,
   "metadata": {},
   "outputs": [
    {
     "data": {
      "text/html": [
       "<div>\n",
       "<style scoped>\n",
       "    .dataframe tbody tr th:only-of-type {\n",
       "        vertical-align: middle;\n",
       "    }\n",
       "\n",
       "    .dataframe tbody tr th {\n",
       "        vertical-align: top;\n",
       "    }\n",
       "\n",
       "    .dataframe thead th {\n",
       "        text-align: right;\n",
       "    }\n",
       "</style>\n",
       "<table border=\"1\" class=\"dataframe\">\n",
       "  <thead>\n",
       "    <tr style=\"text-align: right;\">\n",
       "      <th></th>\n",
       "      <th>tags</th>\n",
       "      <th>counts</th>\n",
       "    </tr>\n",
       "  </thead>\n",
       "  <tbody>\n",
       "    <tr>\n",
       "      <th>0</th>\n",
       "      <td>[beauty, \"how to\", \"makeup\", \"howto\", \"style\", \"fashion\", \"summer\", \"spring\", \"new\", \"clothes\", \"clothing\", \"bunny\", \"follow me around\", \"target\", \"shop\", \"shopping\", \"cosmetics\", \"funny\", \"haul\", \"store\", \"look\", \"silly\", \"cute\", \"eye\", \"eyes\", \"iphone\", \"vlog\", \"grav3yardgirl\", \"as seen on tv\", \"infomercial\", \"does it work\", \"nail\", \"nails\", \"bed bath &amp; beyond\", \"ulta\", \"2018\", \"cheap makeup\", \"makeup shopping\", \"clearance\", \"clearance makeup\", \"toys r us\", \"closing\", \"store closing\", \"dior\", \"dior handbag\", \"luxury\", \"designer\"]</td>\n",
       "      <td>31</td>\n",
       "    </tr>\n",
       "    <tr>\n",
       "      <th>1</th>\n",
       "      <td>[cupcakes, \"how to make vanilla cupcakes\", \"over the top recipes\", \"easy cupcake recipes\", \"vanilla cupcakes\", \"chocolate cupcakes\", \"french macarons\", \"how to make macarons\", \"the scran line\", \"the scranline\", \"nick makrides\", \"pastry design\", \"how to pipe cupcakes\"]</td>\n",
       "      <td>31</td>\n",
       "    </tr>\n",
       "    <tr>\n",
       "      <th>2</th>\n",
       "      <td>[Business Insider, \"Business News\", \"scheduling\", \"bed time\", \"way of the warrior kid\", \"jocko willink\", \"navy seals\", \"army schedule\", \"army\", \"military schedule\", \"waking up early\", \"early morning\", \"success how i did it\", \"success podcast\"]</td>\n",
       "      <td>27</td>\n",
       "    </tr>\n",
       "    <tr>\n",
       "      <th>3</th>\n",
       "      <td>[the green makeup challenge, \"green makeup challenge\", \"green\", \"green makeup look\", \"green makeup\", \"makeup\", \"challenge\", \"makeup challenge\", \"nikkietutorials\", \"nikkie tutorials\", \"nikkitutorials\", \"nikki tutorials\", \"makeup tutorial\", \"tutorial\", \"hulk\", \"the hulk\", \"hulk makeup\", \"avengers\", \"avengers infinity war\", \"kermit the frog\", \"kermit\", \"how to\", \"how to apply\", \"foundation\", \"eyeshadow\", \"lipstick\", \"transformation\", \"extreme transformation\", \"glam\", \"flawless\", \"gorgeous\", \"beautiful\"]</td>\n",
       "      <td>27</td>\n",
       "    </tr>\n",
       "    <tr>\n",
       "      <th>4</th>\n",
       "      <td>[ysac, \"you suck at cooking\", \"coconut\", \"macaroons\", \"coconut macaroons\", \"chocolate\", \"cooking\", \"recipe\", \"chef\", \"how to\", \"turorial\", \"funny\", \"comedy\", \"dessert\"]</td>\n",
       "      <td>25</td>\n",
       "    </tr>\n",
       "  </tbody>\n",
       "</table>\n",
       "</div>"
      ],
      "text/plain": [
       "                                                                                                                                                                                                                                                                                                                                                                                                                                                                                                                                                        tags  \\\n",
       "0  [beauty, \"how to\", \"makeup\", \"howto\", \"style\", \"fashion\", \"summer\", \"spring\", \"new\", \"clothes\", \"clothing\", \"bunny\", \"follow me around\", \"target\", \"shop\", \"shopping\", \"cosmetics\", \"funny\", \"haul\", \"store\", \"look\", \"silly\", \"cute\", \"eye\", \"eyes\", \"iphone\", \"vlog\", \"grav3yardgirl\", \"as seen on tv\", \"infomercial\", \"does it work\", \"nail\", \"nails\", \"bed bath & beyond\", \"ulta\", \"2018\", \"cheap makeup\", \"makeup shopping\", \"clearance\", \"clearance makeup\", \"toys r us\", \"closing\", \"store closing\", \"dior\", \"dior handbag\", \"luxury\", \"designer\"]   \n",
       "1  [cupcakes, \"how to make vanilla cupcakes\", \"over the top recipes\", \"easy cupcake recipes\", \"vanilla cupcakes\", \"chocolate cupcakes\", \"french macarons\", \"how to make macarons\", \"the scran line\", \"the scranline\", \"nick makrides\", \"pastry design\", \"how to pipe cupcakes\"]                                                                                                                                                                                                                                                                                \n",
       "2  [Business Insider, \"Business News\", \"scheduling\", \"bed time\", \"way of the warrior kid\", \"jocko willink\", \"navy seals\", \"army schedule\", \"army\", \"military schedule\", \"waking up early\", \"early morning\", \"success how i did it\", \"success podcast\"]                                                                                                                                                                                                                                                                                                         \n",
       "3  [the green makeup challenge, \"green makeup challenge\", \"green\", \"green makeup look\", \"green makeup\", \"makeup\", \"challenge\", \"makeup challenge\", \"nikkietutorials\", \"nikkie tutorials\", \"nikkitutorials\", \"nikki tutorials\", \"makeup tutorial\", \"tutorial\", \"hulk\", \"the hulk\", \"hulk makeup\", \"avengers\", \"avengers infinity war\", \"kermit the frog\", \"kermit\", \"how to\", \"how to apply\", \"foundation\", \"eyeshadow\", \"lipstick\", \"transformation\", \"extreme transformation\", \"glam\", \"flawless\", \"gorgeous\", \"beautiful\"]                                   \n",
       "4  [ysac, \"you suck at cooking\", \"coconut\", \"macaroons\", \"coconut macaroons\", \"chocolate\", \"cooking\", \"recipe\", \"chef\", \"how to\", \"turorial\", \"funny\", \"comedy\", \"dessert\"]                                                                                                                                                                                                                                                                                                                                                                                    \n",
       "\n",
       "   counts  \n",
       "0  31      \n",
       "1  31      \n",
       "2  27      \n",
       "3  27      \n",
       "4  25      "
      ]
     },
     "execution_count": 9,
     "metadata": {},
     "output_type": "execute_result"
    }
   ],
   "source": [
    "pd.set_option('display.max_colwidth', -1)\n",
    "tags = youtube['tags'].apply(pd.Series).stack()\n",
    "tags_df =youtube['tags'].apply(pd.Series).stack()\n",
    "\n",
    "pop_tags = youtube['tags'].value_counts()\n",
    "\n",
    "pop_tagsDF = pd.DataFrame({'tags':pop_tags.index, 'counts':pop_tags.values})\n",
    "pop_tagsDF.head()"
   ]
  },
  {
   "cell_type": "markdown",
   "metadata": {},
   "source": [
    "The number of views collerated to 10 popular tags"
   ]
  },
  {
   "cell_type": "code",
   "execution_count": 10,
   "metadata": {},
   "outputs": [
    {
     "data": {
      "text/plain": [
       "{'beauty': 171718550,\n",
       " 'Business Insider': 96489336,\n",
       " 'ysac': 15509700,\n",
       " 'olivia jade': 12049788,\n",
       " 'DIY': 225026760,\n",
       " 'spongebob': 15698206,\n",
       " 'lifestyle': 55604430,\n",
       " 'kim kardashian': 46382270,\n",
       " 'kinetic sand': 20292643,\n",
       " 'cook': 92452024}"
      ]
     },
     "execution_count": 10,
     "metadata": {},
     "output_type": "execute_result"
    }
   ],
   "source": [
    "pop_tagsDF = pop_tagsDF.drop_duplicates(subset=['counts'])\n",
    "pop_tagsDF = pop_tagsDF.head(10)\n",
    "\n",
    "dict_popTags = {}\n",
    "for elem,count in zip(pop_tagsDF['tags'], pop_tagsDF['counts']) :\n",
    "    \n",
    "    dict_popTags[elem[0]] = count\n",
    "\n",
    "list_popTags = list(dict_popTags.keys())\n",
    "\n",
    "dict_popViews = {}\n",
    "\n",
    "for popTag in list_popTags:\n",
    "    \n",
    "    currViews = 0\n",
    "    for tags,views in zip(youtube['tags'],youtube['views']):\n",
    "        if(popTag in tags):\n",
    "            currViews = currViews + views\n",
    "    \n",
    "    dict_popViews[popTag] = currViews\n",
    "    \n",
    "dict_popViews"
   ]
  },
  {
   "cell_type": "markdown",
   "metadata": {},
   "source": [
    "Mean views for top 10 tags"
   ]
  },
  {
   "cell_type": "code",
   "execution_count": 11,
   "metadata": {},
   "outputs": [
    {
     "data": {
      "text/plain": [
       "{'beauty': 5539308.064516129,\n",
       " 'Business Insider': 3573679.111111111,\n",
       " 'ysac': 620388.0,\n",
       " 'olivia jade': 523903.82608695654,\n",
       " 'DIY': 10715560.0,\n",
       " 'spongebob': 784910.3,\n",
       " 'lifestyle': 2926548.947368421,\n",
       " 'kim kardashian': 2576792.777777778,\n",
       " 'kinetic sand': 1193684.8823529412,\n",
       " 'cook': 5778251.5}"
      ]
     },
     "execution_count": 11,
     "metadata": {},
     "output_type": "execute_result"
    }
   ],
   "source": [
    "dict_popMeans = {}\n",
    "for tag in dict_popViews:\n",
    "    dict_popMeans[tag] = dict_popViews[tag] / dict_popTags[tag]\n",
    "\n",
    "    \n",
    "dict_popMeans"
   ]
  },
  {
   "cell_type": "markdown",
   "metadata": {},
   "source": [
    "Plot of Tags vs Mean Views - top 10"
   ]
  },
  {
   "cell_type": "code",
   "execution_count": 12,
   "metadata": {},
   "outputs": [
    {
     "data": {
      "image/png": "[encoded data removed]",
      "text/plain": [
       "<Figure size 432x288 with 1 Axes>"
      ]
     },
     "metadata": {
      "needs_background": "light"
     },
     "output_type": "display_data"
    }
   ],
   "source": [
    "data = [['beauty', 5539308.064516129], ['Business Insider', 3573679.111111111], ['ysac', 620388.0], ['olivia jade', 523903.82608695654], ['DIY', 1071556.0], ['spongebob', 784910.3], ['lifestyle', 2926548.947368421], ['kim kardashian', 2576792.777777778], ['kinetic sand', 1193684.8823529412], ['cook', 577825.5]]\n",
    "df_pop = pd.DataFrame(data, columns = ['Tags', 'Mean Number of Views'])\n",
    "ax = df_pop.plot.bar(x='Tags', y='Mean Number of Views', rot=90)"
   ]
  },
  {
   "cell_type": "markdown",
   "metadata": {},
   "source": [
    "# Tags Summary\n",
    "We found out that the top ten popular tags were beauty, business insider, ysac, olivia jade, DIY, spongebob, lifesttyle, kim kardashian, kinetic sand, and cook from this dataset. With the most popular tag related to beauty. And the least popular tag related to cook."
   ]
  },
  {
   "cell_type": "markdown",
   "metadata": {},
   "source": [
    "# Sentiment Analysis of Titles"
   ]
  },
  {
   "cell_type": "markdown",
   "metadata": {},
   "source": [
    "Here we are performing a sentiment analysis on the titles of all the videos on our data set in order to determine if there is a relationship between the amount of views and its overall sentiment score. We used the Vader Lexicon from the NLTK package."
   ]
  },
  {
   "cell_type": "code",
   "execution_count": 13,
   "metadata": {},
   "outputs": [
    {
     "name": "stderr",
     "output_type": "stream",
     "text": [
      "[nltk_data] Downloading package vader_lexicon to\n",
      "[nltk_data]     C:\\Users\\justi\\AppData\\Roaming\\nltk_data...\n",
      "[nltk_data]   Package vader_lexicon is already up-to-date!\n"
     ]
    }
   ],
   "source": [
    "import nltk\n",
    "from nltk.sentiment.vader import SentimentIntensityAnalyzer\n",
    "\n",
    "nltk.download('vader_lexicon')\n",
    "analyser = SentimentIntensityAnalyzer()"
   ]
  },
  {
   "cell_type": "markdown",
   "metadata": {},
   "source": [
    "We write a function in order to allow us to view different subsets of our Youtube video dataframe. This will be helpful when we compare extremely viral videos versus the rest of the dataframe.\n"
   ]
  },
  {
   "cell_type": "code",
   "execution_count": 14,
   "metadata": {},
   "outputs": [],
   "source": [
    "def title_sentiments(df):\n",
    "    title_sentiment = []\n",
    "    title_sentiment_ind = []\n",
    "\n",
    "    titles = df['title']\n",
    "\n",
    "    zero_sentiment = 0\n",
    "\n",
    "    # Add only non-zero sentiment analysis of titles into 'title_sentiment'\n",
    "    for i, title in zip(range(len(titles)), titles):\n",
    "        sentiment = analyser.polarity_scores(title)\n",
    "        \n",
    "        if sentiment['compound'] != 0:\n",
    "            title_sentiment.append(sentiment['compound'])\n",
    "            title_sentiment_ind.append(i)\n",
    "        if sentiment['compound'] == 0:\n",
    "            zero_sentiment += 1\n",
    "            \n",
    "    return title_sentiment, title_sentiment_ind, zero_sentiment\n"
   ]
  },
  {
   "cell_type": "markdown",
   "metadata": {},
   "source": [
    "Additionally, we make sure to drop any duplicate rows that are a result of a video that trends for multiple days. While this information may be helpful when examining how long it takes for a video to become popular after being published, for the purposes of sentiment analysis it only adds more noise to the data.\n",
    "\n",
    "We also print out the first 50 titles that return non-zero sentiments using NLTK vader."
   ]
  },
  {
   "cell_type": "code",
   "execution_count": 15,
   "metadata": {},
   "outputs": [
    {
     "name": "stdout",
     "output_type": "stream",
     "text": [
      "Sentiment score of first 50 titles with non-zero sentiment scores:\n",
      "[0.5574, -0.7088, 0.4939, 0.4588, 0.2342, -0.2732, 0.7964, 0.0516, 0.2263, -0.3612, 0.4588, -0.4404, -0.1779, 0.4926, 0.7579, -0.128, 0.5106, 0.5859, -0.4619, 0.8225, 0.6239, 0.3818, 0.7096, -0.4767, 0.4728, 0.5719, 0.4019, 0.658, 0.2584, 0.4215, -0.34, 0.4019, 0.5859, -0.3612, 0.2023, -0.4215, 0.5106, 0.4939, 0.5719, 0.4278, 0.4404, 0.3182, 0.6739, -0.7604, 0.5859, 0.0989, 0.4404, 0.5859, 0.508, 0.6037]\n",
      "\n",
      "Index of the first 50 non-zero sentiment titles\n",
      "[1, 5, 7, 11, 23, 24, 25, 26, 27, 30, 32, 33, 34, 35, 38, 40, 45, 47, 51, 54, 56, 57, 58, 62, 63, 64, 65, 67, 69, 73, 74, 77, 80, 81, 82, 83, 84, 86, 87, 88, 89, 90, 91, 94, 95, 97, 103, 105, 106, 107]\n",
      "\n",
      "Number of sentiment videos: 280\n",
      "Number of Zero sentiment videos: 322\n"
     ]
    }
   ],
   "source": [
    "# Drop duplicate titles, we are only interested in the last title that was trending\n",
    "youtube.drop_duplicates(subset='title', keep='last',inplace=True)\n",
    "\n",
    "title_sentiment, title_sentiment_ind, zero_sentiment = title_sentiments(youtube)\n",
    "\n",
    "# Print out test results\n",
    "print('Sentiment score of first 50 titles with non-zero sentiment scores:')\n",
    "print(title_sentiment[:50])\n",
    "print('\\nIndex of the first 50 non-zero sentiment titles')\n",
    "print(title_sentiment_ind[:50])\n",
    "print('\\nNumber of sentiment videos: ' + str(len(title_sentiment_ind)))\n",
    "print(\"Number of Zero sentiment videos: \" + str(zero_sentiment))\n",
    "    "
   ]
  },
  {
   "cell_type": "markdown",
   "metadata": {},
   "source": [
    "# Title Sentiment Visualization\n",
    "First, we graph all of the video titles that returned a non-zero sentiment (i.e. the NLTK toolkit was able to return a sentiment score) against its number of views. "
   ]
  },
  {
   "cell_type": "code",
   "execution_count": 16,
   "metadata": {},
   "outputs": [
    {
     "data": {
      "text/plain": [
       "Text(0, 0.5, 'Number of views')"
      ]
     },
     "execution_count": 16,
     "metadata": {},
     "output_type": "execute_result"
    },
    {
     "data": {
      "image/png": "[encoded data removed]",
      "text/plain": [
       "<Figure size 432x288 with 1 Axes>"
      ]
     },
     "metadata": {
      "needs_background": "light"
     },
     "output_type": "display_data"
    }
   ],
   "source": [
    "views = list(youtube['views'])\n",
    "views_sent = []\n",
    "\n",
    "for i in title_sentiment_ind:\n",
    "    views_sent.append(views[i])\n",
    "\n",
    "a_views, b_views = np.polyfit(title_sentiment, views_sent,1 )  \n",
    "sentiment_range = np.linspace(-1, 1, 10)\n",
    "pred_views = a_views*sentiment_range + b_views\n",
    "\n",
    "plt.scatter(title_sentiment, views_sent, s=5)\n",
    "plt.plot(sentiment_range, pred_views, c = 'red')\n",
    "plt.xlabel('Sentiment')\n",
    "plt.ylabel('Number of views')"
   ]
  },
  {
   "cell_type": "code",
   "execution_count": 17,
   "metadata": {},
   "outputs": [
    {
     "data": {
      "text/plain": [
       "Text(0, 0.5, 'Frequency')"
      ]
     },
     "execution_count": 17,
     "metadata": {},
     "output_type": "execute_result"
    },
    {
     "data": {
      "image/png": "[encoded data removed]",
      "text/plain": [
       "<Figure size 432x288 with 1 Axes>"
      ]
     },
     "metadata": {
      "needs_background": "light"
     },
     "output_type": "display_data"
    }
   ],
   "source": [
    "plt.hist(title_sentiment, bins=20)\n",
    "plt.xlabel('Sentiment')\n",
    "plt.ylabel('Frequency')"
   ]
  },
  {
   "cell_type": "markdown",
   "metadata": {},
   "source": [
    "Looking at the above two graphs, by inspection we have a feeling that there is not a strong correlation between sentiment and number of views. Representing the sentiment with a histogram, we see how the title sentiments are bimodal. More videos tend to populate the -0.50 and 0.50 areas of sentimentality. We also notice that there are some videos with large numbers of views (i.e. > 4,000,000 views).\n",
    "\n",
    "Next, we are going to run an OLS regression model to calculate some statistics and run statistical tests. "
   ]
  },
  {
   "cell_type": "code",
   "execution_count": 18,
   "metadata": {},
   "outputs": [
    {
     "name": "stdout",
     "output_type": "stream",
     "text": [
      "                            OLS Regression Results                            \n",
      "==============================================================================\n",
      "Dep. Variable:        title_sentiment   R-squared:                       0.002\n",
      "Model:                            OLS   Adj. R-squared:                 -0.001\n",
      "Method:                 Least Squares   F-statistic:                    0.6447\n",
      "Date:                Fri, 31 May 2019   Prob (F-statistic):              0.423\n",
      "Time:                        09:01:44   Log-Likelihood:                -168.26\n",
      "No. Observations:                 280   AIC:                             340.5\n",
      "Df Residuals:                     278   BIC:                             347.8\n",
      "Df Model:                           1                                         \n",
      "Covariance Type:            nonrobust                                         \n",
      "==============================================================================\n",
      "                 coef    std err          t      P>|t|      [0.025      0.975]\n",
      "------------------------------------------------------------------------------\n",
      "Intercept      0.2278      0.028      8.229      0.000       0.173       0.282\n",
      "views_sent -5.871e-09   7.31e-09     -0.803      0.423   -2.03e-08    8.52e-09\n",
      "==============================================================================\n",
      "Omnibus:                       38.681   Durbin-Watson:                   2.081\n",
      "Prob(Omnibus):                  0.000   Jarque-Bera (JB):               27.234\n",
      "Skew:                          -0.648   Prob(JB):                     1.22e-06\n",
      "Kurtosis:                       2.192   Cond. No.                     3.96e+06\n",
      "==============================================================================\n",
      "\n",
      "Warnings:\n",
      "[1] Standard Errors assume that the covariance matrix of the errors is correctly specified.\n",
      "[2] The condition number is large, 3.96e+06. This might indicate that there are\n",
      "strong multicollinearity or other numerical problems.\n"
     ]
    }
   ],
   "source": [
    "import patsy\n",
    "import statsmodels.api as sm\n",
    "\n",
    "data = {'title_sentiment': title_sentiment, 'views_sent': views_sent}\n",
    "sentiment_df = pd.DataFrame(data=data)\n",
    "\n",
    "outcome_1, predictors_1 = patsy.dmatrices('title_sentiment ~ views_sent', data=sentiment_df)\n",
    "mod_1 = sm.OLS(outcome_1, predictors_1)\n",
    "res_1 = mod_1.fit()\n",
    "\n",
    "print(res_1.summary())\n"
   ]
  },
  {
   "cell_type": "markdown",
   "metadata": {},
   "source": [
    "From the above result, using an alpha of 0.01, we conclude that we don't have statistically significant evidence (i.e. Prob(F-stat) >> 0.01) that a youtube video's title sentiment is correlated with its number of views. \n",
    "\n",
    "However, what if this is due to those 'viral' videos (i.e. views > 5,000,000) that we mentioned above? In the next part we run seperate tests on videos with >5,000,000 views and <5,000,000 views."
   ]
  },
  {
   "cell_type": "code",
   "execution_count": 20,
   "metadata": {},
   "outputs": [
    {
     "data": {
      "text/plain": [
       "Text(0, 0.5, 'Number of Views')"
      ]
     },
     "execution_count": 20,
     "metadata": {},
     "output_type": "execute_result"
    },
    {
     "data": {
      "image/png": "[encoded data removed]",
      "text/plain": [
       "<Figure size 432x288 with 1 Axes>"
      ]
     },
     "metadata": {
      "needs_background": "light"
     },
     "output_type": "display_data"
    }
   ],
   "source": [
    "views_sent_norm = []\n",
    "\n",
    "youtube_norm = youtube[youtube['views'] < 5_000_000]\n",
    "\n",
    "views = list(youtube_norm['views'])\n",
    "\n",
    "title_sentiment_norm, title_sentiment_ind_norm, zero_sentiment_norm = title_sentiments(youtube_norm)\n",
    "\n",
    "for i in title_sentiment_ind_norm:\n",
    "    views_sent_norm.append(views[i])\n",
    "    \n",
    "a_norm, b_norm = np.polyfit(title_sentiment_norm, views_sent_norm, 1)\n",
    "sent_norm_range = np.linspace(-1, 1, 10)\n",
    "views_norm_pred = a_norm*sent_norm_range + b_norm\n",
    "\n",
    "\n",
    "plt.scatter(title_sentiment_norm, views_sent_norm, s=5, c='g')\n",
    "plt.plot(sent_norm_range, views_norm_pred, c = 'red')\n",
    "plt.xlabel('Sentiment')\n",
    "plt.ylabel('Number of Views')"
   ]
  },
  {
   "cell_type": "code",
   "execution_count": 21,
   "metadata": {},
   "outputs": [
    {
     "data": {
      "text/plain": [
       "Text(0, 0.5, 'Frequency')"
      ]
     },
     "execution_count": 21,
     "metadata": {},
     "output_type": "execute_result"
    },
    {
     "data": {
      "image/png": "[encoded data removed]",
      "text/plain": [
       "<Figure size 432x288 with 1 Axes>"
      ]
     },
     "metadata": {
      "needs_background": "light"
     },
     "output_type": "display_data"
    }
   ],
   "source": [
    "plt.hist(title_sentiment_norm, bins=20, color='green')\n",
    "plt.xlabel('Sentiment')\n",
    "plt.ylabel('Frequency')"
   ]
  },
  {
   "cell_type": "markdown",
   "metadata": {},
   "source": [
    "In this scatterplot, the videos whose view counts exceed 5,000,000 are left out in order to observe the data clusters in better detail. We can see from the scatterplot that there is no clear linear pattern to the data and that the histogram is still bimodal. "
   ]
  },
  {
   "cell_type": "code",
   "execution_count": 22,
   "metadata": {},
   "outputs": [
    {
     "name": "stdout",
     "output_type": "stream",
     "text": [
      "                            OLS Regression Results                            \n",
      "==============================================================================\n",
      "Dep. Variable:        title_sentiment   R-squared:                       0.016\n",
      "Model:                            OLS   Adj. R-squared:                  0.012\n",
      "Method:                 Least Squares   F-statistic:                     4.367\n",
      "Date:                Fri, 31 May 2019   Prob (F-statistic):             0.0376\n",
      "Time:                        09:02:21   Log-Likelihood:                -157.72\n",
      "No. Observations:                 271   AIC:                             319.4\n",
      "Df Residuals:                     269   BIC:                             326.6\n",
      "Df Model:                           1                                         \n",
      "Covariance Type:            nonrobust                                         \n",
      "==============================================================================\n",
      "                 coef    std err          t      P>|t|      [0.025      0.975]\n",
      "------------------------------------------------------------------------------\n",
      "Intercept      0.2796      0.034      8.146      0.000       0.212       0.347\n",
      "views_sent -6.543e-08   3.13e-08     -2.090      0.038   -1.27e-07   -3.79e-09\n",
      "==============================================================================\n",
      "Omnibus:                       31.229   Durbin-Watson:                   2.092\n",
      "Prob(Omnibus):                  0.000   Jarque-Bera (JB):               27.305\n",
      "Skew:                          -0.695   Prob(JB):                     1.18e-06\n",
      "Kurtosis:                       2.304   Cond. No.                     1.43e+06\n",
      "==============================================================================\n",
      "\n",
      "Warnings:\n",
      "[1] Standard Errors assume that the covariance matrix of the errors is correctly specified.\n",
      "[2] The condition number is large, 1.43e+06. This might indicate that there are\n",
      "strong multicollinearity or other numerical problems.\n"
     ]
    }
   ],
   "source": [
    "data = {'title_sentiment': title_sentiment_norm, 'views_sent': views_sent_norm}\n",
    "sentiment_df_norm = pd.DataFrame(data=data)\n",
    "\n",
    "outcome_1, predictors_1 = patsy.dmatrices('title_sentiment ~ views_sent', data=sentiment_df_norm)\n",
    "mod_1 = sm.OLS(outcome_1, predictors_1)\n",
    "res_1 = mod_1.fit()\n",
    "\n",
    "print(res_1.summary())"
   ]
  },
  {
   "cell_type": "markdown",
   "metadata": {},
   "source": [
    "Once again, even when we exclude 'viral' videos we don't have statistically significant evidence that sentiment is correlated with the number of views a video gets.\n",
    "\n",
    "Lastly, let's see if there is a correlation between sentiment and number of views in 'viral' videos."
   ]
  },
  {
   "cell_type": "code",
   "execution_count": 28,
   "metadata": {},
   "outputs": [
    {
     "data": {
      "text/plain": [
       "Text(0, 0.5, 'Number of Views')"
      ]
     },
     "execution_count": 28,
     "metadata": {},
     "output_type": "execute_result"
    },
    {
     "data": {
      "image/png": "[encoded data removed]",
      "text/plain": [
       "<Figure size 432x288 with 1 Axes>"
      ]
     },
     "metadata": {
      "needs_background": "light"
     },
     "output_type": "display_data"
    }
   ],
   "source": [
    "views_sent_viral = []\n",
    "\n",
    "youtube_viral = youtube[youtube['views'] > 5_000_000]\n",
    "\n",
    "views = list(youtube_viral['views'])\n",
    "\n",
    "title_sentiment_viral, title_sentiment_ind_viral, zero_sentiment_viral = title_sentiments(youtube_viral)\n",
    "\n",
    "for i in title_sentiment_ind_viral:\n",
    "    views_sent_viral.append(views[i])\n",
    "\n",
    "a_views_viral, b_views_viral = np.polyfit(title_sentiment_viral, views_sent_viral, 1)\n",
    "title_sent_viral_range = np.linspace(-1, 1, 10)\n",
    "views_viral_pred = a_views_viral*title_sent_viral_range + b_views_viral\n",
    "\n",
    "plt.scatter(title_sentiment_viral, views_sent_viral, s=5, c='r')\n",
    "plt.plot(title_sent_viral_range, views_viral_pred, c = 'r')\n",
    "plt.xlabel('Sentiment')\n",
    "plt.ylabel('Number of Views')"
   ]
  },
  {
   "cell_type": "code",
   "execution_count": 24,
   "metadata": {},
   "outputs": [
    {
     "data": {
      "text/plain": [
       "Text(0, 0.5, 'Frequency')"
      ]
     },
     "execution_count": 24,
     "metadata": {},
     "output_type": "execute_result"
    },
    {
     "data": {
      "image/png": "[encoded data removed]",
      "text/plain": [
       "<Figure size 432x288 with 1 Axes>"
      ]
     },
     "metadata": {
      "needs_background": "light"
     },
     "output_type": "display_data"
    }
   ],
   "source": [
    "plt.hist(title_sentiment_viral, bins=20, color='red')\n",
    "plt.xlabel('Sentiment')\n",
    "plt.ylabel('Frequency')"
   ]
  },
  {
   "cell_type": "code",
   "execution_count": 25,
   "metadata": {},
   "outputs": [
    {
     "name": "stdout",
     "output_type": "stream",
     "text": [
      "                            OLS Regression Results                            \n",
      "==============================================================================\n",
      "Dep. Variable:        title_sentiment   R-squared:                       0.328\n",
      "Model:                            OLS   Adj. R-squared:                  0.232\n",
      "Method:                 Least Squares   F-statistic:                     3.422\n",
      "Date:                Fri, 31 May 2019   Prob (F-statistic):              0.107\n",
      "Time:                        09:02:40   Log-Likelihood:                -3.4625\n",
      "No. Observations:                   9   AIC:                             10.93\n",
      "Df Residuals:                       7   BIC:                             11.32\n",
      "Df Model:                           1                                         \n",
      "Covariance Type:            nonrobust                                         \n",
      "==============================================================================\n",
      "                 coef    std err          t      P>|t|      [0.025      0.975]\n",
      "------------------------------------------------------------------------------\n",
      "Intercept     -0.3742      0.179     -2.092      0.075      -0.797       0.049\n",
      "views_sent  1.635e-08   8.84e-09      1.850      0.107   -4.55e-09    3.72e-08\n",
      "==============================================================================\n",
      "Omnibus:                        4.692   Durbin-Watson:                   3.127\n",
      "Prob(Omnibus):                  0.096   Jarque-Bera (JB):                1.609\n",
      "Skew:                           1.018   Prob(JB):                        0.447\n",
      "Kurtosis:                       3.381   Cond. No.                     2.69e+07\n",
      "==============================================================================\n",
      "\n",
      "Warnings:\n",
      "[1] Standard Errors assume that the covariance matrix of the errors is correctly specified.\n",
      "[2] The condition number is large, 2.69e+07. This might indicate that there are\n",
      "strong multicollinearity or other numerical problems.\n"
     ]
    },
    {
     "name": "stderr",
     "output_type": "stream",
     "text": [
      "C:\\Users\\justi\\Anaconda3\\lib\\site-packages\\scipy\\stats\\stats.py:1394: UserWarning: kurtosistest only valid for n>=20 ... continuing anyway, n=9\n",
      "  \"anyway, n=%i\" % int(n))\n"
     ]
    }
   ],
   "source": [
    "data = {'title_sentiment': title_sentiment_viral, 'views_sent': views_sent_viral}\n",
    "sentiment_df_viral = pd.DataFrame(data=data)\n",
    "\n",
    "outcome_1, predictors_1 = patsy.dmatrices('title_sentiment ~ views_sent', data=sentiment_df_viral)\n",
    "mod_1 = sm.OLS(outcome_1, predictors_1)\n",
    "res_1 = mod_1.fit()\n",
    "\n",
    "print(res_1.summary())"
   ]
  },
  {
   "cell_type": "markdown",
   "metadata": {},
   "source": [
    "At this point, even amongst 'viral' videos it is no surprise that there is no correlation between sentiment and number of views."
   ]
  },
  {
   "cell_type": "code",
   "execution_count": 26,
   "metadata": {},
   "outputs": [
    {
     "data": {
      "text/plain": [
       "Text(0, 0.5, 'Number of Views')"
      ]
     },
     "execution_count": 26,
     "metadata": {},
     "output_type": "execute_result"
    },
    {
     "data": {
      "image/png": "[encoded data removed]",
      "text/plain": [
       "<Figure size 432x288 with 1 Axes>"
      ]
     },
     "metadata": {
      "needs_background": "light"
     },
     "output_type": "display_data"
    }
   ],
   "source": [
    "plt.scatter(title_sentiment_norm, views_sent_norm, s=5, c='g')\n",
    "plt.scatter(title_sentiment_viral, views_sent_viral, s=5, c='r')\n",
    "plt.xlabel('Sentiment')\n",
    "plt.ylabel('Number of Views')"
   ]
  },
  {
   "cell_type": "code",
   "execution_count": 27,
   "metadata": {},
   "outputs": [
    {
     "data": {
      "text/plain": [
       "Text(0, 0.5, 'Frequency')"
      ]
     },
     "execution_count": 27,
     "metadata": {},
     "output_type": "execute_result"
    },
    {
     "data": {
      "image/png": "[encoded data removed]",
      "text/plain": [
       "<Figure size 432x288 with 1 Axes>"
      ]
     },
     "metadata": {
      "needs_background": "light"
     },
     "output_type": "display_data"
    }
   ],
   "source": [
    "plt.hist(title_sentiment_norm, bins=20, color='green')\n",
    "plt.hist(title_sentiment_viral, bins=20, color='red')\n",
    "plt.xlabel('Sentiment')\n",
    "plt.ylabel('Frequency')"
   ]
  },
  {
   "cell_type": "markdown",
   "metadata": {},
   "source": [
    "# Sentiment Analysis Summary\n",
    "\n",
    "In general, there tended to be more videos with positive sentiments than negative ones. However, based on our findings in this section, we conclude that there is no strong, univariate correlation between a youtube video's sentiment score (based on the NLTK vader's sentiment analysis) and its number of views. We did notice that videos tend to be bimodal around the +0.50 and -0.50 sentiment marks, although this has nothing to do with the popularity of the videos themselves. Additionally, there also was a tendency for viral videos (videos with over 5,000,000 views) to lean towards the negative sentiment side, although this could be due to a low viral video population."
   ]
  },
  {
   "cell_type": "code",
   "execution_count": null,
   "metadata": {},
   "outputs": [],
   "source": []
  }
 ],
 "metadata": {
  "kernelspec": {
   "display_name": "Python 3",
   "language": "python",
   "name": "python3"
  },
  "language_info": {
   "codemirror_mode": {
    "name": "ipython",
    "version": 3
   },
   "file_extension": ".py",
   "mimetype": "text/x-python",
   "name": "python",
   "nbconvert_exporter": "python",
   "pygments_lexer": "ipython3",
   "version": "3.7.1"
  }
 },
 "nbformat": 4,
 "nbformat_minor": 2
}
