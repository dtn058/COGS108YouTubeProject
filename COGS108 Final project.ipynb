{
 "cells": [
  {
   "cell_type": "code",
   "execution_count": 1,
   "metadata": {},
   "outputs": [],
   "source": [
    "import numpy as np\n",
    "import matplotlib.pyplot as plt\n",
    "import pandas as pd"
   ]
  },
  {
   "cell_type": "code",
   "execution_count": 2,
   "metadata": {},
   "outputs": [],
   "source": [
    "youtube = pd.read_csv(\"USvideos.csv\")\n",
    "youtube = youtube[youtube['category_id']==26]"
   ]
  },
  {
   "cell_type": "markdown",
   "metadata": {},
   "source": [
    "# Create a dataframe called \"youtube\"\n",
    "We will only keep the columns 'title', 'tags', 'views', 'trending_date', and 'publish_time'. We also drop any rows with null values."
   ]
  },
  {
   "cell_type": "code",
   "execution_count": 3,
   "metadata": {},
   "outputs": [
    {
     "data": {
      "text/html": [
       "<div>\n",
       "<style scoped>\n",
       "    .dataframe tbody tr th:only-of-type {\n",
       "        vertical-align: middle;\n",
       "    }\n",
       "\n",
       "    .dataframe tbody tr th {\n",
       "        vertical-align: top;\n",
       "    }\n",
       "\n",
       "    .dataframe thead th {\n",
       "        text-align: right;\n",
       "    }\n",
       "</style>\n",
       "<table border=\"1\" class=\"dataframe\">\n",
       "  <thead>\n",
       "    <tr style=\"text-align: right;\">\n",
       "      <th></th>\n",
       "      <th>title</th>\n",
       "      <th>tags</th>\n",
       "      <th>views</th>\n",
       "      <th>trending_date</th>\n",
       "      <th>publish_time</th>\n",
       "    </tr>\n",
       "  </thead>\n",
       "  <tbody>\n",
       "    <tr>\n",
       "      <th>23</th>\n",
       "      <td>What $4,800 Will Get You In NYC | Sweet Digs H...</td>\n",
       "      <td>refinery29|\"refinery 29\"|\"r29\"|\"r29 video\"|\"vi...</td>\n",
       "      <td>145921</td>\n",
       "      <td>17.14.11</td>\n",
       "      <td>2017-11-12T16:00:01.000Z</td>\n",
       "    </tr>\n",
       "    <tr>\n",
       "      <th>27</th>\n",
       "      <td>A Smart... MUG?! - Take apart a Heated Thermos!</td>\n",
       "      <td>Smart mug|\"Heated thermos\"|\"tech\"|\"gift idea\"|...</td>\n",
       "      <td>120727</td>\n",
       "      <td>17.14.11</td>\n",
       "      <td>2017-11-13T16:00:03.000Z</td>\n",
       "    </tr>\n",
       "    <tr>\n",
       "      <th>45</th>\n",
       "      <td>iPhone X vs Makeup Transformation (Face ID TEST)</td>\n",
       "      <td>iphone x|\"iphonex makeup\"|\"iphonex test\"|\"new ...</td>\n",
       "      <td>1456472</td>\n",
       "      <td>17.14.11</td>\n",
       "      <td>2017-11-12T00:45:54.000Z</td>\n",
       "    </tr>\n",
       "    <tr>\n",
       "      <th>69</th>\n",
       "      <td>John Lewis Christmas Ad 2017 - #MozTheMonster</td>\n",
       "      <td>christmas|\"john lewis christmas\"|\"john lewis\"|...</td>\n",
       "      <td>7224515</td>\n",
       "      <td>17.14.11</td>\n",
       "      <td>2017-11-10T07:38:29.000Z</td>\n",
       "    </tr>\n",
       "    <tr>\n",
       "      <th>80</th>\n",
       "      <td>A VERY #EXTRA EBAY SHOPPING HAUL!</td>\n",
       "      <td>ebay|\"haul\"|\"cheap\"|\"challenge\"|\"extra\"|\"amber...</td>\n",
       "      <td>484185</td>\n",
       "      <td>17.14.11</td>\n",
       "      <td>2017-11-11T02:42:23.000Z</td>\n",
       "    </tr>\n",
       "  </tbody>\n",
       "</table>\n",
       "</div>"
      ],
      "text/plain": [
       "                                                title  \\\n",
       "23  What $4,800 Will Get You In NYC | Sweet Digs H...   \n",
       "27    A Smart... MUG?! - Take apart a Heated Thermos!   \n",
       "45   iPhone X vs Makeup Transformation (Face ID TEST)   \n",
       "69      John Lewis Christmas Ad 2017 - #MozTheMonster   \n",
       "80                  A VERY #EXTRA EBAY SHOPPING HAUL!   \n",
       "\n",
       "                                                 tags    views trending_date  \\\n",
       "23  refinery29|\"refinery 29\"|\"r29\"|\"r29 video\"|\"vi...   145921      17.14.11   \n",
       "27  Smart mug|\"Heated thermos\"|\"tech\"|\"gift idea\"|...   120727      17.14.11   \n",
       "45  iphone x|\"iphonex makeup\"|\"iphonex test\"|\"new ...  1456472      17.14.11   \n",
       "69  christmas|\"john lewis christmas\"|\"john lewis\"|...  7224515      17.14.11   \n",
       "80  ebay|\"haul\"|\"cheap\"|\"challenge\"|\"extra\"|\"amber...   484185      17.14.11   \n",
       "\n",
       "                publish_time  \n",
       "23  2017-11-12T16:00:01.000Z  \n",
       "27  2017-11-13T16:00:03.000Z  \n",
       "45  2017-11-12T00:45:54.000Z  \n",
       "69  2017-11-10T07:38:29.000Z  \n",
       "80  2017-11-11T02:42:23.000Z  "
      ]
     },
     "execution_count": 3,
     "metadata": {},
     "output_type": "execute_result"
    }
   ],
   "source": [
    "youtube = youtube[['title','tags','views','trending_date','publish_time']]\n",
    "youtube = youtube.dropna()\n",
    "youtube.head()"
   ]
  },
  {
   "cell_type": "code",
   "execution_count": 4,
   "metadata": {},
   "outputs": [
    {
     "data": {
      "text/html": [
       "<div>\n",
       "<style scoped>\n",
       "    .dataframe tbody tr th:only-of-type {\n",
       "        vertical-align: middle;\n",
       "    }\n",
       "\n",
       "    .dataframe tbody tr th {\n",
       "        vertical-align: top;\n",
       "    }\n",
       "\n",
       "    .dataframe thead th {\n",
       "        text-align: right;\n",
       "    }\n",
       "</style>\n",
       "<table border=\"1\" class=\"dataframe\">\n",
       "  <thead>\n",
       "    <tr style=\"text-align: right;\">\n",
       "      <th></th>\n",
       "      <th>views</th>\n",
       "    </tr>\n",
       "  </thead>\n",
       "  <tbody>\n",
       "    <tr>\n",
       "      <th>count</th>\n",
       "      <td>4.146000e+03</td>\n",
       "    </tr>\n",
       "    <tr>\n",
       "      <th>mean</th>\n",
       "      <td>9.837301e+05</td>\n",
       "    </tr>\n",
       "    <tr>\n",
       "      <th>std</th>\n",
       "      <td>1.928995e+06</td>\n",
       "    </tr>\n",
       "    <tr>\n",
       "      <th>min</th>\n",
       "      <td>1.107000e+03</td>\n",
       "    </tr>\n",
       "    <tr>\n",
       "      <th>25%</th>\n",
       "      <td>2.154222e+05</td>\n",
       "    </tr>\n",
       "    <tr>\n",
       "      <th>50%</th>\n",
       "      <td>5.027830e+05</td>\n",
       "    </tr>\n",
       "    <tr>\n",
       "      <th>75%</th>\n",
       "      <td>1.098036e+06</td>\n",
       "    </tr>\n",
       "    <tr>\n",
       "      <th>max</th>\n",
       "      <td>5.415592e+07</td>\n",
       "    </tr>\n",
       "  </tbody>\n",
       "</table>\n",
       "</div>"
      ],
      "text/plain": [
       "              views\n",
       "count  4.146000e+03\n",
       "mean   9.837301e+05\n",
       "std    1.928995e+06\n",
       "min    1.107000e+03\n",
       "25%    2.154222e+05\n",
       "50%    5.027830e+05\n",
       "75%    1.098036e+06\n",
       "max    5.415592e+07"
      ]
     },
     "execution_count": 4,
     "metadata": {},
     "output_type": "execute_result"
    }
   ],
   "source": [
    "youtube.describe()"
   ]
  },
  {
   "cell_type": "markdown",
   "metadata": {},
   "source": [
    "# Process tags into our dataframe\n",
    "We store tags of each video in a list, which we keep in the variable 'new_tags'. \n",
    "\n",
    "We store the number of tags of each video in a list, which we keep in the variable 'count_tags'\n",
    "\n",
    "Finally, we add the number of each tag into youtube['count_tags'] and update the string of tags with the list of tags in youtube['tags']"
   ]
  },
  {
   "cell_type": "code",
   "execution_count": 5,
   "metadata": {},
   "outputs": [
    {
     "data": {
      "text/html": [
       "<div>\n",
       "<style scoped>\n",
       "    .dataframe tbody tr th:only-of-type {\n",
       "        vertical-align: middle;\n",
       "    }\n",
       "\n",
       "    .dataframe tbody tr th {\n",
       "        vertical-align: top;\n",
       "    }\n",
       "\n",
       "    .dataframe thead th {\n",
       "        text-align: right;\n",
       "    }\n",
       "</style>\n",
       "<table border=\"1\" class=\"dataframe\">\n",
       "  <thead>\n",
       "    <tr style=\"text-align: right;\">\n",
       "      <th></th>\n",
       "      <th>title</th>\n",
       "      <th>tags</th>\n",
       "      <th>views</th>\n",
       "      <th>trending_date</th>\n",
       "      <th>publish_time</th>\n",
       "      <th>count_tags</th>\n",
       "    </tr>\n",
       "  </thead>\n",
       "  <tbody>\n",
       "    <tr>\n",
       "      <th>23</th>\n",
       "      <td>What $4,800 Will Get You In NYC | Sweet Digs H...</td>\n",
       "      <td>[refinery29, \"refinery 29\", \"r29\", \"r29 video\"...</td>\n",
       "      <td>145921</td>\n",
       "      <td>17.14.11</td>\n",
       "      <td>2017-11-12T16:00:01.000Z</td>\n",
       "      <td>35</td>\n",
       "    </tr>\n",
       "    <tr>\n",
       "      <th>27</th>\n",
       "      <td>A Smart... MUG?! - Take apart a Heated Thermos!</td>\n",
       "      <td>[Smart mug, \"Heated thermos\", \"tech\", \"gift id...</td>\n",
       "      <td>120727</td>\n",
       "      <td>17.14.11</td>\n",
       "      <td>2017-11-13T16:00:03.000Z</td>\n",
       "      <td>18</td>\n",
       "    </tr>\n",
       "    <tr>\n",
       "      <th>45</th>\n",
       "      <td>iPhone X vs Makeup Transformation (Face ID TEST)</td>\n",
       "      <td>[iphone x, \"iphonex makeup\", \"iphonex test\", \"...</td>\n",
       "      <td>1456472</td>\n",
       "      <td>17.14.11</td>\n",
       "      <td>2017-11-12T00:45:54.000Z</td>\n",
       "      <td>17</td>\n",
       "    </tr>\n",
       "    <tr>\n",
       "      <th>69</th>\n",
       "      <td>John Lewis Christmas Ad 2017 - #MozTheMonster</td>\n",
       "      <td>[christmas, \"john lewis christmas\", \"john lewi...</td>\n",
       "      <td>7224515</td>\n",
       "      <td>17.14.11</td>\n",
       "      <td>2017-11-10T07:38:29.000Z</td>\n",
       "      <td>9</td>\n",
       "    </tr>\n",
       "    <tr>\n",
       "      <th>80</th>\n",
       "      <td>A VERY #EXTRA EBAY SHOPPING HAUL!</td>\n",
       "      <td>[ebay, \"haul\", \"cheap\", \"challenge\", \"extra\", ...</td>\n",
       "      <td>484185</td>\n",
       "      <td>17.14.11</td>\n",
       "      <td>2017-11-11T02:42:23.000Z</td>\n",
       "      <td>12</td>\n",
       "    </tr>\n",
       "  </tbody>\n",
       "</table>\n",
       "</div>"
      ],
      "text/plain": [
       "                                                title  \\\n",
       "23  What $4,800 Will Get You In NYC | Sweet Digs H...   \n",
       "27    A Smart... MUG?! - Take apart a Heated Thermos!   \n",
       "45   iPhone X vs Makeup Transformation (Face ID TEST)   \n",
       "69      John Lewis Christmas Ad 2017 - #MozTheMonster   \n",
       "80                  A VERY #EXTRA EBAY SHOPPING HAUL!   \n",
       "\n",
       "                                                 tags    views trending_date  \\\n",
       "23  [refinery29, \"refinery 29\", \"r29\", \"r29 video\"...   145921      17.14.11   \n",
       "27  [Smart mug, \"Heated thermos\", \"tech\", \"gift id...   120727      17.14.11   \n",
       "45  [iphone x, \"iphonex makeup\", \"iphonex test\", \"...  1456472      17.14.11   \n",
       "69  [christmas, \"john lewis christmas\", \"john lewi...  7224515      17.14.11   \n",
       "80  [ebay, \"haul\", \"cheap\", \"challenge\", \"extra\", ...   484185      17.14.11   \n",
       "\n",
       "                publish_time  count_tags  \n",
       "23  2017-11-12T16:00:01.000Z          35  \n",
       "27  2017-11-13T16:00:03.000Z          18  \n",
       "45  2017-11-12T00:45:54.000Z          17  \n",
       "69  2017-11-10T07:38:29.000Z           9  \n",
       "80  2017-11-11T02:42:23.000Z          12  "
      ]
     },
     "execution_count": 5,
     "metadata": {},
     "output_type": "execute_result"
    }
   ],
   "source": [
    "tags = youtube['tags']\n",
    "tags_new = list(tags)\n",
    "\n",
    "new_tags = []\n",
    "count_tags = []\n",
    "\n",
    "# Split words in tags into a list of tags\n",
    "for s in tags_new:\n",
    "    s = s.split('|')\n",
    "    new_tags.append(s)\n",
    "\n",
    "# Make list of how many tags are in each video\n",
    "for i in new_tags:\n",
    "    count_tags.append(len(i))\n",
    "\n",
    "# Prepare count_tags to be added into dataframe\n",
    "count_tag = np.array(count_tags, dtype=np.int64)\n",
    "count_tag = pd.Series(count_tag)\n",
    "\n",
    "# Add count_tag to dataframe\n",
    "youtube['count_tags'] = count_tag.values\n",
    "youtube['tags'] = new_tags\n",
    "\n",
    "youtube.head()"
   ]
  },
  {
   "cell_type": "code",
   "execution_count": 9,
   "metadata": {},
   "outputs": [
    {
     "data": {
      "text/plain": [
       "Text(0,0.5,'num_views')"
      ]
     },
     "execution_count": 9,
     "metadata": {},
     "output_type": "execute_result"
    },
    {
     "data": {
      "image/png": "[encoded data removed]",
      "text/plain": [
       "<Figure size 432x288 with 1 Axes>"
      ]
     },
     "metadata": {
      "needs_background": "light"
     },
     "output_type": "display_data"
    }
   ],
   "source": [
    "counts = list(youtube['count_tags'])\n",
    "num_views = list(youtube['views'])\n",
    "\n",
    "plt.scatter(counts,num_views, s=10)\n",
    "plt.xlabel(\"counts\")\n",
    "plt.ylabel(\"num_views\")"
   ]
  },
  {
   "cell_type": "code",
   "execution_count": 17,
   "metadata": {},
   "outputs": [
    {
     "name": "stdout",
     "output_type": "stream",
     "text": [
      "(75, 6)\n"
     ]
    },
    {
     "data": {
      "text/html": [
       "<div>\n",
       "<style scoped>\n",
       "    .dataframe tbody tr th:only-of-type {\n",
       "        vertical-align: middle;\n",
       "    }\n",
       "\n",
       "    .dataframe tbody tr th {\n",
       "        vertical-align: top;\n",
       "    }\n",
       "\n",
       "    .dataframe thead th {\n",
       "        text-align: right;\n",
       "    }\n",
       "</style>\n",
       "<table border=\"1\" class=\"dataframe\">\n",
       "  <thead>\n",
       "    <tr style=\"text-align: right;\">\n",
       "      <th></th>\n",
       "      <th>title</th>\n",
       "      <th>tags</th>\n",
       "      <th>views</th>\n",
       "      <th>trending_date</th>\n",
       "      <th>publish_time</th>\n",
       "      <th>count_tags</th>\n",
       "    </tr>\n",
       "  </thead>\n",
       "  <tbody>\n",
       "    <tr>\n",
       "      <th>69</th>\n",
       "      <td>John Lewis Christmas Ad 2017 - #MozTheMonster</td>\n",
       "      <td>[christmas, \"john lewis christmas\", \"john lewi...</td>\n",
       "      <td>7224515</td>\n",
       "      <td>17.14.11</td>\n",
       "      <td>2017-11-10T07:38:29.000Z</td>\n",
       "      <td>9</td>\n",
       "    </tr>\n",
       "    <tr>\n",
       "      <th>329</th>\n",
       "      <td>John Lewis Christmas Ad 2017 - #MozTheMonster</td>\n",
       "      <td>[christmas, \"john lewis christmas\", \"john lewi...</td>\n",
       "      <td>7563254</td>\n",
       "      <td>17.15.11</td>\n",
       "      <td>2017-11-10T07:38:29.000Z</td>\n",
       "      <td>9</td>\n",
       "    </tr>\n",
       "    <tr>\n",
       "      <th>569</th>\n",
       "      <td>John Lewis Christmas Ad 2017 - #MozTheMonster</td>\n",
       "      <td>[christmas, \"john lewis christmas\", \"john lewi...</td>\n",
       "      <td>7727696</td>\n",
       "      <td>17.16.11</td>\n",
       "      <td>2017-11-10T07:38:29.000Z</td>\n",
       "      <td>9</td>\n",
       "    </tr>\n",
       "    <tr>\n",
       "      <th>791</th>\n",
       "      <td>John Lewis Christmas Ad 2017 - #MozTheMonster</td>\n",
       "      <td>[christmas, \"john lewis christmas\", \"john lewi...</td>\n",
       "      <td>8041928</td>\n",
       "      <td>17.17.11</td>\n",
       "      <td>2017-11-10T07:38:29.000Z</td>\n",
       "      <td>9</td>\n",
       "    </tr>\n",
       "    <tr>\n",
       "      <th>4001</th>\n",
       "      <td>42 HOLY GRAIL HACKS THAT WILL SAVE YOU A FORTUNE</td>\n",
       "      <td>[5-Minute Crafts, \"DIY\", \"Do it yourself\", \"cr...</td>\n",
       "      <td>6315549</td>\n",
       "      <td>17.04.12</td>\n",
       "      <td>2017-12-03T08:30:00.000Z</td>\n",
       "      <td>45</td>\n",
       "    </tr>\n",
       "  </tbody>\n",
       "</table>\n",
       "</div>"
      ],
      "text/plain": [
       "                                                 title  \\\n",
       "69       John Lewis Christmas Ad 2017 - #MozTheMonster   \n",
       "329      John Lewis Christmas Ad 2017 - #MozTheMonster   \n",
       "569      John Lewis Christmas Ad 2017 - #MozTheMonster   \n",
       "791      John Lewis Christmas Ad 2017 - #MozTheMonster   \n",
       "4001  42 HOLY GRAIL HACKS THAT WILL SAVE YOU A FORTUNE   \n",
       "\n",
       "                                                   tags    views  \\\n",
       "69    [christmas, \"john lewis christmas\", \"john lewi...  7224515   \n",
       "329   [christmas, \"john lewis christmas\", \"john lewi...  7563254   \n",
       "569   [christmas, \"john lewis christmas\", \"john lewi...  7727696   \n",
       "791   [christmas, \"john lewis christmas\", \"john lewi...  8041928   \n",
       "4001  [5-Minute Crafts, \"DIY\", \"Do it yourself\", \"cr...  6315549   \n",
       "\n",
       "     trending_date              publish_time  count_tags  \n",
       "69        17.14.11  2017-11-10T07:38:29.000Z           9  \n",
       "329       17.15.11  2017-11-10T07:38:29.000Z           9  \n",
       "569       17.16.11  2017-11-10T07:38:29.000Z           9  \n",
       "791       17.17.11  2017-11-10T07:38:29.000Z           9  \n",
       "4001      17.04.12  2017-12-03T08:30:00.000Z          45  "
      ]
     },
     "execution_count": 17,
     "metadata": {},
     "output_type": "execute_result"
    }
   ],
   "source": [
    "df = youtube[youtube['views'] > 5_000_000]\n",
    "print(df.shape)\n",
    "df.head()"
   ]
  },
  {
   "cell_type": "code",
   "execution_count": 7,
   "metadata": {
    "scrolled": true
   },
   "outputs": [
    {
     "data": {
      "text/plain": [
       "array([[<matplotlib.axes._subplots.AxesSubplot object at 0x000001F25E761278>,\n",
       "        <matplotlib.axes._subplots.AxesSubplot object at 0x000001F25EA84898>],\n",
       "       [<matplotlib.axes._subplots.AxesSubplot object at 0x000001F25EAAEE48>,\n",
       "        <matplotlib.axes._subplots.AxesSubplot object at 0x000001F25EADE4E0>]],\n",
       "      dtype=object)"
      ]
     },
     "execution_count": 7,
     "metadata": {},
     "output_type": "execute_result"
    },
    {
     "data": {
      "image/png": "[encoded data removed]",
      "text/plain": [
       "<Figure size 432x288 with 4 Axes>"
      ]
     },
     "metadata": {
      "needs_background": "light"
     },
     "output_type": "display_data"
    }
   ],
   "source": [
    "pd.plotting.scatter_matrix(youtube)"
   ]
  },
  {
   "cell_type": "code",
   "execution_count": null,
   "metadata": {},
   "outputs": [],
   "source": []
  }
 ],
 "metadata": {
  "kernelspec": {
   "display_name": "Python 3",
   "language": "python",
   "name": "python3"
  },
  "language_info": {
   "codemirror_mode": {
    "name": "ipython",
    "version": 3
   },
   "file_extension": ".py",
   "mimetype": "text/x-python",
   "name": "python",
   "nbconvert_exporter": "python",
   "pygments_lexer": "ipython3",
   "version": "3.7.0"
  }
 },
 "nbformat": 4,
 "nbformat_minor": 2
}
