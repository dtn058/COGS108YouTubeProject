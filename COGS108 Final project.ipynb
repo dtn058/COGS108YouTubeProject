{
 "cells": [
  {
   "cell_type": "code",
   "execution_count": 2,
   "metadata": {},
   "outputs": [],
   "source": [
    "import numpy as np\n",
    "import matplotlib.pyplot as plt\n",
    "import pandas as pd"
   ]
  },
  {
   "cell_type": "code",
   "execution_count": 3,
   "metadata": {},
   "outputs": [],
   "source": [
    "youtube = pd.read_csv(\"USvideos.csv\")\n",
    "youtube = youtube[youtube['category_id']==26]"
   ]
  },
  {
   "cell_type": "code",
   "execution_count": 4,
   "metadata": {},
   "outputs": [
    {
     "data": {
      "text/html": [
       "<div>\n",
       "<style scoped>\n",
       "    .dataframe tbody tr th:only-of-type {\n",
       "        vertical-align: middle;\n",
       "    }\n",
       "\n",
       "    .dataframe tbody tr th {\n",
       "        vertical-align: top;\n",
       "    }\n",
       "\n",
       "    .dataframe thead th {\n",
       "        text-align: right;\n",
       "    }\n",
       "</style>\n",
       "<table border=\"1\" class=\"dataframe\">\n",
       "  <thead>\n",
       "    <tr style=\"text-align: right;\">\n",
       "      <th></th>\n",
       "      <th>title</th>\n",
       "      <th>tags</th>\n",
       "      <th>views</th>\n",
       "      <th>likes</th>\n",
       "      <th>dislikes</th>\n",
       "      <th>comment_count</th>\n",
       "      <th>trending_date</th>\n",
       "      <th>publish_time</th>\n",
       "    </tr>\n",
       "  </thead>\n",
       "  <tbody>\n",
       "    <tr>\n",
       "      <th>143</th>\n",
       "      <td>Three meals that cost me $1.50 each</td>\n",
       "      <td>brothers green eats|\"budget cooking\"|\"cooking ...</td>\n",
       "      <td>77630</td>\n",
       "      <td>1991</td>\n",
       "      <td>83</td>\n",
       "      <td>208</td>\n",
       "      <td>17.14.11</td>\n",
       "      <td>2017-11-09T14:00:08.000Z</td>\n",
       "    </tr>\n",
       "    <tr>\n",
       "      <th>159</th>\n",
       "      <td>Chapter 28: I Love My Baby But, I Miss My Dad</td>\n",
       "      <td>Whitney Port|\"I Love My Baby But\"|\"Grief\"|\"Gri...</td>\n",
       "      <td>55398</td>\n",
       "      <td>1170</td>\n",
       "      <td>22</td>\n",
       "      <td>336</td>\n",
       "      <td>17.14.11</td>\n",
       "      <td>2017-11-09T17:22:40.000Z</td>\n",
       "    </tr>\n",
       "    <tr>\n",
       "      <th>171</th>\n",
       "      <td>FACE SURGERY WITH MAKEUP</td>\n",
       "      <td>makeup|\"makeup tutorial\"|\"surgery\"|\"transforma...</td>\n",
       "      <td>471266</td>\n",
       "      <td>23634</td>\n",
       "      <td>460</td>\n",
       "      <td>1714</td>\n",
       "      <td>17.14.11</td>\n",
       "      <td>2017-11-09T03:27:36.000Z</td>\n",
       "    </tr>\n",
       "    <tr>\n",
       "      <th>179</th>\n",
       "      <td>Chocolate Orange Autumn Cupcakes | Cupcake Jemma</td>\n",
       "      <td>cupcakes|\"cupcake\"|\"cup cake\"|\"cake\"|\"cakes\"|\"...</td>\n",
       "      <td>122669</td>\n",
       "      <td>5723</td>\n",
       "      <td>55</td>\n",
       "      <td>263</td>\n",
       "      <td>17.14.11</td>\n",
       "      <td>2017-11-09T18:30:01.000Z</td>\n",
       "    </tr>\n",
       "    <tr>\n",
       "      <th>183</th>\n",
       "      <td>My Every Day Autumn Makeup | Zoella</td>\n",
       "      <td>zoe sugg|\"zoe\"|\"sugg\"|\"zoella\"|\"beauty\"|\"cosme...</td>\n",
       "      <td>1390440</td>\n",
       "      <td>86207</td>\n",
       "      <td>1775</td>\n",
       "      <td>710</td>\n",
       "      <td>17.14.11</td>\n",
       "      <td>2017-11-08T18:24:16.000Z</td>\n",
       "    </tr>\n",
       "  </tbody>\n",
       "</table>\n",
       "</div>"
      ],
      "text/plain": [
       "                                                title  \\\n",
       "143               Three meals that cost me $1.50 each   \n",
       "159     Chapter 28: I Love My Baby But, I Miss My Dad   \n",
       "171                          FACE SURGERY WITH MAKEUP   \n",
       "179  Chocolate Orange Autumn Cupcakes | Cupcake Jemma   \n",
       "183               My Every Day Autumn Makeup | Zoella   \n",
       "\n",
       "                                                  tags    views  likes  \\\n",
       "143  brothers green eats|\"budget cooking\"|\"cooking ...    77630   1991   \n",
       "159  Whitney Port|\"I Love My Baby But\"|\"Grief\"|\"Gri...    55398   1170   \n",
       "171  makeup|\"makeup tutorial\"|\"surgery\"|\"transforma...   471266  23634   \n",
       "179  cupcakes|\"cupcake\"|\"cup cake\"|\"cake\"|\"cakes\"|\"...   122669   5723   \n",
       "183  zoe sugg|\"zoe\"|\"sugg\"|\"zoella\"|\"beauty\"|\"cosme...  1390440  86207   \n",
       "\n",
       "     dislikes  comment_count trending_date              publish_time  \n",
       "143        83            208      17.14.11  2017-11-09T14:00:08.000Z  \n",
       "159        22            336      17.14.11  2017-11-09T17:22:40.000Z  \n",
       "171       460           1714      17.14.11  2017-11-09T03:27:36.000Z  \n",
       "179        55            263      17.14.11  2017-11-09T18:30:01.000Z  \n",
       "183      1775            710      17.14.11  2017-11-08T18:24:16.000Z  "
      ]
     },
     "execution_count": 4,
     "metadata": {},
     "output_type": "execute_result"
    }
   ],
   "source": [
    "youtube = youtube[['title','tags','views','likes','dislikes','comment_count','trending_date','publish_time']]\n",
    "youtube = youtube.dropna()\n",
    "youtube.drop_duplicates(subset = 'title', keep = 'last',inplace = True)\n",
    "youtube.head()"
   ]
  },
  {
   "cell_type": "code",
   "execution_count": 5,
   "metadata": {},
   "outputs": [
    {
     "data": {
      "text/html": [
       "<div>\n",
       "<style scoped>\n",
       "    .dataframe tbody tr th:only-of-type {\n",
       "        vertical-align: middle;\n",
       "    }\n",
       "\n",
       "    .dataframe tbody tr th {\n",
       "        vertical-align: top;\n",
       "    }\n",
       "\n",
       "    .dataframe thead th {\n",
       "        text-align: right;\n",
       "    }\n",
       "</style>\n",
       "<table border=\"1\" class=\"dataframe\">\n",
       "  <thead>\n",
       "    <tr style=\"text-align: right;\">\n",
       "      <th></th>\n",
       "      <th>views</th>\n",
       "      <th>likes</th>\n",
       "      <th>dislikes</th>\n",
       "      <th>comment_count</th>\n",
       "    </tr>\n",
       "  </thead>\n",
       "  <tbody>\n",
       "    <tr>\n",
       "      <th>count</th>\n",
       "      <td>6.020000e+02</td>\n",
       "      <td>602.000000</td>\n",
       "      <td>602.000000</td>\n",
       "      <td>602.000000</td>\n",
       "    </tr>\n",
       "    <tr>\n",
       "      <th>mean</th>\n",
       "      <td>9.293113e+05</td>\n",
       "      <td>34478.192691</td>\n",
       "      <td>1178.961794</td>\n",
       "      <td>4831.335548</td>\n",
       "    </tr>\n",
       "    <tr>\n",
       "      <th>std</th>\n",
       "      <td>2.583927e+06</td>\n",
       "      <td>55167.320801</td>\n",
       "      <td>3441.104529</td>\n",
       "      <td>14743.444112</td>\n",
       "    </tr>\n",
       "    <tr>\n",
       "      <th>min</th>\n",
       "      <td>1.370000e+03</td>\n",
       "      <td>0.000000</td>\n",
       "      <td>0.000000</td>\n",
       "      <td>0.000000</td>\n",
       "    </tr>\n",
       "    <tr>\n",
       "      <th>25%</th>\n",
       "      <td>1.394500e+05</td>\n",
       "      <td>4724.000000</td>\n",
       "      <td>137.000000</td>\n",
       "      <td>475.750000</td>\n",
       "    </tr>\n",
       "    <tr>\n",
       "      <th>50%</th>\n",
       "      <td>4.110965e+05</td>\n",
       "      <td>15204.000000</td>\n",
       "      <td>390.000000</td>\n",
       "      <td>1306.000000</td>\n",
       "    </tr>\n",
       "    <tr>\n",
       "      <th>75%</th>\n",
       "      <td>9.792240e+05</td>\n",
       "      <td>40898.000000</td>\n",
       "      <td>1039.250000</td>\n",
       "      <td>3712.750000</td>\n",
       "    </tr>\n",
       "    <tr>\n",
       "      <th>max</th>\n",
       "      <td>5.415592e+07</td>\n",
       "      <td>605954.000000</td>\n",
       "      <td>66632.000000</td>\n",
       "      <td>203884.000000</td>\n",
       "    </tr>\n",
       "  </tbody>\n",
       "</table>\n",
       "</div>"
      ],
      "text/plain": [
       "              views          likes      dislikes  comment_count\n",
       "count  6.020000e+02     602.000000    602.000000     602.000000\n",
       "mean   9.293113e+05   34478.192691   1178.961794    4831.335548\n",
       "std    2.583927e+06   55167.320801   3441.104529   14743.444112\n",
       "min    1.370000e+03       0.000000      0.000000       0.000000\n",
       "25%    1.394500e+05    4724.000000    137.000000     475.750000\n",
       "50%    4.110965e+05   15204.000000    390.000000    1306.000000\n",
       "75%    9.792240e+05   40898.000000   1039.250000    3712.750000\n",
       "max    5.415592e+07  605954.000000  66632.000000  203884.000000"
      ]
     },
     "execution_count": 5,
     "metadata": {},
     "output_type": "execute_result"
    }
   ],
   "source": [
    "youtube.describe()"
   ]
  },
  {
   "cell_type": "markdown",
   "metadata": {},
   "source": [
    "## Total number of tags VS views"
   ]
  },
  {
   "cell_type": "markdown",
   "metadata": {},
   "source": [
    "In this section, we focus on investigating whether the __total number of tags__ used in a video will affect the number of __views__ it get.\n",
    "\n",
    "To start, we first create a separate column in the original dataset to record the number of tags used in each video. We call this column __count_tags__"
   ]
  },
  {
   "cell_type": "code",
   "execution_count": 6,
   "metadata": {},
   "outputs": [
    {
     "data": {
      "text/html": [
       "<div>\n",
       "<style scoped>\n",
       "    .dataframe tbody tr th:only-of-type {\n",
       "        vertical-align: middle;\n",
       "    }\n",
       "\n",
       "    .dataframe tbody tr th {\n",
       "        vertical-align: top;\n",
       "    }\n",
       "\n",
       "    .dataframe thead th {\n",
       "        text-align: right;\n",
       "    }\n",
       "</style>\n",
       "<table border=\"1\" class=\"dataframe\">\n",
       "  <thead>\n",
       "    <tr style=\"text-align: right;\">\n",
       "      <th></th>\n",
       "      <th>title</th>\n",
       "      <th>tags</th>\n",
       "      <th>views</th>\n",
       "      <th>likes</th>\n",
       "      <th>dislikes</th>\n",
       "      <th>comment_count</th>\n",
       "      <th>trending_date</th>\n",
       "      <th>publish_time</th>\n",
       "      <th>count_tags</th>\n",
       "    </tr>\n",
       "  </thead>\n",
       "  <tbody>\n",
       "    <tr>\n",
       "      <th>143</th>\n",
       "      <td>Three meals that cost me $1.50 each</td>\n",
       "      <td>brothers green eats|\"budget cooking\"|\"cooking ...</td>\n",
       "      <td>77630</td>\n",
       "      <td>1991</td>\n",
       "      <td>83</td>\n",
       "      <td>208</td>\n",
       "      <td>17.14.11</td>\n",
       "      <td>2017-11-09T14:00:08.000Z</td>\n",
       "      <td>19</td>\n",
       "    </tr>\n",
       "    <tr>\n",
       "      <th>159</th>\n",
       "      <td>Chapter 28: I Love My Baby But, I Miss My Dad</td>\n",
       "      <td>Whitney Port|\"I Love My Baby But\"|\"Grief\"|\"Gri...</td>\n",
       "      <td>55398</td>\n",
       "      <td>1170</td>\n",
       "      <td>22</td>\n",
       "      <td>336</td>\n",
       "      <td>17.14.11</td>\n",
       "      <td>2017-11-09T17:22:40.000Z</td>\n",
       "      <td>6</td>\n",
       "    </tr>\n",
       "    <tr>\n",
       "      <th>171</th>\n",
       "      <td>FACE SURGERY WITH MAKEUP</td>\n",
       "      <td>makeup|\"makeup tutorial\"|\"surgery\"|\"transforma...</td>\n",
       "      <td>471266</td>\n",
       "      <td>23634</td>\n",
       "      <td>460</td>\n",
       "      <td>1714</td>\n",
       "      <td>17.14.11</td>\n",
       "      <td>2017-11-09T03:27:36.000Z</td>\n",
       "      <td>28</td>\n",
       "    </tr>\n",
       "    <tr>\n",
       "      <th>179</th>\n",
       "      <td>Chocolate Orange Autumn Cupcakes | Cupcake Jemma</td>\n",
       "      <td>cupcakes|\"cupcake\"|\"cup cake\"|\"cake\"|\"cakes\"|\"...</td>\n",
       "      <td>122669</td>\n",
       "      <td>5723</td>\n",
       "      <td>55</td>\n",
       "      <td>263</td>\n",
       "      <td>17.14.11</td>\n",
       "      <td>2017-11-09T18:30:01.000Z</td>\n",
       "      <td>36</td>\n",
       "    </tr>\n",
       "    <tr>\n",
       "      <th>183</th>\n",
       "      <td>My Every Day Autumn Makeup | Zoella</td>\n",
       "      <td>zoe sugg|\"zoe\"|\"sugg\"|\"zoella\"|\"beauty\"|\"cosme...</td>\n",
       "      <td>1390440</td>\n",
       "      <td>86207</td>\n",
       "      <td>1775</td>\n",
       "      <td>710</td>\n",
       "      <td>17.14.11</td>\n",
       "      <td>2017-11-08T18:24:16.000Z</td>\n",
       "      <td>22</td>\n",
       "    </tr>\n",
       "  </tbody>\n",
       "</table>\n",
       "</div>"
      ],
      "text/plain": [
       "                                                title  \\\n",
       "143               Three meals that cost me $1.50 each   \n",
       "159     Chapter 28: I Love My Baby But, I Miss My Dad   \n",
       "171                          FACE SURGERY WITH MAKEUP   \n",
       "179  Chocolate Orange Autumn Cupcakes | Cupcake Jemma   \n",
       "183               My Every Day Autumn Makeup | Zoella   \n",
       "\n",
       "                                                  tags    views  likes  \\\n",
       "143  brothers green eats|\"budget cooking\"|\"cooking ...    77630   1991   \n",
       "159  Whitney Port|\"I Love My Baby But\"|\"Grief\"|\"Gri...    55398   1170   \n",
       "171  makeup|\"makeup tutorial\"|\"surgery\"|\"transforma...   471266  23634   \n",
       "179  cupcakes|\"cupcake\"|\"cup cake\"|\"cake\"|\"cakes\"|\"...   122669   5723   \n",
       "183  zoe sugg|\"zoe\"|\"sugg\"|\"zoella\"|\"beauty\"|\"cosme...  1390440  86207   \n",
       "\n",
       "     dislikes  comment_count trending_date              publish_time  \\\n",
       "143        83            208      17.14.11  2017-11-09T14:00:08.000Z   \n",
       "159        22            336      17.14.11  2017-11-09T17:22:40.000Z   \n",
       "171       460           1714      17.14.11  2017-11-09T03:27:36.000Z   \n",
       "179        55            263      17.14.11  2017-11-09T18:30:01.000Z   \n",
       "183      1775            710      17.14.11  2017-11-08T18:24:16.000Z   \n",
       "\n",
       "     count_tags  \n",
       "143          19  \n",
       "159           6  \n",
       "171          28  \n",
       "179          36  \n",
       "183          22  "
      ]
     },
     "execution_count": 6,
     "metadata": {},
     "output_type": "execute_result"
    }
   ],
   "source": [
    "# Convert the 'tags' column to a list, where tags_list[i] represent video i's tags\n",
    "tags = youtube['tags']\n",
    "tags_list = list(tags)\n",
    "\n",
    "new_tags = []\n",
    "count_tags = []\n",
    "\n",
    "# Split words in tags into a list of tags\n",
    "for s in tags_list:\n",
    "    s = s.split('|')\n",
    "    new_tags.append(s)\n",
    "\n",
    "# Make list of how many tags are in each video\n",
    "for i in new_tags:\n",
    "    count_tags.append(len(i))\n",
    "\n",
    "# Prepare count_tags to be added into dataframe\n",
    "count_tag = np.array(count_tags, dtype=np.int64)\n",
    "count_tag = pd.Series(count_tag)\n",
    "\n",
    "# Add count_tag to dataframe\n",
    "youtube['count_tags'] = count_tag.values\n",
    "\n",
    "# Now we can see 'count_tags' column is successfully added to the dataframe\n",
    "youtube.head()\n"
   ]
  },
  {
   "cell_type": "markdown",
   "metadata": {},
   "source": [
    "We can see that __count_tags__ column is successfully added to the dataframe, each of its value indicates the number of tags used in each video. \n",
    "\n",
    "In order to better see how the __count_tags__ column correlates with the __views__ column, we decided to graph the data in a scatter plot"
   ]
  },
  {
   "cell_type": "code",
   "execution_count": 23,
   "metadata": {},
   "outputs": [
    {
     "data": {
      "text/plain": [
       "Text(0,0.5,'Views')"
      ]
     },
     "execution_count": 23,
     "metadata": {},
     "output_type": "execute_result"
    },
    {
     "data": {
      "image/png": "[encoded data removed]",
      "text/plain": [
       "<matplotlib.figure.Figure at 0x114a8de10>"
      ]
     },
     "metadata": {},
     "output_type": "display_data"
    }
   ],
   "source": [
    "# Here we plot the 'count_tags' column against 'views' column\n",
    "counts = list(youtube['count_tags'])\n",
    "num_views = list(youtube['views'])\n",
    "\n",
    "# Plot the data using scatter plot\n",
    "plt.scatter(counts,num_views)\n",
    "plt.xlabel(\"Number of Tags\")\n",
    "plt.ylabel(\"Views\")"
   ]
  },
  {
   "cell_type": "markdown",
   "metadata": {},
   "source": [
    "Here we can see that there are two extremely large value, which indicates two videos that have extremely large views. Since these two datapoints are too far away from the rest of the datapoints, they do not represent the overall correlation between __count_tags__ and __views__ column. \n",
    "\n",
    "Therefore, to better to picture the the overall correlation between these two columns, we will remove the outliers from the datasets by removing all datapoints that are above 10 million views"
   ]
  },
  {
   "cell_type": "code",
   "execution_count": 27,
   "metadata": {
    "scrolled": true
   },
   "outputs": [
    {
     "data": {
      "text/plain": [
       "Text(0,0.5,'Views')"
      ]
     },
     "execution_count": 27,
     "metadata": {},
     "output_type": "execute_result"
    },
    {
     "data": {
      "image/png": "[encoded data removed]",
      "text/plain": [
       "<matplotlib.figure.Figure at 0x119684588>"
      ]
     },
     "metadata": {},
     "output_type": "display_data"
    }
   ],
   "source": [
    "# Creating a new dataframe that only includes datapoints that have less or equal to 10 million views\n",
    "youtube_10m = youtube[youtube['views']<=10000000]\n",
    "counts = list(youtube_10m['count_tags'])\n",
    "num_views = list(youtube_10m['views'])\n",
    "\n",
    "# Plot again\n",
    "plt.scatter(counts,num_views)\n",
    "plt.xlabel(\"Number of Tags\")\n",
    "plt.ylabel(\"Views\")\n"
   ]
  },
  {
   "cell_type": "markdown",
   "metadata": {},
   "source": [
    "It's difficult to see any trend from this scatter plot. Therefore, we will build a linear model to try to predict our result. \n",
    "\n",
    "According to our hypothesis, we believed that the number of views is positively correlated with the number of tags, since videos with more tags are likely to see by more people. If our model shows that the two values are negatively correlated or not correlated, then it will prove our hypothesis is false. \n",
    "\n",
    "In the following graph, we will plot our prediction on top of our scatter plot to visualize see how well the model fits the data \n"
   ]
  },
  {
   "cell_type": "code",
   "execution_count": 47,
   "metadata": {},
   "outputs": [
    {
     "data": {
      "text/plain": [
       "[<matplotlib.lines.Line2D at 0x1a20766ef0>]"
      ]
     },
     "execution_count": 47,
     "metadata": {},
     "output_type": "execute_result"
    },
    {
     "data": {
      "image/png": "[encoded data removed]",
      "text/plain": [
       "<matplotlib.figure.Figure at 0x1a20766da0>"
      ]
     },
     "metadata": {},
     "output_type": "display_data"
    }
   ],
   "source": [
    "# Plot the scatter plot again\n",
    "plt.scatter(counts,num_views)\n",
    "plt.xlabel(\"Number of Tags\")\n",
    "plt.ylabel(\"Views\")\n",
    "\n",
    "# Use ployfit to get the best fit line, and show it in the graph\n",
    "a1, b1 = np.polyfit(youtube_10m['count_tags'], youtube_10m['views'], 1)\n",
    "count_tags_range = np.arange(0., 70.)\n",
    "pred_views = a1 * count_tags_range + b1\n",
    "plt.plot(count_tags_range, pred_views, c  ='r')"
   ]
  },
  {
   "cell_type": "markdown",
   "metadata": {},
   "source": [
    "As we can see from the graph, there doesn't seem to be like a strong correlation between the number of tags and views. To check if our intuition is correct, we will use scipy's linegress method to get the r value, which indicates how well are the two correlated. \n",
    "\n",
    "The r value ranges from -1 to 1. If the r value is -1, it means our data shows a perfectly negative relationship; if the r value is is 1, it means our data shows a perfectly postive relationship; if the r value is is 0, it means our data shows no relationship."
   ]
  },
  {
   "cell_type": "code",
   "execution_count": 48,
   "metadata": {},
   "outputs": [
    {
     "name": "stdout",
     "output_type": "stream",
     "text": [
      "r value is:  -0.0012811657995536235\n"
     ]
    }
   ],
   "source": [
    "import scipy.stats\n",
    "from scipy.stats import linregress\n",
    "\n",
    "slope, intercept, r_value, p_value, std_err = scipy.stats.linregress(youtube_10m['count_tags'], youtube_10m['views'])\n",
    "\n",
    "print(\"r value is: \",r_value)"
   ]
  },
  {
   "cell_type": "markdown",
   "metadata": {},
   "source": [
    "From the result, we can see that the r value is close to 0, which indicates that there is not a clear relationship between the number of tags used and the views of a video. \n",
    "\n",
    "Therefore, our hypothesis regarding the relationship between the number of tags used and the views is proven to be false"
   ]
  },
  {
   "cell_type": "markdown",
   "metadata": {},
   "source": [
    "# This is end of Total number of tags VS views analysis. Below is the \"publish to trending analysis\", DO NOT include in the final draft"
   ]
  },
  {
   "cell_type": "code",
   "execution_count": 9,
   "metadata": {},
   "outputs": [
    {
     "name": "stdout",
     "output_type": "stream",
     "text": [
      "(602, 9)\n"
     ]
    },
    {
     "data": {
      "text/html": [
       "<div>\n",
       "<style scoped>\n",
       "    .dataframe tbody tr th:only-of-type {\n",
       "        vertical-align: middle;\n",
       "    }\n",
       "\n",
       "    .dataframe tbody tr th {\n",
       "        vertical-align: top;\n",
       "    }\n",
       "\n",
       "    .dataframe thead th {\n",
       "        text-align: right;\n",
       "    }\n",
       "</style>\n",
       "<table border=\"1\" class=\"dataframe\">\n",
       "  <thead>\n",
       "    <tr style=\"text-align: right;\">\n",
       "      <th></th>\n",
       "      <th>publish_time</th>\n",
       "      <th>trending_date</th>\n",
       "    </tr>\n",
       "  </thead>\n",
       "  <tbody>\n",
       "    <tr>\n",
       "      <th>143</th>\n",
       "      <td>2017-11-09T14:00:08.000Z</td>\n",
       "      <td>17.14.11</td>\n",
       "    </tr>\n",
       "    <tr>\n",
       "      <th>159</th>\n",
       "      <td>2017-11-09T17:22:40.000Z</td>\n",
       "      <td>17.14.11</td>\n",
       "    </tr>\n",
       "    <tr>\n",
       "      <th>171</th>\n",
       "      <td>2017-11-09T03:27:36.000Z</td>\n",
       "      <td>17.14.11</td>\n",
       "    </tr>\n",
       "    <tr>\n",
       "      <th>179</th>\n",
       "      <td>2017-11-09T18:30:01.000Z</td>\n",
       "      <td>17.14.11</td>\n",
       "    </tr>\n",
       "    <tr>\n",
       "      <th>183</th>\n",
       "      <td>2017-11-08T18:24:16.000Z</td>\n",
       "      <td>17.14.11</td>\n",
       "    </tr>\n",
       "    <tr>\n",
       "      <th>189</th>\n",
       "      <td>2017-11-08T18:00:05.000Z</td>\n",
       "      <td>17.14.11</td>\n",
       "    </tr>\n",
       "    <tr>\n",
       "      <th>359</th>\n",
       "      <td>2017-11-10T16:01:04.000Z</td>\n",
       "      <td>17.15.11</td>\n",
       "    </tr>\n",
       "    <tr>\n",
       "      <th>364</th>\n",
       "      <td>2017-11-10T18:42:55.000Z</td>\n",
       "      <td>17.15.11</td>\n",
       "    </tr>\n",
       "    <tr>\n",
       "      <th>378</th>\n",
       "      <td>2017-11-10T01:30:00.000Z</td>\n",
       "      <td>17.15.11</td>\n",
       "    </tr>\n",
       "    <tr>\n",
       "      <th>387</th>\n",
       "      <td>2017-11-10T22:22:04.000Z</td>\n",
       "      <td>17.15.11</td>\n",
       "    </tr>\n",
       "  </tbody>\n",
       "</table>\n",
       "</div>"
      ],
      "text/plain": [
       "                 publish_time trending_date\n",
       "143  2017-11-09T14:00:08.000Z      17.14.11\n",
       "159  2017-11-09T17:22:40.000Z      17.14.11\n",
       "171  2017-11-09T03:27:36.000Z      17.14.11\n",
       "179  2017-11-09T18:30:01.000Z      17.14.11\n",
       "183  2017-11-08T18:24:16.000Z      17.14.11\n",
       "189  2017-11-08T18:00:05.000Z      17.14.11\n",
       "359  2017-11-10T16:01:04.000Z      17.15.11\n",
       "364  2017-11-10T18:42:55.000Z      17.15.11\n",
       "378  2017-11-10T01:30:00.000Z      17.15.11\n",
       "387  2017-11-10T22:22:04.000Z      17.15.11"
      ]
     },
     "execution_count": 9,
     "metadata": {},
     "output_type": "execute_result"
    }
   ],
   "source": [
    "#test = youtube[youtube['views'] > 4000000]\n",
    "\n",
    "test = youtube\n",
    "print(test.shape)\n",
    "test = test[['publish_time', 'trending_date']]\n",
    "test.head(10)\n"
   ]
  },
  {
   "cell_type": "code",
   "execution_count": 10,
   "metadata": {},
   "outputs": [
    {
     "name": "stdout",
     "output_type": "stream",
     "text": [
      "<class 'str'>\n",
      "<class 'str'>\n"
     ]
    },
    {
     "name": "stderr",
     "output_type": "stream",
     "text": [
      "/Users/tma2017/anaconda3/lib/python3.6/site-packages/ipykernel_launcher.py:7: SettingWithCopyWarning: \n",
      "A value is trying to be set on a copy of a slice from a DataFrame.\n",
      "Try using .loc[row_indexer,col_indexer] = value instead\n",
      "\n",
      "See the caveats in the documentation: http://pandas.pydata.org/pandas-docs/stable/indexing.html#indexing-view-versus-copy\n",
      "  import sys\n"
     ]
    },
    {
     "data": {
      "text/html": [
       "<div>\n",
       "<style scoped>\n",
       "    .dataframe tbody tr th:only-of-type {\n",
       "        vertical-align: middle;\n",
       "    }\n",
       "\n",
       "    .dataframe tbody tr th {\n",
       "        vertical-align: top;\n",
       "    }\n",
       "\n",
       "    .dataframe thead th {\n",
       "        text-align: right;\n",
       "    }\n",
       "</style>\n",
       "<table border=\"1\" class=\"dataframe\">\n",
       "  <thead>\n",
       "    <tr style=\"text-align: right;\">\n",
       "      <th></th>\n",
       "      <th>publish_time</th>\n",
       "      <th>trending_date</th>\n",
       "    </tr>\n",
       "  </thead>\n",
       "  <tbody>\n",
       "    <tr>\n",
       "      <th>143</th>\n",
       "      <td>2017-11-09</td>\n",
       "      <td>17.14.11</td>\n",
       "    </tr>\n",
       "    <tr>\n",
       "      <th>159</th>\n",
       "      <td>2017-11-09</td>\n",
       "      <td>17.14.11</td>\n",
       "    </tr>\n",
       "    <tr>\n",
       "      <th>171</th>\n",
       "      <td>2017-11-09</td>\n",
       "      <td>17.14.11</td>\n",
       "    </tr>\n",
       "    <tr>\n",
       "      <th>179</th>\n",
       "      <td>2017-11-09</td>\n",
       "      <td>17.14.11</td>\n",
       "    </tr>\n",
       "    <tr>\n",
       "      <th>183</th>\n",
       "      <td>2017-11-08</td>\n",
       "      <td>17.14.11</td>\n",
       "    </tr>\n",
       "    <tr>\n",
       "      <th>189</th>\n",
       "      <td>2017-11-08</td>\n",
       "      <td>17.14.11</td>\n",
       "    </tr>\n",
       "    <tr>\n",
       "      <th>359</th>\n",
       "      <td>2017-11-10</td>\n",
       "      <td>17.15.11</td>\n",
       "    </tr>\n",
       "    <tr>\n",
       "      <th>364</th>\n",
       "      <td>2017-11-10</td>\n",
       "      <td>17.15.11</td>\n",
       "    </tr>\n",
       "    <tr>\n",
       "      <th>378</th>\n",
       "      <td>2017-11-10</td>\n",
       "      <td>17.15.11</td>\n",
       "    </tr>\n",
       "    <tr>\n",
       "      <th>387</th>\n",
       "      <td>2017-11-10</td>\n",
       "      <td>17.15.11</td>\n",
       "    </tr>\n",
       "  </tbody>\n",
       "</table>\n",
       "</div>"
      ],
      "text/plain": [
       "    publish_time trending_date\n",
       "143   2017-11-09      17.14.11\n",
       "159   2017-11-09      17.14.11\n",
       "171   2017-11-09      17.14.11\n",
       "179   2017-11-09      17.14.11\n",
       "183   2017-11-08      17.14.11\n",
       "189   2017-11-08      17.14.11\n",
       "359   2017-11-10      17.15.11\n",
       "364   2017-11-10      17.15.11\n",
       "378   2017-11-10      17.15.11\n",
       "387   2017-11-10      17.15.11"
      ]
     },
     "execution_count": 10,
     "metadata": {},
     "output_type": "execute_result"
    }
   ],
   "source": [
    "print(type(test['trending_date'].values[0])) # dates are in strings, trending date\n",
    "print(type(test['publish_time'].values[0])) # dates are in strings, trending date\n",
    "\n",
    "#for elem in test['publish_time'].values:\n",
    "#    print(elem)\n",
    "    \n",
    "test['publish_time'] = test['publish_time'].str[:10].astype(str)\n",
    "\n",
    "test.head(10)\n",
    "\n",
    "\n",
    "\n",
    "#sum((test['publish_time'].isnull()))"
   ]
  },
  {
   "cell_type": "code",
   "execution_count": 11,
   "metadata": {},
   "outputs": [
    {
     "name": "stderr",
     "output_type": "stream",
     "text": [
      "/Users/tma2017/anaconda3/lib/python3.6/site-packages/ipykernel_launcher.py:1: SettingWithCopyWarning: \n",
      "A value is trying to be set on a copy of a slice from a DataFrame.\n",
      "Try using .loc[row_indexer,col_indexer] = value instead\n",
      "\n",
      "See the caveats in the documentation: http://pandas.pydata.org/pandas-docs/stable/indexing.html#indexing-view-versus-copy\n",
      "  \"\"\"Entry point for launching an IPython kernel.\n"
     ]
    }
   ],
   "source": [
    "test['trending_date'] = '20' + test['trending_date']"
   ]
  },
  {
   "cell_type": "code",
   "execution_count": 12,
   "metadata": {},
   "outputs": [
    {
     "name": "stderr",
     "output_type": "stream",
     "text": [
      "/Users/tma2017/anaconda3/lib/python3.6/site-packages/ipykernel_launcher.py:1: SettingWithCopyWarning: \n",
      "A value is trying to be set on a copy of a slice from a DataFrame.\n",
      "Try using .loc[row_indexer,col_indexer] = value instead\n",
      "\n",
      "See the caveats in the documentation: http://pandas.pydata.org/pandas-docs/stable/indexing.html#indexing-view-versus-copy\n",
      "  \"\"\"Entry point for launching an IPython kernel.\n"
     ]
    },
    {
     "data": {
      "text/html": [
       "<div>\n",
       "<style scoped>\n",
       "    .dataframe tbody tr th:only-of-type {\n",
       "        vertical-align: middle;\n",
       "    }\n",
       "\n",
       "    .dataframe tbody tr th {\n",
       "        vertical-align: top;\n",
       "    }\n",
       "\n",
       "    .dataframe thead th {\n",
       "        text-align: right;\n",
       "    }\n",
       "</style>\n",
       "<table border=\"1\" class=\"dataframe\">\n",
       "  <thead>\n",
       "    <tr style=\"text-align: right;\">\n",
       "      <th></th>\n",
       "      <th>publish_time</th>\n",
       "      <th>trending_date</th>\n",
       "    </tr>\n",
       "  </thead>\n",
       "  <tbody>\n",
       "    <tr>\n",
       "      <th>143</th>\n",
       "      <td>2017-11-09</td>\n",
       "      <td>2017-14-11</td>\n",
       "    </tr>\n",
       "    <tr>\n",
       "      <th>159</th>\n",
       "      <td>2017-11-09</td>\n",
       "      <td>2017-14-11</td>\n",
       "    </tr>\n",
       "    <tr>\n",
       "      <th>171</th>\n",
       "      <td>2017-11-09</td>\n",
       "      <td>2017-14-11</td>\n",
       "    </tr>\n",
       "    <tr>\n",
       "      <th>179</th>\n",
       "      <td>2017-11-09</td>\n",
       "      <td>2017-14-11</td>\n",
       "    </tr>\n",
       "    <tr>\n",
       "      <th>183</th>\n",
       "      <td>2017-11-08</td>\n",
       "      <td>2017-14-11</td>\n",
       "    </tr>\n",
       "  </tbody>\n",
       "</table>\n",
       "</div>"
      ],
      "text/plain": [
       "    publish_time trending_date\n",
       "143   2017-11-09    2017-14-11\n",
       "159   2017-11-09    2017-14-11\n",
       "171   2017-11-09    2017-14-11\n",
       "179   2017-11-09    2017-14-11\n",
       "183   2017-11-08    2017-14-11"
      ]
     },
     "execution_count": 12,
     "metadata": {},
     "output_type": "execute_result"
    }
   ],
   "source": [
    "test['trending_date'] = test['trending_date'].str.replace('.','-')\n",
    "test.head()"
   ]
  },
  {
   "cell_type": "code",
   "execution_count": 13,
   "metadata": {
    "scrolled": true
   },
   "outputs": [
    {
     "name": "stderr",
     "output_type": "stream",
     "text": [
      "/Users/tma2017/anaconda3/lib/python3.6/site-packages/ipykernel_launcher.py:3: SettingWithCopyWarning: \n",
      "A value is trying to be set on a copy of a slice from a DataFrame.\n",
      "Try using .loc[row_indexer,col_indexer] = value instead\n",
      "\n",
      "See the caveats in the documentation: http://pandas.pydata.org/pandas-docs/stable/indexing.html#indexing-view-versus-copy\n",
      "  This is separate from the ipykernel package so we can avoid doing imports until\n"
     ]
    },
    {
     "data": {
      "text/html": [
       "<div>\n",
       "<style scoped>\n",
       "    .dataframe tbody tr th:only-of-type {\n",
       "        vertical-align: middle;\n",
       "    }\n",
       "\n",
       "    .dataframe tbody tr th {\n",
       "        vertical-align: top;\n",
       "    }\n",
       "\n",
       "    .dataframe thead th {\n",
       "        text-align: right;\n",
       "    }\n",
       "</style>\n",
       "<table border=\"1\" class=\"dataframe\">\n",
       "  <thead>\n",
       "    <tr style=\"text-align: right;\">\n",
       "      <th></th>\n",
       "      <th>publish_time</th>\n",
       "      <th>trending_date</th>\n",
       "    </tr>\n",
       "  </thead>\n",
       "  <tbody>\n",
       "    <tr>\n",
       "      <th>143</th>\n",
       "      <td>2017-11-09</td>\n",
       "      <td>2017-11-14</td>\n",
       "    </tr>\n",
       "    <tr>\n",
       "      <th>159</th>\n",
       "      <td>2017-11-09</td>\n",
       "      <td>2017-11-14</td>\n",
       "    </tr>\n",
       "    <tr>\n",
       "      <th>171</th>\n",
       "      <td>2017-11-09</td>\n",
       "      <td>2017-11-14</td>\n",
       "    </tr>\n",
       "    <tr>\n",
       "      <th>179</th>\n",
       "      <td>2017-11-09</td>\n",
       "      <td>2017-11-14</td>\n",
       "    </tr>\n",
       "    <tr>\n",
       "      <th>183</th>\n",
       "      <td>2017-11-08</td>\n",
       "      <td>2017-11-14</td>\n",
       "    </tr>\n",
       "  </tbody>\n",
       "</table>\n",
       "</div>"
      ],
      "text/plain": [
       "    publish_time trending_date\n",
       "143   2017-11-09    2017-11-14\n",
       "159   2017-11-09    2017-11-14\n",
       "171   2017-11-09    2017-11-14\n",
       "179   2017-11-09    2017-11-14\n",
       "183   2017-11-08    2017-11-14"
      ]
     },
     "execution_count": 13,
     "metadata": {},
     "output_type": "execute_result"
    }
   ],
   "source": [
    "#print(test['trending_date'].str[7:10])\n",
    "\n",
    "test['trending_date'] = test['trending_date'].str[0:4]+test['trending_date'].str[7:10]+test['trending_date'].str[4:7]\n",
    "test.head()"
   ]
  },
  {
   "cell_type": "code",
   "execution_count": null,
   "metadata": {},
   "outputs": [],
   "source": []
  },
  {
   "cell_type": "code",
   "execution_count": 14,
   "metadata": {},
   "outputs": [
    {
     "name": "stderr",
     "output_type": "stream",
     "text": [
      "/Users/tma2017/anaconda3/lib/python3.6/site-packages/ipykernel_launcher.py:1: SettingWithCopyWarning: \n",
      "A value is trying to be set on a copy of a slice from a DataFrame.\n",
      "Try using .loc[row_indexer,col_indexer] = value instead\n",
      "\n",
      "See the caveats in the documentation: http://pandas.pydata.org/pandas-docs/stable/indexing.html#indexing-view-versus-copy\n",
      "  \"\"\"Entry point for launching an IPython kernel.\n",
      "/Users/tma2017/anaconda3/lib/python3.6/site-packages/ipykernel_launcher.py:2: SettingWithCopyWarning: \n",
      "A value is trying to be set on a copy of a slice from a DataFrame.\n",
      "Try using .loc[row_indexer,col_indexer] = value instead\n",
      "\n",
      "See the caveats in the documentation: http://pandas.pydata.org/pandas-docs/stable/indexing.html#indexing-view-versus-copy\n",
      "  \n",
      "/Users/tma2017/anaconda3/lib/python3.6/site-packages/ipykernel_launcher.py:4: SettingWithCopyWarning: \n",
      "A value is trying to be set on a copy of a slice from a DataFrame.\n",
      "Try using .loc[row_indexer,col_indexer] = value instead\n",
      "\n",
      "See the caveats in the documentation: http://pandas.pydata.org/pandas-docs/stable/indexing.html#indexing-view-versus-copy\n",
      "  after removing the cwd from sys.path.\n"
     ]
    },
    {
     "data": {
      "text/plain": [
       "1806"
      ]
     },
     "execution_count": 14,
     "metadata": {},
     "output_type": "execute_result"
    }
   ],
   "source": [
    "test['trending_date'] = pd.to_datetime(test['trending_date'])\n",
    "test['publish_time'] = pd.to_datetime(test['publish_time'])\n",
    "\n",
    "test['publish_to_trending'] = test['trending_date'] - test['publish_time']\n",
    "\n",
    "test.head(n=100)\n",
    "test.size"
   ]
  },
  {
   "cell_type": "code",
   "execution_count": 15,
   "metadata": {},
   "outputs": [
    {
     "data": {
      "text/html": [
       "<div>\n",
       "<style scoped>\n",
       "    .dataframe tbody tr th:only-of-type {\n",
       "        vertical-align: middle;\n",
       "    }\n",
       "\n",
       "    .dataframe tbody tr th {\n",
       "        vertical-align: top;\n",
       "    }\n",
       "\n",
       "    .dataframe thead th {\n",
       "        text-align: right;\n",
       "    }\n",
       "</style>\n",
       "<table border=\"1\" class=\"dataframe\">\n",
       "  <thead>\n",
       "    <tr style=\"text-align: right;\">\n",
       "      <th></th>\n",
       "      <th>publish_time</th>\n",
       "      <th>publish_to_trending</th>\n",
       "    </tr>\n",
       "  </thead>\n",
       "  <tbody>\n",
       "    <tr>\n",
       "      <th>511</th>\n",
       "      <td>2017-11-12</td>\n",
       "      <td>4 days</td>\n",
       "    </tr>\n",
       "    <tr>\n",
       "      <th>575</th>\n",
       "      <td>2017-11-11</td>\n",
       "      <td>5 days</td>\n",
       "    </tr>\n",
       "    <tr>\n",
       "      <th>577</th>\n",
       "      <td>2017-11-11</td>\n",
       "      <td>5 days</td>\n",
       "    </tr>\n",
       "    <tr>\n",
       "      <th>776</th>\n",
       "      <td>2017-11-12</td>\n",
       "      <td>5 days</td>\n",
       "    </tr>\n",
       "    <tr>\n",
       "      <th>1252</th>\n",
       "      <td>2017-11-18</td>\n",
       "      <td>2 days</td>\n",
       "    </tr>\n",
       "  </tbody>\n",
       "</table>\n",
       "</div>"
      ],
      "text/plain": [
       "     publish_time publish_to_trending\n",
       "511    2017-11-12              4 days\n",
       "575    2017-11-11              5 days\n",
       "577    2017-11-11              5 days\n",
       "776    2017-11-12              5 days\n",
       "1252   2017-11-18              2 days"
      ]
     },
     "execution_count": 15,
     "metadata": {},
     "output_type": "execute_result"
    }
   ],
   "source": [
    "import datetime\n",
    "test_weekends = test[test['publish_time'].dt.dayofweek >= 5]\n",
    "test_weekdays = test[test['publish_time'].dt.dayofweek < 5]\n",
    "\n",
    "test_weekends = test_weekends.drop(columns=[\"trending_date\"])\n",
    "test_weekdays = test_weekdays.drop(columns=[\"trending_date\"])\n",
    "test_weekends.head()"
   ]
  },
  {
   "cell_type": "code",
   "execution_count": 16,
   "metadata": {},
   "outputs": [
    {
     "name": "stdout",
     "output_type": "stream",
     "text": [
      "Averages\n",
      "8 days 06:46:57.391304\n",
      "12 days 09:21:43.448275\n",
      "Standard Deviations\n",
      "5 days 00:05:13.843471\n",
      "50 days 12:42:41.232654\n"
     ]
    }
   ],
   "source": [
    "mean_weekends= test_weekends[\"publish_to_trending\"].mean()\n",
    "mean_weekdays = test_weekdays[\"publish_to_trending\"].mean()\n",
    "print('Averages')\n",
    "print(mean_weekends)\n",
    "print(mean_weekdays)\n",
    "sd_weekends = test_weekends[\"publish_to_trending\"].std()\n",
    "sd_weekdays = test_weekdays[\"publish_to_trending\"].std()\n",
    "print(\"Standard Deviations\")\n",
    "print(sd_weekends)\n",
    "print(sd_weekdays)"
   ]
  },
  {
   "cell_type": "code",
   "execution_count": 17,
   "metadata": {},
   "outputs": [
    {
     "data": {
      "text/html": [
       "<div>\n",
       "<style scoped>\n",
       "    .dataframe tbody tr th:only-of-type {\n",
       "        vertical-align: middle;\n",
       "    }\n",
       "\n",
       "    .dataframe tbody tr th {\n",
       "        vertical-align: top;\n",
       "    }\n",
       "\n",
       "    .dataframe thead th {\n",
       "        text-align: right;\n",
       "    }\n",
       "</style>\n",
       "<table border=\"1\" class=\"dataframe\">\n",
       "  <thead>\n",
       "    <tr style=\"text-align: right;\">\n",
       "      <th></th>\n",
       "      <th>Independent t-test</th>\n",
       "      <th>results</th>\n",
       "    </tr>\n",
       "  </thead>\n",
       "  <tbody>\n",
       "    <tr>\n",
       "      <th>0</th>\n",
       "      <td>Difference (weekends_ptt - weekdays_ptt) =</td>\n",
       "      <td>-4.1075</td>\n",
       "    </tr>\n",
       "    <tr>\n",
       "      <th>1</th>\n",
       "      <td>Degrees of freedom =</td>\n",
       "      <td>600.0000</td>\n",
       "    </tr>\n",
       "    <tr>\n",
       "      <th>2</th>\n",
       "      <td>t =</td>\n",
       "      <td>-0.9530</td>\n",
       "    </tr>\n",
       "    <tr>\n",
       "      <th>3</th>\n",
       "      <td>Two side test p value =</td>\n",
       "      <td>0.3410</td>\n",
       "    </tr>\n",
       "    <tr>\n",
       "      <th>4</th>\n",
       "      <td>Mean of weekends_ptt &gt; mean of weekdays_ptt p ...</td>\n",
       "      <td>0.1705</td>\n",
       "    </tr>\n",
       "    <tr>\n",
       "      <th>5</th>\n",
       "      <td>Mean of weekends_ptt &lt; mean of weekdays_ptt p ...</td>\n",
       "      <td>0.8295</td>\n",
       "    </tr>\n",
       "    <tr>\n",
       "      <th>6</th>\n",
       "      <td>Cohen's d =</td>\n",
       "      <td>-0.0924</td>\n",
       "    </tr>\n",
       "    <tr>\n",
       "      <th>7</th>\n",
       "      <td>Hedge's g =</td>\n",
       "      <td>-0.0923</td>\n",
       "    </tr>\n",
       "    <tr>\n",
       "      <th>8</th>\n",
       "      <td>Glass's delta =</td>\n",
       "      <td>-0.8209</td>\n",
       "    </tr>\n",
       "    <tr>\n",
       "      <th>9</th>\n",
       "      <td>r =</td>\n",
       "      <td>0.0389</td>\n",
       "    </tr>\n",
       "  </tbody>\n",
       "</table>\n",
       "</div>"
      ],
      "text/plain": [
       "                                  Independent t-test   results\n",
       "0        Difference (weekends_ptt - weekdays_ptt) =    -4.1075\n",
       "1                              Degrees of freedom =   600.0000\n",
       "2                                               t =    -0.9530\n",
       "3                           Two side test p value =     0.3410\n",
       "4  Mean of weekends_ptt > mean of weekdays_ptt p ...    0.1705\n",
       "5  Mean of weekends_ptt < mean of weekdays_ptt p ...    0.8295\n",
       "6                                       Cohen's d =    -0.0924\n",
       "7                                       Hedge's g =    -0.0923\n",
       "8                                   Glass's delta =    -0.8209\n",
       "9                                               r =     0.0389"
      ]
     },
     "execution_count": 17,
     "metadata": {},
     "output_type": "execute_result"
    }
   ],
   "source": [
    "import researchpy as rp\n",
    "\n",
    "test_weekends[\"weekends_ptt\"] = test_weekends[\"publish_to_trending\"].dt.days\n",
    "test_weekdays[\"weekdays_ptt\"] = test_weekdays[\"publish_to_trending\"].dt.days\n",
    "\n",
    "descriptives, results = rp.ttest(test_weekends[\"weekends_ptt\"],test_weekdays[\"weekdays_ptt\"])\n",
    "results"
   ]
  },
  {
   "cell_type": "code",
   "execution_count": 18,
   "metadata": {},
   "outputs": [
    {
     "data": {
      "image/png": "[encoded data removed]",
      "text/plain": [
       "<matplotlib.figure.Figure at 0x118c30d30>"
      ]
     },
     "metadata": {},
     "output_type": "display_data"
    }
   ],
   "source": [
    "import matplotlib.pyplot as plt; plt.rcdefaults()\n",
    "import numpy as np\n",
    "import matplotlib.pyplot as plt\n",
    "\n",
    "objects = ('Weekends', 'Weekdays')\n",
    "y_pos = np.arange(len(objects))\n",
    "performance = [6,8]\n",
    "\n",
    "plt.bar(y_pos, performance, align='center', alpha=0.5)\n",
    "plt.xticks(y_pos, objects)\n",
    "plt.ylabel('Days')\n",
    "plt.title('Average Time to go from publish to trending')\n",
    "\n",
    "plt.show()"
   ]
  },
  {
   "cell_type": "code",
   "execution_count": 19,
   "metadata": {},
   "outputs": [],
   "source": [
    "test_mon = test[test['publish_time'].dt.dayofweek ==0].drop(columns=[\"trending_date\"])\n",
    "test_tue = test[test['publish_time'].dt.dayofweek ==1].drop(columns=[\"trending_date\"])\n",
    "test_wed = test[test['publish_time'].dt.dayofweek ==2].drop(columns=[\"trending_date\"])\n",
    "test_thu = test[test['publish_time'].dt.dayofweek ==3].drop(columns=[\"trending_date\"])\n",
    "test_fri = test[test['publish_time'].dt.dayofweek ==4].drop(columns=[\"trending_date\"])\n",
    "test_sat = test[test['publish_time'].dt.dayofweek ==5].drop(columns=[\"trending_date\"])\n",
    "test_sun = test[test['publish_time'].dt.dayofweek ==6].drop(columns=[\"trending_date\"])"
   ]
  },
  {
   "cell_type": "code",
   "execution_count": 20,
   "metadata": {},
   "outputs": [],
   "source": [
    "mean_mon = test_mon[\"publish_to_trending\"].mean()\n",
    "mean_tue = test_tue[\"publish_to_trending\"].mean()\n",
    "mean_wed = test_wed[\"publish_to_trending\"].mean()\n",
    "mean_thu = test_thu[\"publish_to_trending\"].mean()\n",
    "mean_fri = test_fri[\"publish_to_trending\"].mean()\n",
    "mean_sat = test_sat[\"publish_to_trending\"].mean()\n",
    "mean_sun = test_sun[\"publish_to_trending\"].mean()"
   ]
  },
  {
   "cell_type": "code",
   "execution_count": 21,
   "metadata": {},
   "outputs": [
    {
     "name": "stdout",
     "output_type": "stream",
     "text": [
      "8 days 04:12:58.378378\n",
      "12 days 00:13:42.857142\n",
      "17 days 02:54:57.196261\n",
      "13 days 03:29:42.524271\n",
      "9 days 07:02:24\n",
      "7 days 21:47:22.105263\n",
      "8 days 17:48:23.225806\n"
     ]
    }
   ],
   "source": [
    "print(mean_mon)\n",
    "print(mean_tue)\n",
    "print(mean_wed)\n",
    "print(mean_thu)\n",
    "print(mean_fri)\n",
    "print(mean_sat)\n",
    "print(mean_sun)"
   ]
  },
  {
   "cell_type": "code",
   "execution_count": 22,
   "metadata": {},
   "outputs": [
    {
     "data": {
      "image/png": "[encoded data removed]",
      "text/plain": [
       "<matplotlib.figure.Figure at 0x118dc2860>"
      ]
     },
     "metadata": {},
     "output_type": "display_data"
    }
   ],
   "source": [
    "import matplotlib.pyplot as plt; plt.rcdefaults()\n",
    "import numpy as np\n",
    "import matplotlib.pyplot as plt\n",
    "\n",
    "objects = ('Mon', 'Tue', 'Wed','Thu','Fri','Sat','Sun')\n",
    "y_pos = np.arange(len(objects))\n",
    "performance = [6,8,10,7,7,5,7]\n",
    "\n",
    "plt.bar(y_pos, performance, align='center', alpha=0.5)\n",
    "plt.xticks(y_pos, objects)\n",
    "plt.ylabel('Days')\n",
    "plt.title('Average Time to go from publish to trending')\n",
    "\n",
    "plt.show()"
   ]
  },
  {
   "cell_type": "code",
   "execution_count": null,
   "metadata": {},
   "outputs": [],
   "source": []
  },
  {
   "cell_type": "code",
   "execution_count": null,
   "metadata": {},
   "outputs": [],
   "source": []
  }
 ],
 "metadata": {
  "kernelspec": {
   "display_name": "Python 3",
   "language": "python",
   "name": "python3"
  },
  "language_info": {
   "codemirror_mode": {
    "name": "ipython",
    "version": 3
   },
   "file_extension": ".py",
   "mimetype": "text/x-python",
   "name": "python",
   "nbconvert_exporter": "python",
   "pygments_lexer": "ipython3",
   "version": "3.6.4"
  }
 },
 "nbformat": 4,
 "nbformat_minor": 2
}
