{
 "cells": [
  {
   "cell_type": "code",
   "execution_count": 1,
   "metadata": {},
   "outputs": [],
   "source": [
    "import numpy as np\n",
    "import matplotlib.pyplot as plt\n",
    "import pandas as pd"
   ]
  },
  {
   "cell_type": "code",
   "execution_count": 2,
   "metadata": {},
   "outputs": [],
   "source": [
    "youtube = pd.read_csv(\"USvideos.csv\")\n",
    "youtube = youtube[youtube['category_id']==26]"
   ]
  },
  {
   "cell_type": "markdown",
   "metadata": {},
   "source": [
    "# Create a dataframe called \"youtube\"\n",
    "We will only keep the columns 'title', 'tags', 'views', 'trending_date', and 'publish_time'. We also drop any rows with null values."
   ]
  },
  {
   "cell_type": "code",
   "execution_count": 3,
   "metadata": {},
   "outputs": [
    {
     "data": {
      "text/html": [
       "<div>\n",
       "<style scoped>\n",
       "    .dataframe tbody tr th:only-of-type {\n",
       "        vertical-align: middle;\n",
       "    }\n",
       "\n",
       "    .dataframe tbody tr th {\n",
       "        vertical-align: top;\n",
       "    }\n",
       "\n",
       "    .dataframe thead th {\n",
       "        text-align: right;\n",
       "    }\n",
       "</style>\n",
       "<table border=\"1\" class=\"dataframe\">\n",
       "  <thead>\n",
       "    <tr style=\"text-align: right;\">\n",
       "      <th></th>\n",
       "      <th>title</th>\n",
       "      <th>tags</th>\n",
       "      <th>views</th>\n",
       "      <th>trending_date</th>\n",
       "      <th>publish_time</th>\n",
       "    </tr>\n",
       "  </thead>\n",
       "  <tbody>\n",
       "    <tr>\n",
       "      <th>23</th>\n",
       "      <td>What $4,800 Will Get You In NYC | Sweet Digs H...</td>\n",
       "      <td>refinery29|\"refinery 29\"|\"r29\"|\"r29 video\"|\"vi...</td>\n",
       "      <td>145921</td>\n",
       "      <td>17.14.11</td>\n",
       "      <td>2017-11-12T16:00:01.000Z</td>\n",
       "    </tr>\n",
       "    <tr>\n",
       "      <th>27</th>\n",
       "      <td>A Smart... MUG?! - Take apart a Heated Thermos!</td>\n",
       "      <td>Smart mug|\"Heated thermos\"|\"tech\"|\"gift idea\"|...</td>\n",
       "      <td>120727</td>\n",
       "      <td>17.14.11</td>\n",
       "      <td>2017-11-13T16:00:03.000Z</td>\n",
       "    </tr>\n",
       "    <tr>\n",
       "      <th>45</th>\n",
       "      <td>iPhone X vs Makeup Transformation (Face ID TEST)</td>\n",
       "      <td>iphone x|\"iphonex makeup\"|\"iphonex test\"|\"new ...</td>\n",
       "      <td>1456472</td>\n",
       "      <td>17.14.11</td>\n",
       "      <td>2017-11-12T00:45:54.000Z</td>\n",
       "    </tr>\n",
       "    <tr>\n",
       "      <th>69</th>\n",
       "      <td>John Lewis Christmas Ad 2017 - #MozTheMonster</td>\n",
       "      <td>christmas|\"john lewis christmas\"|\"john lewis\"|...</td>\n",
       "      <td>7224515</td>\n",
       "      <td>17.14.11</td>\n",
       "      <td>2017-11-10T07:38:29.000Z</td>\n",
       "    </tr>\n",
       "    <tr>\n",
       "      <th>80</th>\n",
       "      <td>A VERY #EXTRA EBAY SHOPPING HAUL!</td>\n",
       "      <td>ebay|\"haul\"|\"cheap\"|\"challenge\"|\"extra\"|\"amber...</td>\n",
       "      <td>484185</td>\n",
       "      <td>17.14.11</td>\n",
       "      <td>2017-11-11T02:42:23.000Z</td>\n",
       "    </tr>\n",
       "  </tbody>\n",
       "</table>\n",
       "</div>"
      ],
      "text/plain": [
       "                                                title  \\\n",
       "23  What $4,800 Will Get You In NYC | Sweet Digs H...   \n",
       "27    A Smart... MUG?! - Take apart a Heated Thermos!   \n",
       "45   iPhone X vs Makeup Transformation (Face ID TEST)   \n",
       "69      John Lewis Christmas Ad 2017 - #MozTheMonster   \n",
       "80                  A VERY #EXTRA EBAY SHOPPING HAUL!   \n",
       "\n",
       "                                                 tags    views trending_date  \\\n",
       "23  refinery29|\"refinery 29\"|\"r29\"|\"r29 video\"|\"vi...   145921      17.14.11   \n",
       "27  Smart mug|\"Heated thermos\"|\"tech\"|\"gift idea\"|...   120727      17.14.11   \n",
       "45  iphone x|\"iphonex makeup\"|\"iphonex test\"|\"new ...  1456472      17.14.11   \n",
       "69  christmas|\"john lewis christmas\"|\"john lewis\"|...  7224515      17.14.11   \n",
       "80  ebay|\"haul\"|\"cheap\"|\"challenge\"|\"extra\"|\"amber...   484185      17.14.11   \n",
       "\n",
       "                publish_time  \n",
       "23  2017-11-12T16:00:01.000Z  \n",
       "27  2017-11-13T16:00:03.000Z  \n",
       "45  2017-11-12T00:45:54.000Z  \n",
       "69  2017-11-10T07:38:29.000Z  \n",
       "80  2017-11-11T02:42:23.000Z  "
      ]
     },
     "execution_count": 3,
     "metadata": {},
     "output_type": "execute_result"
    }
   ],
   "source": [
    "youtube = youtube[['title','tags','views','trending_date','publish_time']]\n",
    "youtube = youtube.dropna()\n",
    "youtube.head()"
   ]
  },
  {
   "cell_type": "code",
   "execution_count": 4,
   "metadata": {},
   "outputs": [
    {
     "data": {
      "text/html": [
       "<div>\n",
       "<style scoped>\n",
       "    .dataframe tbody tr th:only-of-type {\n",
       "        vertical-align: middle;\n",
       "    }\n",
       "\n",
       "    .dataframe tbody tr th {\n",
       "        vertical-align: top;\n",
       "    }\n",
       "\n",
       "    .dataframe thead th {\n",
       "        text-align: right;\n",
       "    }\n",
       "</style>\n",
       "<table border=\"1\" class=\"dataframe\">\n",
       "  <thead>\n",
       "    <tr style=\"text-align: right;\">\n",
       "      <th></th>\n",
       "      <th>views</th>\n",
       "    </tr>\n",
       "  </thead>\n",
       "  <tbody>\n",
       "    <tr>\n",
       "      <th>count</th>\n",
       "      <td>4.146000e+03</td>\n",
       "    </tr>\n",
       "    <tr>\n",
       "      <th>mean</th>\n",
       "      <td>9.837301e+05</td>\n",
       "    </tr>\n",
       "    <tr>\n",
       "      <th>std</th>\n",
       "      <td>1.928995e+06</td>\n",
       "    </tr>\n",
       "    <tr>\n",
       "      <th>min</th>\n",
       "      <td>1.107000e+03</td>\n",
       "    </tr>\n",
       "    <tr>\n",
       "      <th>25%</th>\n",
       "      <td>2.154222e+05</td>\n",
       "    </tr>\n",
       "    <tr>\n",
       "      <th>50%</th>\n",
       "      <td>5.027830e+05</td>\n",
       "    </tr>\n",
       "    <tr>\n",
       "      <th>75%</th>\n",
       "      <td>1.098036e+06</td>\n",
       "    </tr>\n",
       "    <tr>\n",
       "      <th>max</th>\n",
       "      <td>5.415592e+07</td>\n",
       "    </tr>\n",
       "  </tbody>\n",
       "</table>\n",
       "</div>"
      ],
      "text/plain": [
       "              views\n",
       "count  4.146000e+03\n",
       "mean   9.837301e+05\n",
       "std    1.928995e+06\n",
       "min    1.107000e+03\n",
       "25%    2.154222e+05\n",
       "50%    5.027830e+05\n",
       "75%    1.098036e+06\n",
       "max    5.415592e+07"
      ]
     },
     "execution_count": 4,
     "metadata": {},
     "output_type": "execute_result"
    }
   ],
   "source": [
    "youtube.describe()"
   ]
  },
  {
   "cell_type": "markdown",
   "metadata": {},
   "source": [
    "# Process tags into our dataframe\n",
    "We store tags of each video in a list, which we keep in the variable 'new_tags'. \n",
    "\n",
    "We store the number of tags of each video in a list, which we keep in the variable 'count_tags'\n",
    "\n",
    "Finally, we add the number of each tag into youtube['count_tags'] and update the string of tags with the list of tags in youtube['tags']"
   ]
  },
  {
   "cell_type": "code",
   "execution_count": 5,
   "metadata": {},
   "outputs": [
    {
     "data": {
      "text/html": [
       "<div>\n",
       "<style scoped>\n",
       "    .dataframe tbody tr th:only-of-type {\n",
       "        vertical-align: middle;\n",
       "    }\n",
       "\n",
       "    .dataframe tbody tr th {\n",
       "        vertical-align: top;\n",
       "    }\n",
       "\n",
       "    .dataframe thead th {\n",
       "        text-align: right;\n",
       "    }\n",
       "</style>\n",
       "<table border=\"1\" class=\"dataframe\">\n",
       "  <thead>\n",
       "    <tr style=\"text-align: right;\">\n",
       "      <th></th>\n",
       "      <th>title</th>\n",
       "      <th>tags</th>\n",
       "      <th>views</th>\n",
       "      <th>trending_date</th>\n",
       "      <th>publish_time</th>\n",
       "      <th>count_tags</th>\n",
       "    </tr>\n",
       "  </thead>\n",
       "  <tbody>\n",
       "    <tr>\n",
       "      <th>23</th>\n",
       "      <td>What $4,800 Will Get You In NYC | Sweet Digs H...</td>\n",
       "      <td>[refinery29, \"refinery 29\", \"r29\", \"r29 video\"...</td>\n",
       "      <td>145921</td>\n",
       "      <td>17.14.11</td>\n",
       "      <td>2017-11-12T16:00:01.000Z</td>\n",
       "      <td>35</td>\n",
       "    </tr>\n",
       "    <tr>\n",
       "      <th>27</th>\n",
       "      <td>A Smart... MUG?! - Take apart a Heated Thermos!</td>\n",
       "      <td>[Smart mug, \"Heated thermos\", \"tech\", \"gift id...</td>\n",
       "      <td>120727</td>\n",
       "      <td>17.14.11</td>\n",
       "      <td>2017-11-13T16:00:03.000Z</td>\n",
       "      <td>18</td>\n",
       "    </tr>\n",
       "    <tr>\n",
       "      <th>45</th>\n",
       "      <td>iPhone X vs Makeup Transformation (Face ID TEST)</td>\n",
       "      <td>[iphone x, \"iphonex makeup\", \"iphonex test\", \"...</td>\n",
       "      <td>1456472</td>\n",
       "      <td>17.14.11</td>\n",
       "      <td>2017-11-12T00:45:54.000Z</td>\n",
       "      <td>17</td>\n",
       "    </tr>\n",
       "    <tr>\n",
       "      <th>69</th>\n",
       "      <td>John Lewis Christmas Ad 2017 - #MozTheMonster</td>\n",
       "      <td>[christmas, \"john lewis christmas\", \"john lewi...</td>\n",
       "      <td>7224515</td>\n",
       "      <td>17.14.11</td>\n",
       "      <td>2017-11-10T07:38:29.000Z</td>\n",
       "      <td>9</td>\n",
       "    </tr>\n",
       "    <tr>\n",
       "      <th>80</th>\n",
       "      <td>A VERY #EXTRA EBAY SHOPPING HAUL!</td>\n",
       "      <td>[ebay, \"haul\", \"cheap\", \"challenge\", \"extra\", ...</td>\n",
       "      <td>484185</td>\n",
       "      <td>17.14.11</td>\n",
       "      <td>2017-11-11T02:42:23.000Z</td>\n",
       "      <td>12</td>\n",
       "    </tr>\n",
       "  </tbody>\n",
       "</table>\n",
       "</div>"
      ],
      "text/plain": [
       "                                                title  \\\n",
       "23  What $4,800 Will Get You In NYC | Sweet Digs H...   \n",
       "27    A Smart... MUG?! - Take apart a Heated Thermos!   \n",
       "45   iPhone X vs Makeup Transformation (Face ID TEST)   \n",
       "69      John Lewis Christmas Ad 2017 - #MozTheMonster   \n",
       "80                  A VERY #EXTRA EBAY SHOPPING HAUL!   \n",
       "\n",
       "                                                 tags    views trending_date  \\\n",
       "23  [refinery29, \"refinery 29\", \"r29\", \"r29 video\"...   145921      17.14.11   \n",
       "27  [Smart mug, \"Heated thermos\", \"tech\", \"gift id...   120727      17.14.11   \n",
       "45  [iphone x, \"iphonex makeup\", \"iphonex test\", \"...  1456472      17.14.11   \n",
       "69  [christmas, \"john lewis christmas\", \"john lewi...  7224515      17.14.11   \n",
       "80  [ebay, \"haul\", \"cheap\", \"challenge\", \"extra\", ...   484185      17.14.11   \n",
       "\n",
       "                publish_time  count_tags  \n",
       "23  2017-11-12T16:00:01.000Z          35  \n",
       "27  2017-11-13T16:00:03.000Z          18  \n",
       "45  2017-11-12T00:45:54.000Z          17  \n",
       "69  2017-11-10T07:38:29.000Z           9  \n",
       "80  2017-11-11T02:42:23.000Z          12  "
      ]
     },
     "execution_count": 5,
     "metadata": {},
     "output_type": "execute_result"
    }
   ],
   "source": [
    "tags = youtube['tags']\n",
    "tags_new = list(tags)\n",
    "\n",
    "new_tags = []\n",
    "count_tags = []\n",
    "\n",
    "# Split words in tags into a list of tags\n",
    "for s in tags_new:\n",
    "    s = s.split('|')\n",
    "    new_tags.append(s)\n",
    "\n",
    "# Make list of how many tags are in each video\n",
    "for i in new_tags:\n",
    "    count_tags.append(len(i))\n",
    "\n",
    "# Prepare count_tags to be added into dataframe\n",
    "count_tag = np.array(count_tags, dtype=np.int64)\n",
    "count_tag = pd.Series(count_tag)\n",
    "\n",
    "# Add count_tag to dataframe\n",
    "youtube['count_tags'] = count_tag.values\n",
    "youtube['tags'] = new_tags\n",
    "\n",
    "youtube.head()"
   ]
  },
  {
   "cell_type": "code",
   "execution_count": 6,
   "metadata": {},
   "outputs": [
    {
     "data": {
      "text/plain": [
       "Text(0, 0.5, 'num_views')"
      ]
     },
     "execution_count": 6,
     "metadata": {},
     "output_type": "execute_result"
    },
    {
     "data": {
      "image/png": "[encoded data removed]",
      "text/plain": [
       "<Figure size 432x288 with 1 Axes>"
      ]
     },
     "metadata": {
      "needs_background": "light"
     },
     "output_type": "display_data"
    }
   ],
   "source": [
    "counts = list(youtube['count_tags'])\n",
    "num_views = list(youtube['views'])\n",
    "\n",
    "plt.scatter(counts,num_views, s=5)\n",
    "plt.xlabel(\"counts\")\n",
    "plt.ylabel(\"num_views\")"
   ]
  },
  {
   "cell_type": "code",
   "execution_count": 7,
   "metadata": {},
   "outputs": [
    {
     "name": "stdout",
     "output_type": "stream",
     "text": [
      "(75, 6)\n"
     ]
    },
    {
     "data": {
      "text/html": [
       "<div>\n",
       "<style scoped>\n",
       "    .dataframe tbody tr th:only-of-type {\n",
       "        vertical-align: middle;\n",
       "    }\n",
       "\n",
       "    .dataframe tbody tr th {\n",
       "        vertical-align: top;\n",
       "    }\n",
       "\n",
       "    .dataframe thead th {\n",
       "        text-align: right;\n",
       "    }\n",
       "</style>\n",
       "<table border=\"1\" class=\"dataframe\">\n",
       "  <thead>\n",
       "    <tr style=\"text-align: right;\">\n",
       "      <th></th>\n",
       "      <th>title</th>\n",
       "      <th>tags</th>\n",
       "      <th>views</th>\n",
       "      <th>trending_date</th>\n",
       "      <th>publish_time</th>\n",
       "      <th>count_tags</th>\n",
       "    </tr>\n",
       "  </thead>\n",
       "  <tbody>\n",
       "    <tr>\n",
       "      <th>69</th>\n",
       "      <td>John Lewis Christmas Ad 2017 - #MozTheMonster</td>\n",
       "      <td>[christmas, \"john lewis christmas\", \"john lewi...</td>\n",
       "      <td>7224515</td>\n",
       "      <td>17.14.11</td>\n",
       "      <td>2017-11-10T07:38:29.000Z</td>\n",
       "      <td>9</td>\n",
       "    </tr>\n",
       "    <tr>\n",
       "      <th>329</th>\n",
       "      <td>John Lewis Christmas Ad 2017 - #MozTheMonster</td>\n",
       "      <td>[christmas, \"john lewis christmas\", \"john lewi...</td>\n",
       "      <td>7563254</td>\n",
       "      <td>17.15.11</td>\n",
       "      <td>2017-11-10T07:38:29.000Z</td>\n",
       "      <td>9</td>\n",
       "    </tr>\n",
       "    <tr>\n",
       "      <th>569</th>\n",
       "      <td>John Lewis Christmas Ad 2017 - #MozTheMonster</td>\n",
       "      <td>[christmas, \"john lewis christmas\", \"john lewi...</td>\n",
       "      <td>7727696</td>\n",
       "      <td>17.16.11</td>\n",
       "      <td>2017-11-10T07:38:29.000Z</td>\n",
       "      <td>9</td>\n",
       "    </tr>\n",
       "    <tr>\n",
       "      <th>791</th>\n",
       "      <td>John Lewis Christmas Ad 2017 - #MozTheMonster</td>\n",
       "      <td>[christmas, \"john lewis christmas\", \"john lewi...</td>\n",
       "      <td>8041928</td>\n",
       "      <td>17.17.11</td>\n",
       "      <td>2017-11-10T07:38:29.000Z</td>\n",
       "      <td>9</td>\n",
       "    </tr>\n",
       "    <tr>\n",
       "      <th>4001</th>\n",
       "      <td>42 HOLY GRAIL HACKS THAT WILL SAVE YOU A FORTUNE</td>\n",
       "      <td>[5-Minute Crafts, \"DIY\", \"Do it yourself\", \"cr...</td>\n",
       "      <td>6315549</td>\n",
       "      <td>17.04.12</td>\n",
       "      <td>2017-12-03T08:30:00.000Z</td>\n",
       "      <td>45</td>\n",
       "    </tr>\n",
       "  </tbody>\n",
       "</table>\n",
       "</div>"
      ],
      "text/plain": [
       "                                                 title  \\\n",
       "69       John Lewis Christmas Ad 2017 - #MozTheMonster   \n",
       "329      John Lewis Christmas Ad 2017 - #MozTheMonster   \n",
       "569      John Lewis Christmas Ad 2017 - #MozTheMonster   \n",
       "791      John Lewis Christmas Ad 2017 - #MozTheMonster   \n",
       "4001  42 HOLY GRAIL HACKS THAT WILL SAVE YOU A FORTUNE   \n",
       "\n",
       "                                                   tags    views  \\\n",
       "69    [christmas, \"john lewis christmas\", \"john lewi...  7224515   \n",
       "329   [christmas, \"john lewis christmas\", \"john lewi...  7563254   \n",
       "569   [christmas, \"john lewis christmas\", \"john lewi...  7727696   \n",
       "791   [christmas, \"john lewis christmas\", \"john lewi...  8041928   \n",
       "4001  [5-Minute Crafts, \"DIY\", \"Do it yourself\", \"cr...  6315549   \n",
       "\n",
       "     trending_date              publish_time  count_tags  \n",
       "69        17.14.11  2017-11-10T07:38:29.000Z           9  \n",
       "329       17.15.11  2017-11-10T07:38:29.000Z           9  \n",
       "569       17.16.11  2017-11-10T07:38:29.000Z           9  \n",
       "791       17.17.11  2017-11-10T07:38:29.000Z           9  \n",
       "4001      17.04.12  2017-12-03T08:30:00.000Z          45  "
      ]
     },
     "execution_count": 7,
     "metadata": {},
     "output_type": "execute_result"
    }
   ],
   "source": [
    "df = youtube[youtube['views'] > 5_000_000]\n",
    "print(df.shape)\n",
    "df.head()"
   ]
  },
  {
   "cell_type": "code",
   "execution_count": 8,
   "metadata": {
    "scrolled": true
   },
   "outputs": [
    {
     "data": {
      "text/plain": [
       "array([[<matplotlib.axes._subplots.AxesSubplot object at 0x120702828>,\n",
       "        <matplotlib.axes._subplots.AxesSubplot object at 0x120732f28>],\n",
       "       [<matplotlib.axes._subplots.AxesSubplot object at 0x12075f4e0>,\n",
       "        <matplotlib.axes._subplots.AxesSubplot object at 0x120823a58>]],\n",
       "      dtype=object)"
      ]
     },
     "execution_count": 8,
     "metadata": {},
     "output_type": "execute_result"
    },
    {
     "data": {
      "image/png": "[encoded data removed]",
      "text/plain": [
       "<Figure size 432x288 with 4 Axes>"
      ]
     },
     "metadata": {
      "needs_background": "light"
     },
     "output_type": "display_data"
    }
   ],
   "source": [
    "pd.plotting.scatter_matrix(youtube)"
   ]
  },
  {
   "cell_type": "markdown",
   "metadata": {},
   "source": [
    "# Popular Tags"
   ]
  },
  {
   "cell_type": "markdown",
   "metadata": {},
   "source": [
    "Top 10 popular tags with mean counts."
   ]
  },
  {
   "cell_type": "markdown",
   "metadata": {},
   "source": [
    "We use value_counts method to count the number of mentioning tags and put it in dataframe."
   ]
  },
  {
   "cell_type": "code",
   "execution_count": 9,
   "metadata": {},
   "outputs": [
    {
     "data": {
      "text/html": [
       "<div>\n",
       "<style scoped>\n",
       "    .dataframe tbody tr th:only-of-type {\n",
       "        vertical-align: middle;\n",
       "    }\n",
       "\n",
       "    .dataframe tbody tr th {\n",
       "        vertical-align: top;\n",
       "    }\n",
       "\n",
       "    .dataframe thead th {\n",
       "        text-align: right;\n",
       "    }\n",
       "</style>\n",
       "<table border=\"1\" class=\"dataframe\">\n",
       "  <thead>\n",
       "    <tr style=\"text-align: right;\">\n",
       "      <th></th>\n",
       "      <th>tags</th>\n",
       "      <th>counts</th>\n",
       "    </tr>\n",
       "  </thead>\n",
       "  <tbody>\n",
       "    <tr>\n",
       "      <th>0</th>\n",
       "      <td>[beauty, \"how to\", \"makeup\", \"howto\", \"style\", \"fashion\", \"summer\", \"spring\", \"new\", \"clothes\", \"clothing\", \"bunny\", \"follow me around\", \"target\", \"shop\", \"shopping\", \"cosmetics\", \"funny\", \"haul\", \"store\", \"look\", \"silly\", \"cute\", \"eye\", \"eyes\", \"iphone\", \"vlog\", \"grav3yardgirl\", \"as seen on tv\", \"infomercial\", \"does it work\", \"nail\", \"nails\", \"bed bath &amp; beyond\", \"ulta\", \"2018\", \"cheap makeup\", \"makeup shopping\", \"clearance\", \"clearance makeup\", \"toys r us\", \"closing\", \"store closing\", \"dior\", \"dior handbag\", \"luxury\", \"designer\"]</td>\n",
       "      <td>31</td>\n",
       "    </tr>\n",
       "    <tr>\n",
       "      <th>1</th>\n",
       "      <td>[cupcakes, \"how to make vanilla cupcakes\", \"over the top recipes\", \"easy cupcake recipes\", \"vanilla cupcakes\", \"chocolate cupcakes\", \"french macarons\", \"how to make macarons\", \"the scran line\", \"the scranline\", \"nick makrides\", \"pastry design\", \"how to pipe cupcakes\"]</td>\n",
       "      <td>31</td>\n",
       "    </tr>\n",
       "    <tr>\n",
       "      <th>2</th>\n",
       "      <td>[Business Insider, \"Business News\", \"scheduling\", \"bed time\", \"way of the warrior kid\", \"jocko willink\", \"navy seals\", \"army schedule\", \"army\", \"military schedule\", \"waking up early\", \"early morning\", \"success how i did it\", \"success podcast\"]</td>\n",
       "      <td>27</td>\n",
       "    </tr>\n",
       "    <tr>\n",
       "      <th>3</th>\n",
       "      <td>[the green makeup challenge, \"green makeup challenge\", \"green\", \"green makeup look\", \"green makeup\", \"makeup\", \"challenge\", \"makeup challenge\", \"nikkietutorials\", \"nikkie tutorials\", \"nikkitutorials\", \"nikki tutorials\", \"makeup tutorial\", \"tutorial\", \"hulk\", \"the hulk\", \"hulk makeup\", \"avengers\", \"avengers infinity war\", \"kermit the frog\", \"kermit\", \"how to\", \"how to apply\", \"foundation\", \"eyeshadow\", \"lipstick\", \"transformation\", \"extreme transformation\", \"glam\", \"flawless\", \"gorgeous\", \"beautiful\"]</td>\n",
       "      <td>27</td>\n",
       "    </tr>\n",
       "    <tr>\n",
       "      <th>4</th>\n",
       "      <td>[ysac, \"you suck at cooking\", \"coconut\", \"macaroons\", \"coconut macaroons\", \"chocolate\", \"cooking\", \"recipe\", \"chef\", \"how to\", \"turorial\", \"funny\", \"comedy\", \"dessert\"]</td>\n",
       "      <td>25</td>\n",
       "    </tr>\n",
       "  </tbody>\n",
       "</table>\n",
       "</div>"
      ],
      "text/plain": [
       "                                                                                                                                                                                                                                                                                                                                                                                                                                                                                                                                                        tags  \\\n",
       "0  [beauty, \"how to\", \"makeup\", \"howto\", \"style\", \"fashion\", \"summer\", \"spring\", \"new\", \"clothes\", \"clothing\", \"bunny\", \"follow me around\", \"target\", \"shop\", \"shopping\", \"cosmetics\", \"funny\", \"haul\", \"store\", \"look\", \"silly\", \"cute\", \"eye\", \"eyes\", \"iphone\", \"vlog\", \"grav3yardgirl\", \"as seen on tv\", \"infomercial\", \"does it work\", \"nail\", \"nails\", \"bed bath & beyond\", \"ulta\", \"2018\", \"cheap makeup\", \"makeup shopping\", \"clearance\", \"clearance makeup\", \"toys r us\", \"closing\", \"store closing\", \"dior\", \"dior handbag\", \"luxury\", \"designer\"]   \n",
       "1  [cupcakes, \"how to make vanilla cupcakes\", \"over the top recipes\", \"easy cupcake recipes\", \"vanilla cupcakes\", \"chocolate cupcakes\", \"french macarons\", \"how to make macarons\", \"the scran line\", \"the scranline\", \"nick makrides\", \"pastry design\", \"how to pipe cupcakes\"]                                                                                                                                                                                                                                                                                \n",
       "2  [Business Insider, \"Business News\", \"scheduling\", \"bed time\", \"way of the warrior kid\", \"jocko willink\", \"navy seals\", \"army schedule\", \"army\", \"military schedule\", \"waking up early\", \"early morning\", \"success how i did it\", \"success podcast\"]                                                                                                                                                                                                                                                                                                         \n",
       "3  [the green makeup challenge, \"green makeup challenge\", \"green\", \"green makeup look\", \"green makeup\", \"makeup\", \"challenge\", \"makeup challenge\", \"nikkietutorials\", \"nikkie tutorials\", \"nikkitutorials\", \"nikki tutorials\", \"makeup tutorial\", \"tutorial\", \"hulk\", \"the hulk\", \"hulk makeup\", \"avengers\", \"avengers infinity war\", \"kermit the frog\", \"kermit\", \"how to\", \"how to apply\", \"foundation\", \"eyeshadow\", \"lipstick\", \"transformation\", \"extreme transformation\", \"glam\", \"flawless\", \"gorgeous\", \"beautiful\"]                                   \n",
       "4  [ysac, \"you suck at cooking\", \"coconut\", \"macaroons\", \"coconut macaroons\", \"chocolate\", \"cooking\", \"recipe\", \"chef\", \"how to\", \"turorial\", \"funny\", \"comedy\", \"dessert\"]                                                                                                                                                                                                                                                                                                                                                                                    \n",
       "\n",
       "   counts  \n",
       "0  31      \n",
       "1  31      \n",
       "2  27      \n",
       "3  27      \n",
       "4  25      "
      ]
     },
     "execution_count": 9,
     "metadata": {},
     "output_type": "execute_result"
    }
   ],
   "source": [
    "pd.set_option('display.max_colwidth', -1)\n",
    "tags = youtube['tags'].apply(pd.Series).stack()\n",
    "tags_df =youtube['tags'].apply(pd.Series).stack()\n",
    "\n",
    "pop_tags = youtube['tags'].value_counts()\n",
    "\n",
    "pop_tagsDF = pd.DataFrame({'tags':pop_tags.index, 'counts':pop_tags.values})\n",
    "pop_tagsDF.head()"
   ]
  },
  {
   "cell_type": "markdown",
   "metadata": {},
   "source": [
    "The number of views collerated to 10 popular tags."
   ]
  },
  {
   "cell_type": "code",
   "execution_count": 15,
   "metadata": {},
   "outputs": [
    {
     "data": {
      "text/plain": [
       "{'beauty': 171718550,\n",
       " 'Business Insider': 96489336,\n",
       " 'ysac': 15509700,\n",
       " 'olivia jade': 12049788,\n",
       " 'DIY': 225026760,\n",
       " 'spongebob': 15698206,\n",
       " 'lifestyle': 55604430,\n",
       " 'kim kardashian': 46382270,\n",
       " 'kinetic sand': 20292643,\n",
       " 'cook': 92452024}"
      ]
     },
     "execution_count": 15,
     "metadata": {},
     "output_type": "execute_result"
    }
   ],
   "source": [
    "pop_tagsDF = pop_tagsDF.drop_duplicates(subset=['counts'])\n",
    "\n",
    "pop_tagsDF = pop_tagsDF.head(10)\n",
    "\n",
    "dict_popTags = {}\n",
    "for elem,count in zip(pop_tagsDF['tags'], pop_tagsDF['counts']) :\n",
    "    \n",
    "    dict_popTags[elem[0]] = count\n",
    "\n",
    "list_popTags = list(dict_popTags.keys())\n",
    "\n",
    "dict_popViews = {}\n",
    "\n",
    "for popTag in list_popTags:\n",
    "    \n",
    "    currViews = 0\n",
    "    for tags,views in zip(youtube['tags'],youtube['views']):\n",
    "        if(popTag in tags):\n",
    "            currViews = currViews + views\n",
    "    \n",
    "    dict_popViews[popTag] = currViews\n",
    "    \n",
    "dict_popViews"
   ]
  },
  {
   "cell_type": "markdown",
   "metadata": {},
   "source": [
    "Mean counts for top 10 tags."
   ]
  },
  {
   "cell_type": "code",
   "execution_count": 11,
   "metadata": {},
   "outputs": [
    {
     "data": {
      "text/plain": [
       "{'beauty': 5539308.064516129,\n",
       " 'Business Insider': 3573679.111111111,\n",
       " 'ysac': 620388.0,\n",
       " 'olivia jade': 523903.82608695654,\n",
       " 'DIY': 10715560.0,\n",
       " 'spongebob': 784910.3,\n",
       " 'lifestyle': 2926548.947368421,\n",
       " 'kim kardashian': 2576792.777777778,\n",
       " 'kinetic sand': 1193684.8823529412,\n",
       " 'cook': 5778251.5}"
      ]
     },
     "execution_count": 11,
     "metadata": {},
     "output_type": "execute_result"
    }
   ],
   "source": [
    "dict_popMeans = {}\n",
    "for tag in dict_popViews:\n",
    "    dict_popMeans[tag] = dict_popViews[tag] / dict_popTags[tag]\n",
    "\n",
    "    \n",
    "dict_popMeans"
   ]
  },
  {
   "cell_type": "markdown",
   "metadata": {},
   "source": [
    "Plot of Tags vs Mean Counts - top 10 "
   ]
  },
  {
   "cell_type": "code",
   "execution_count": 25,
   "metadata": {},
   "outputs": [
    {
     "data": {
      "image/png": "[encoded data removed]",
      "text/plain": [
       "<Figure size 432x288 with 1 Axes>"
      ]
     },
     "metadata": {
      "needs_background": "light"
     },
     "output_type": "display_data"
    }
   ],
   "source": [
    "data = [['beauty', 5539308.064516129], ['Business Insider', 3573679.111111111], ['ysac', 620388.0], ['olivia jade', 523903.82608695654], ['DIY', 1071556.0], ['spongebob', 784910.3], ['lifestyle', 2926548.947368421], ['kim kardashian', 2576792.777777778], ['kinetic sand', 1193684.8823529412], ['cook', 577825.5]]\n",
    "df_pop = pd.DataFrame(data, columns = ['Tags', 'Mean Counts'])\n",
    "ax = df_pop.plot.bar(x='Tags', y='Mean Counts', rot=90)\n"
   ]
  },
  {
   "cell_type": "markdown",
   "metadata": {},
   "source": [
    "# Sentiment Analysis of Titles"
   ]
  },
  {
   "cell_type": "markdown",
   "metadata": {},
   "source": [
    "Here we are performing a sentiment analysis on the titles of all the videos on our data set in order to determine if there is a relationship between the amount of views and its overall sentiment score. We used the Vader Lexicon from the NLTK package."
   ]
  },
  {
   "cell_type": "code",
   "execution_count": 9,
   "metadata": {},
   "outputs": [
    {
     "name": "stderr",
     "output_type": "stream",
     "text": [
      "[nltk_data] Downloading package vader_lexicon to\n",
      "[nltk_data]     C:\\Users\\justi\\AppData\\Roaming\\nltk_data...\n",
      "[nltk_data]   Package vader_lexicon is already up-to-date!\n"
     ]
    }
   ],
   "source": [
    "import nltk\n",
    "nltk.download('vader_lexicon')\n",
    "from nltk.sentiment.vader import SentimentIntensityAnalyzer\n",
    "analyser = SentimentIntensityAnalyzer()"
   ]
  },
  {
   "cell_type": "markdown",
   "metadata": {},
   "source": [
    "We write a function in order to allow us to view different subsets of our Youtube video dataframe.  This will be helpful when we compare extremely viral videos versus the rest of the dataframe. \n",
    "\n",
    "Additionally, we make sure to drop any duplicate rows that are a result of a video that trends for multiple days. While this information may be helpful when examining how long it takes for a video to become popular after being published, for the purposes of our sentiment analysis it only adds more noise to the data."
   ]
  },
  {
   "cell_type": "code",
   "execution_count": 10,
   "metadata": {},
   "outputs": [
    {
     "name": "stdout",
     "output_type": "stream",
     "text": [
      "[0.5574, -0.7088, 0.4939, 0.4588, 0.2342, -0.2732, 0.7964, 0.0516, 0.2263, -0.3612, 0.4588, -0.4404, -0.1779, 0.4926, 0.7579, -0.128, 0.5106, 0.5859, -0.4619, 0.8225, 0.6239, 0.3818, 0.7096, -0.4767, 0.4728, 0.5719, 0.4019, 0.658, 0.2584, 0.4215, -0.34, 0.4019, 0.5859, -0.3612, 0.2023, -0.4215, 0.5106, 0.4939, 0.5719, 0.4278, 0.4404, 0.3182, 0.6739, -0.7604, 0.5859, 0.0989, 0.4404, 0.5859, 0.508, 0.6037]\n",
      "[1, 5, 7, 11, 23, 24, 25, 26, 27, 30, 32, 33, 34, 35, 38, 40, 45, 47, 51, 54, 56, 57, 58, 62, 63, 64, 65, 67, 69, 73, 74, 77, 80, 81, 82, 83, 84, 86, 87, 88, 89, 90, 91, 94, 95, 97, 103, 105, 106, 107]\n",
      "Number of Zero sentiment videos: 322\n"
     ]
    }
   ],
   "source": [
    "def title_sentiments(df):\n",
    "    title_sentiment = []\n",
    "    title_sentiment_ind = []\n",
    "\n",
    "    # Drop duplicate titles, we are only interested in the last title that was trending\n",
    "    df.drop_duplicates(subset='title',keep='last',inplace=True)\n",
    "    \n",
    "    titles = df['title']\n",
    "\n",
    "    zero_sentiment = 0\n",
    "\n",
    "    # Add only non-zero sentiment analysis of titles into 'title_sentiment'\n",
    "    for i, title in zip(range(len(titles)), titles):\n",
    "        sentiment = analyser.polarity_scores(title)\n",
    "        \n",
    "        if sentiment['compound'] != 0:\n",
    "            title_sentiment.append(sentiment['compound'])\n",
    "            title_sentiment_ind.append(i)\n",
    "        if sentiment['compound'] == 0:\n",
    "            zero_sentiment += 1\n",
    "            \n",
    "    return title_sentiment, title_sentiment_ind, zero_sentiment\n",
    "\n",
    "title_sentiment, title_sentiment_ind, zero_sentiment = title_sentiments(youtube)\n",
    "\n",
    "# Print out test results\n",
    "print(title_sentiment[:50])\n",
    "print(title_sentiment_ind[:50])\n",
    "print(\"Number of Zero sentiment videos: \" + str(zero_sentiment))\n",
    "    "
   ]
  },
  {
   "cell_type": "code",
   "execution_count": 11,
   "metadata": {},
   "outputs": [
    {
     "data": {
      "text/plain": [
       "Text(0, 0.5, 'Number of views')"
      ]
     },
     "execution_count": 11,
     "metadata": {},
     "output_type": "execute_result"
    },
    {
     "data": {
      "image/png": "[encoded data removed]",
      "text/plain": [
       "<Figure size 432x288 with 1 Axes>"
      ]
     },
     "metadata": {
      "needs_background": "light"
     },
     "output_type": "display_data"
    }
   ],
   "source": [
    "views = list(youtube['views'])\n",
    "views_sent = []\n",
    "\n",
    "title_sentiment, title_sentiment_ind, zero_sentiment = title_sentiments(youtube)\n",
    "\n",
    "for i in title_sentiment_ind:\n",
    "    views_sent.append(views[i])\n",
    "\n",
    "    \n",
    "plt.scatter(title_sentiment, views_sent, s=5)\n",
    "plt.xlabel('Sentiment')\n",
    "plt.ylabel('Number of views')"
   ]
  },
  {
   "cell_type": "markdown",
   "metadata": {},
   "source": [
    "Here we plot a scatterplot of the sentiment values of all videos against their views. We can see clusters of data points in both the positive and negative sides, but the outliers(very viral videos) make it difficult to observe these clusters."
   ]
  },
  {
   "cell_type": "code",
   "execution_count": 12,
   "metadata": {},
   "outputs": [
    {
     "data": {
      "text/plain": [
       "Text(0, 0.5, 'Frequency')"
      ]
     },
     "execution_count": 12,
     "metadata": {},
     "output_type": "execute_result"
    },
    {
     "data": {
      "image/png": "[encoded data removed]",
      "text/plain": [
       "<Figure size 432x288 with 1 Axes>"
      ]
     },
     "metadata": {
      "needs_background": "light"
     },
     "output_type": "display_data"
    }
   ],
   "source": [
    "plt.hist(title_sentiment, bins=20)\n",
    "plt.xlabel('Sentiment')\n",
    "plt.ylabel('Frequency')"
   ]
  },
  {
   "cell_type": "markdown",
   "metadata": {},
   "source": [
    "By representing the sentiment by frequency in a histogram, it becomes much easier to see how sentiment is bimodal. More videos tend to populate the -.50 and .50 areas of sentimentality."
   ]
  },
  {
   "cell_type": "code",
   "execution_count": 13,
   "metadata": {},
   "outputs": [
    {
     "name": "stderr",
     "output_type": "stream",
     "text": [
      "C:\\Users\\justi\\Anaconda3\\lib\\site-packages\\ipykernel_launcher.py:6: SettingWithCopyWarning: \n",
      "A value is trying to be set on a copy of a slice from a DataFrame\n",
      "\n",
      "See the caveats in the documentation: http://pandas.pydata.org/pandas-docs/stable/indexing.html#indexing-view-versus-copy\n",
      "  \n"
     ]
    },
    {
     "data": {
      "text/plain": [
       "Text(0, 0.5, 'Number of Views')"
      ]
     },
     "execution_count": 13,
     "metadata": {},
     "output_type": "execute_result"
    },
    {
     "data": {
      "image/png": "[encoded data removed]",
      "text/plain": [
       "<Figure size 432x288 with 1 Axes>"
      ]
     },
     "metadata": {
      "needs_background": "light"
     },
     "output_type": "display_data"
    }
   ],
   "source": [
    "views_sent_norm = []\n",
    "\n",
    "youtube_norm = youtube[youtube['views'] < 5_000_000]\n",
    "views = list(youtube_norm['views'])\n",
    "\n",
    "title_sentiment_norm, title_sentiment_ind_norm, zero_sentiment_norm = title_sentiments(youtube_norm)\n",
    "\n",
    "for i in title_sentiment_ind_norm:\n",
    "    views_sent_norm.append(views[i])\n",
    "    \n",
    "plt.scatter(title_sentiment_norm, views_sent_norm, s=5, c='g')\n",
    "plt.xlabel('Sentiment')\n",
    "plt.ylabel('Number of Views')"
   ]
  },
  {
   "cell_type": "markdown",
   "metadata": {},
   "source": [
    "In this scatterplot, the videos whose view counts exceed 5,000,000 are left out in order to observe the data clusters in better detail."
   ]
  },
  {
   "cell_type": "code",
   "execution_count": 14,
   "metadata": {},
   "outputs": [
    {
     "data": {
      "text/plain": [
       "Text(0, 0.5, 'Frequency')"
      ]
     },
     "execution_count": 14,
     "metadata": {},
     "output_type": "execute_result"
    },
    {
     "data": {
      "image/png": "[encoded data removed]",
      "text/plain": [
       "<Figure size 432x288 with 1 Axes>"
      ]
     },
     "metadata": {
      "needs_background": "light"
     },
     "output_type": "display_data"
    }
   ],
   "source": [
    "plt.hist(title_sentiment_norm, bins=20, color='green')\n",
    "plt.xlabel('Sentiment')\n",
    "plt.ylabel('Frequency')"
   ]
  },
  {
   "cell_type": "markdown",
   "metadata": {},
   "source": [
    "Removing these outliers has a very minor change to the histogram, confirming the fact that these are indeed outliers that are generally not representative of all the other videos."
   ]
  },
  {
   "cell_type": "code",
   "execution_count": 15,
   "metadata": {},
   "outputs": [
    {
     "name": "stderr",
     "output_type": "stream",
     "text": [
      "C:\\Users\\justi\\Anaconda3\\lib\\site-packages\\ipykernel_launcher.py:6: SettingWithCopyWarning: \n",
      "A value is trying to be set on a copy of a slice from a DataFrame\n",
      "\n",
      "See the caveats in the documentation: http://pandas.pydata.org/pandas-docs/stable/indexing.html#indexing-view-versus-copy\n",
      "  \n"
     ]
    },
    {
     "data": {
      "text/plain": [
       "Text(0, 0.5, 'Number of Views')"
      ]
     },
     "execution_count": 15,
     "metadata": {},
     "output_type": "execute_result"
    },
    {
     "data": {
      "image/png": "[encoded data removed]",
      "text/plain": [
       "<Figure size 432x288 with 1 Axes>"
      ]
     },
     "metadata": {
      "needs_background": "light"
     },
     "output_type": "display_data"
    }
   ],
   "source": [
    "views_sent_viral = []\n",
    "\n",
    "youtube_viral = youtube[youtube['views'] > 5_000_000]\n",
    "views = list(youtube_viral['views'])\n",
    "\n",
    "title_sentiment_viral, title_sentiment_ind_viral, zero_sentiment_viral = title_sentiments(youtube_viral)\n",
    "\n",
    "for i in title_sentiment_ind_viral:\n",
    "    views_sent_viral.append(views[i])\n",
    "    \n",
    "plt.scatter(title_sentiment_viral, views_sent_viral, s=5, c='r')\n",
    "plt.xlabel('Sentiment')\n",
    "plt.ylabel('Number of Views')"
   ]
  },
  {
   "cell_type": "markdown",
   "metadata": {},
   "source": [
    "Here we examine what all of the outliers would look like in their own scatter plot. It appears that many of these viral videos tend towards the negative sentiment side, with few videos that are very positive."
   ]
  },
  {
   "cell_type": "code",
   "execution_count": 16,
   "metadata": {},
   "outputs": [
    {
     "data": {
      "text/plain": [
       "Text(0, 0.5, 'Frequency')"
      ]
     },
     "execution_count": 16,
     "metadata": {},
     "output_type": "execute_result"
    },
    {
     "data": {
      "image/png": "[encoded data removed]",
      "text/plain": [
       "<Figure size 432x288 with 1 Axes>"
      ]
     },
     "metadata": {
      "needs_background": "light"
     },
     "output_type": "display_data"
    }
   ],
   "source": [
    "plt.hist(title_sentiment_viral, bins=20, color='red')\n",
    "plt.xlabel('Sentiment')\n",
    "plt.ylabel('Frequency')"
   ]
  },
  {
   "cell_type": "markdown",
   "metadata": {},
   "source": [
    "The histogram confirms our belief that the viral videos skew towards the negative."
   ]
  },
  {
   "cell_type": "code",
   "execution_count": 17,
   "metadata": {},
   "outputs": [
    {
     "data": {
      "text/plain": [
       "Text(0, 0.5, 'Number of Views')"
      ]
     },
     "execution_count": 17,
     "metadata": {},
     "output_type": "execute_result"
    },
    {
     "data": {
      "image/png": "[encoded data removed]",
      "text/plain": [
       "<Figure size 432x288 with 1 Axes>"
      ]
     },
     "metadata": {
      "needs_background": "light"
     },
     "output_type": "display_data"
    }
   ],
   "source": [
    "plt.scatter(title_sentiment_norm, views_sent_norm, s=5, c='g')\n",
    "plt.scatter(title_sentiment_viral, views_sent_viral, s=5, c='r')\n",
    "plt.xlabel('Sentiment')\n",
    "plt.ylabel('Number of Views')"
   ]
  },
  {
   "cell_type": "markdown",
   "metadata": {},
   "source": [
    "Here we replot the outliers with the regular videos to observe their relationship in context."
   ]
  },
  {
   "cell_type": "code",
   "execution_count": 18,
   "metadata": {},
   "outputs": [
    {
     "data": {
      "text/plain": [
       "Text(0, 0.5, 'Frequency')"
      ]
     },
     "execution_count": 18,
     "metadata": {},
     "output_type": "execute_result"
    },
    {
     "data": {
      "image/png": "[encoded data removed]",
      "text/plain": [
       "<Figure size 432x288 with 1 Axes>"
      ]
     },
     "metadata": {
      "needs_background": "light"
     },
     "output_type": "display_data"
    }
   ],
   "source": [
    "plt.hist(title_sentiment_norm, bins=20, color='green')\n",
    "plt.hist(title_sentiment_viral, bins=20, color='red')\n",
    "plt.xlabel('Sentiment')\n",
    "plt.ylabel('Frequency')"
   ]
  },
  {
   "cell_type": "code",
   "execution_count": 19,
   "metadata": {},
   "outputs": [
    {
     "name": "stdout",
     "output_type": "stream",
     "text": [
      "              views  count_tags\n",
      "views       1.00000     0.54114\n",
      "count_tags  0.54114     1.00000\n"
     ]
    }
   ],
   "source": [
    "#df['sentiment'] = title_sentiment\n",
    "print(df.corr())"
   ]
  },
  {
   "cell_type": "code",
   "execution_count": 21,
   "metadata": {},
   "outputs": [
    {
     "name": "stdout",
     "output_type": "stream",
     "text": [
      "(602, 6)\n"
     ]
    }
   ],
   "source": [
    "print(youtube.shape)"
   ]
  }
 ],
 "metadata": {
  "kernelspec": {
   "display_name": "Python 3",
   "language": "python",
   "name": "python3"
  },
  "language_info": {
   "codemirror_mode": {
    "name": "ipython",
    "version": 3
   },
   "file_extension": ".py",
   "mimetype": "text/x-python",
   "name": "python",
   "nbconvert_exporter": "python",
   "pygments_lexer": "ipython3",
   "version": "3.7.3"
  }
 },
 "nbformat": 4,
 "nbformat_minor": 2
}
